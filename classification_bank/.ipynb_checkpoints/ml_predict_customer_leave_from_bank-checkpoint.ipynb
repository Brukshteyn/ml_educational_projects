{
 "cells": [
  {
   "cell_type": "markdown",
   "id": "2e7bb518",
   "metadata": {},
   "source": [
    "# Обучение с учителем\n",
    "### Описание проекта\n",
    "Из «Бета-Банка» стали уходить клиенты. Каждый месяц. Немного, но заметно. Банковские маркетологи посчитали: сохранять текущих клиентов дешевле, чем привлекать новых.<br>\n",
    "Нужно спрогнозировать, уйдёт клиент из банка в ближайшее время или нет. Вам предоставлены исторические данные о поведении клиентов и расторжении договоров с банком.<br>\n",
    "Постройте модель с предельно большим значением F1-меры. Чтобы сдать проект успешно, нужно довести метрику до 0.59. Проверьте F1-меру на тестовой выборке самостоятельно.<br>\n",
    "Дополнительно измеряйте AUC-ROC, сравнивайте её значение с F1-мерой.<br>\n",
    "\n",
    "#### Признаки\n",
    "- RowNumber — индекс строки в данных\n",
    "- CustomerId — уникальный идентификатор клиента\n",
    "- Surname — фамилия\n",
    "- CreditScore — кредитный рейтинг\n",
    "- Geography — страна проживания\n",
    "- Gender — пол\n",
    "- Age — возраст\n",
    "- Tenure — сколько лет человек является клиентом банка\n",
    "- Balance — баланс на счёте\n",
    "- NumOfProducts — количество продуктов банка, используемых клиентом\n",
    "- HasCrCard — наличие кредитной карты\n",
    "- IsActiveMember — активность клиента\n",
    "- EstimatedSalary — предполагаемая зарплата\n",
    "\n",
    "#### Целевой признак\n",
    "- Exited — факт ухода клиента"
   ]
  },
  {
   "cell_type": "code",
   "execution_count": 1,
   "id": "88a31955",
   "metadata": {},
   "outputs": [],
   "source": [
    "import pandas as pd\n",
    "import numpy as np\n",
    "import matplotlib.pyplot as plt\n",
    "from sklearn.metrics import accuracy_score, recall_score, precision_score, f1_score, confusion_matrix, roc_curve, roc_auc_score \n",
    "from sklearn.model_selection import train_test_split\n",
    "from sklearn.preprocessing import StandardScaler\n",
    "from sklearn.utils import shuffle\n",
    "from sklearn.tree import DecisionTreeClassifier\n",
    "from sklearn.ensemble import RandomForestClassifier\n",
    "from sklearn.linear_model import LogisticRegression"
   ]
  },
  {
   "cell_type": "code",
   "execution_count": 2,
   "id": "84d9c0fb",
   "metadata": {},
   "outputs": [
    {
     "data": {
      "text/html": [
       "<div>\n",
       "<style scoped>\n",
       "    .dataframe tbody tr th:only-of-type {\n",
       "        vertical-align: middle;\n",
       "    }\n",
       "\n",
       "    .dataframe tbody tr th {\n",
       "        vertical-align: top;\n",
       "    }\n",
       "\n",
       "    .dataframe thead th {\n",
       "        text-align: right;\n",
       "    }\n",
       "</style>\n",
       "<table border=\"1\" class=\"dataframe\">\n",
       "  <thead>\n",
       "    <tr style=\"text-align: right;\">\n",
       "      <th></th>\n",
       "      <th>RowNumber</th>\n",
       "      <th>CustomerId</th>\n",
       "      <th>Surname</th>\n",
       "      <th>CreditScore</th>\n",
       "      <th>Geography</th>\n",
       "      <th>Gender</th>\n",
       "      <th>Age</th>\n",
       "      <th>Tenure</th>\n",
       "      <th>Balance</th>\n",
       "      <th>NumOfProducts</th>\n",
       "      <th>HasCrCard</th>\n",
       "      <th>IsActiveMember</th>\n",
       "      <th>EstimatedSalary</th>\n",
       "      <th>Exited</th>\n",
       "    </tr>\n",
       "  </thead>\n",
       "  <tbody>\n",
       "    <tr>\n",
       "      <th>0</th>\n",
       "      <td>1</td>\n",
       "      <td>15634602</td>\n",
       "      <td>Hargrave</td>\n",
       "      <td>619</td>\n",
       "      <td>France</td>\n",
       "      <td>Female</td>\n",
       "      <td>42</td>\n",
       "      <td>2.0</td>\n",
       "      <td>0.00</td>\n",
       "      <td>1</td>\n",
       "      <td>1</td>\n",
       "      <td>1</td>\n",
       "      <td>101348.88</td>\n",
       "      <td>1</td>\n",
       "    </tr>\n",
       "    <tr>\n",
       "      <th>1</th>\n",
       "      <td>2</td>\n",
       "      <td>15647311</td>\n",
       "      <td>Hill</td>\n",
       "      <td>608</td>\n",
       "      <td>Spain</td>\n",
       "      <td>Female</td>\n",
       "      <td>41</td>\n",
       "      <td>1.0</td>\n",
       "      <td>83807.86</td>\n",
       "      <td>1</td>\n",
       "      <td>0</td>\n",
       "      <td>1</td>\n",
       "      <td>112542.58</td>\n",
       "      <td>0</td>\n",
       "    </tr>\n",
       "    <tr>\n",
       "      <th>2</th>\n",
       "      <td>3</td>\n",
       "      <td>15619304</td>\n",
       "      <td>Onio</td>\n",
       "      <td>502</td>\n",
       "      <td>France</td>\n",
       "      <td>Female</td>\n",
       "      <td>42</td>\n",
       "      <td>8.0</td>\n",
       "      <td>159660.80</td>\n",
       "      <td>3</td>\n",
       "      <td>1</td>\n",
       "      <td>0</td>\n",
       "      <td>113931.57</td>\n",
       "      <td>1</td>\n",
       "    </tr>\n",
       "    <tr>\n",
       "      <th>3</th>\n",
       "      <td>4</td>\n",
       "      <td>15701354</td>\n",
       "      <td>Boni</td>\n",
       "      <td>699</td>\n",
       "      <td>France</td>\n",
       "      <td>Female</td>\n",
       "      <td>39</td>\n",
       "      <td>1.0</td>\n",
       "      <td>0.00</td>\n",
       "      <td>2</td>\n",
       "      <td>0</td>\n",
       "      <td>0</td>\n",
       "      <td>93826.63</td>\n",
       "      <td>0</td>\n",
       "    </tr>\n",
       "    <tr>\n",
       "      <th>4</th>\n",
       "      <td>5</td>\n",
       "      <td>15737888</td>\n",
       "      <td>Mitchell</td>\n",
       "      <td>850</td>\n",
       "      <td>Spain</td>\n",
       "      <td>Female</td>\n",
       "      <td>43</td>\n",
       "      <td>2.0</td>\n",
       "      <td>125510.82</td>\n",
       "      <td>1</td>\n",
       "      <td>1</td>\n",
       "      <td>1</td>\n",
       "      <td>79084.10</td>\n",
       "      <td>0</td>\n",
       "    </tr>\n",
       "  </tbody>\n",
       "</table>\n",
       "</div>"
      ],
      "text/plain": [
       "   RowNumber  CustomerId   Surname  CreditScore Geography  Gender  Age  \\\n",
       "0          1    15634602  Hargrave          619    France  Female   42   \n",
       "1          2    15647311      Hill          608     Spain  Female   41   \n",
       "2          3    15619304      Onio          502    France  Female   42   \n",
       "3          4    15701354      Boni          699    France  Female   39   \n",
       "4          5    15737888  Mitchell          850     Spain  Female   43   \n",
       "\n",
       "   Tenure    Balance  NumOfProducts  HasCrCard  IsActiveMember  \\\n",
       "0     2.0       0.00              1          1               1   \n",
       "1     1.0   83807.86              1          0               1   \n",
       "2     8.0  159660.80              3          1               0   \n",
       "3     1.0       0.00              2          0               0   \n",
       "4     2.0  125510.82              1          1               1   \n",
       "\n",
       "   EstimatedSalary  Exited  \n",
       "0        101348.88       1  \n",
       "1        112542.58       0  \n",
       "2        113931.57       1  \n",
       "3         93826.63       0  \n",
       "4         79084.10       0  "
      ]
     },
     "execution_count": 2,
     "metadata": {},
     "output_type": "execute_result"
    }
   ],
   "source": [
    "#data = pd.read_csv('Churn.csv')\n",
    "# ячейка дописана ревьюером\n",
    "try:\n",
    "    data = pd.read_csv('Churn.csv')\n",
    "except:\n",
    "    data = pd.read_csv('https://code.s3.yandex.net/datasets/Churn.csv')\n",
    "data.head()"
   ]
  },
  {
   "cell_type": "code",
   "execution_count": 3,
   "id": "40d99eea",
   "metadata": {
    "scrolled": true
   },
   "outputs": [
    {
     "name": "stdout",
     "output_type": "stream",
     "text": [
      "<class 'pandas.core.frame.DataFrame'>\n",
      "RangeIndex: 10000 entries, 0 to 9999\n",
      "Data columns (total 14 columns):\n",
      " #   Column           Non-Null Count  Dtype  \n",
      "---  ------           --------------  -----  \n",
      " 0   RowNumber        10000 non-null  int64  \n",
      " 1   CustomerId       10000 non-null  int64  \n",
      " 2   Surname          10000 non-null  object \n",
      " 3   CreditScore      10000 non-null  int64  \n",
      " 4   Geography        10000 non-null  object \n",
      " 5   Gender           10000 non-null  object \n",
      " 6   Age              10000 non-null  int64  \n",
      " 7   Tenure           9091 non-null   float64\n",
      " 8   Balance          10000 non-null  float64\n",
      " 9   NumOfProducts    10000 non-null  int64  \n",
      " 10  HasCrCard        10000 non-null  int64  \n",
      " 11  IsActiveMember   10000 non-null  int64  \n",
      " 12  EstimatedSalary  10000 non-null  float64\n",
      " 13  Exited           10000 non-null  int64  \n",
      "dtypes: float64(3), int64(8), object(3)\n",
      "memory usage: 1.1+ MB\n"
     ]
    }
   ],
   "source": [
    "data.info()"
   ]
  },
  {
   "cell_type": "code",
   "execution_count": 4,
   "id": "f870bcd7",
   "metadata": {
    "scrolled": true
   },
   "outputs": [
    {
     "data": {
      "text/plain": [
       "count    9091.000000\n",
       "mean        4.997690\n",
       "std         2.894723\n",
       "min         0.000000\n",
       "25%         2.000000\n",
       "50%         5.000000\n",
       "75%         7.000000\n",
       "max        10.000000\n",
       "Name: Tenure, dtype: float64"
      ]
     },
     "execution_count": 4,
     "metadata": {},
     "output_type": "execute_result"
    }
   ],
   "source": [
    "data['Tenure'].describe()"
   ]
  },
  {
   "cell_type": "markdown",
   "id": "db2729d9",
   "metadata": {},
   "source": [
    "Медиана и среднее равны, считаю верным запонить пропуски медианой. "
   ]
  },
  {
   "cell_type": "code",
   "execution_count": 5,
   "id": "d6a36d46",
   "metadata": {},
   "outputs": [],
   "source": [
    "data['Tenure']  = data['Tenure'].fillna(data['Tenure'].median())"
   ]
  },
  {
   "cell_type": "code",
   "execution_count": 6,
   "id": "1aff6dfe",
   "metadata": {},
   "outputs": [
    {
     "name": "stdout",
     "output_type": "stream",
     "text": [
      "<class 'pandas.core.frame.DataFrame'>\n",
      "RangeIndex: 10000 entries, 0 to 9999\n",
      "Data columns (total 14 columns):\n",
      " #   Column           Non-Null Count  Dtype  \n",
      "---  ------           --------------  -----  \n",
      " 0   RowNumber        10000 non-null  int64  \n",
      " 1   CustomerId       10000 non-null  int64  \n",
      " 2   Surname          10000 non-null  object \n",
      " 3   CreditScore      10000 non-null  int64  \n",
      " 4   Geography        10000 non-null  object \n",
      " 5   Gender           10000 non-null  object \n",
      " 6   Age              10000 non-null  int64  \n",
      " 7   Tenure           10000 non-null  float64\n",
      " 8   Balance          10000 non-null  float64\n",
      " 9   NumOfProducts    10000 non-null  int64  \n",
      " 10  HasCrCard        10000 non-null  int64  \n",
      " 11  IsActiveMember   10000 non-null  int64  \n",
      " 12  EstimatedSalary  10000 non-null  float64\n",
      " 13  Exited           10000 non-null  int64  \n",
      "dtypes: float64(3), int64(8), object(3)\n",
      "memory usage: 1.1+ MB\n"
     ]
    }
   ],
   "source": [
    "data.info()"
   ]
  },
  {
   "cell_type": "markdown",
   "id": "20c091d7",
   "metadata": {},
   "source": [
    "Проверим не коррелируют ли данные:"
   ]
  },
  {
   "cell_type": "code",
   "execution_count": 7,
   "id": "8120b694",
   "metadata": {},
   "outputs": [
    {
     "data": {
      "text/html": [
       "<div>\n",
       "<style scoped>\n",
       "    .dataframe tbody tr th:only-of-type {\n",
       "        vertical-align: middle;\n",
       "    }\n",
       "\n",
       "    .dataframe tbody tr th {\n",
       "        vertical-align: top;\n",
       "    }\n",
       "\n",
       "    .dataframe thead th {\n",
       "        text-align: right;\n",
       "    }\n",
       "</style>\n",
       "<table border=\"1\" class=\"dataframe\">\n",
       "  <thead>\n",
       "    <tr style=\"text-align: right;\">\n",
       "      <th></th>\n",
       "      <th>RowNumber</th>\n",
       "      <th>CustomerId</th>\n",
       "      <th>CreditScore</th>\n",
       "      <th>Age</th>\n",
       "      <th>Tenure</th>\n",
       "      <th>Balance</th>\n",
       "      <th>NumOfProducts</th>\n",
       "      <th>HasCrCard</th>\n",
       "      <th>IsActiveMember</th>\n",
       "      <th>EstimatedSalary</th>\n",
       "      <th>Exited</th>\n",
       "    </tr>\n",
       "  </thead>\n",
       "  <tbody>\n",
       "    <tr>\n",
       "      <th>RowNumber</th>\n",
       "      <td>1.000000</td>\n",
       "      <td>0.004202</td>\n",
       "      <td>0.005840</td>\n",
       "      <td>0.000783</td>\n",
       "      <td>-0.006979</td>\n",
       "      <td>-0.009067</td>\n",
       "      <td>0.007246</td>\n",
       "      <td>0.000599</td>\n",
       "      <td>0.012044</td>\n",
       "      <td>-0.005988</td>\n",
       "      <td>-0.016571</td>\n",
       "    </tr>\n",
       "    <tr>\n",
       "      <th>CustomerId</th>\n",
       "      <td>0.004202</td>\n",
       "      <td>1.000000</td>\n",
       "      <td>0.005308</td>\n",
       "      <td>0.009497</td>\n",
       "      <td>-0.020331</td>\n",
       "      <td>-0.012419</td>\n",
       "      <td>0.016972</td>\n",
       "      <td>-0.014025</td>\n",
       "      <td>0.001665</td>\n",
       "      <td>0.015271</td>\n",
       "      <td>-0.006248</td>\n",
       "    </tr>\n",
       "    <tr>\n",
       "      <th>CreditScore</th>\n",
       "      <td>0.005840</td>\n",
       "      <td>0.005308</td>\n",
       "      <td>1.000000</td>\n",
       "      <td>-0.003965</td>\n",
       "      <td>-0.000060</td>\n",
       "      <td>0.006268</td>\n",
       "      <td>0.012238</td>\n",
       "      <td>-0.005458</td>\n",
       "      <td>0.025651</td>\n",
       "      <td>-0.001384</td>\n",
       "      <td>-0.027094</td>\n",
       "    </tr>\n",
       "    <tr>\n",
       "      <th>Age</th>\n",
       "      <td>0.000783</td>\n",
       "      <td>0.009497</td>\n",
       "      <td>-0.003965</td>\n",
       "      <td>1.000000</td>\n",
       "      <td>-0.012606</td>\n",
       "      <td>0.028308</td>\n",
       "      <td>-0.030680</td>\n",
       "      <td>-0.011721</td>\n",
       "      <td>0.085472</td>\n",
       "      <td>-0.007201</td>\n",
       "      <td>0.285323</td>\n",
       "    </tr>\n",
       "    <tr>\n",
       "      <th>Tenure</th>\n",
       "      <td>-0.006979</td>\n",
       "      <td>-0.020331</td>\n",
       "      <td>-0.000060</td>\n",
       "      <td>-0.012606</td>\n",
       "      <td>1.000000</td>\n",
       "      <td>-0.007535</td>\n",
       "      <td>0.011409</td>\n",
       "      <td>0.025979</td>\n",
       "      <td>-0.030681</td>\n",
       "      <td>0.010049</td>\n",
       "      <td>-0.015989</td>\n",
       "    </tr>\n",
       "    <tr>\n",
       "      <th>Balance</th>\n",
       "      <td>-0.009067</td>\n",
       "      <td>-0.012419</td>\n",
       "      <td>0.006268</td>\n",
       "      <td>0.028308</td>\n",
       "      <td>-0.007535</td>\n",
       "      <td>1.000000</td>\n",
       "      <td>-0.304180</td>\n",
       "      <td>-0.014858</td>\n",
       "      <td>-0.010084</td>\n",
       "      <td>0.012797</td>\n",
       "      <td>0.118533</td>\n",
       "    </tr>\n",
       "    <tr>\n",
       "      <th>NumOfProducts</th>\n",
       "      <td>0.007246</td>\n",
       "      <td>0.016972</td>\n",
       "      <td>0.012238</td>\n",
       "      <td>-0.030680</td>\n",
       "      <td>0.011409</td>\n",
       "      <td>-0.304180</td>\n",
       "      <td>1.000000</td>\n",
       "      <td>0.003183</td>\n",
       "      <td>0.009612</td>\n",
       "      <td>0.014204</td>\n",
       "      <td>-0.047820</td>\n",
       "    </tr>\n",
       "    <tr>\n",
       "      <th>HasCrCard</th>\n",
       "      <td>0.000599</td>\n",
       "      <td>-0.014025</td>\n",
       "      <td>-0.005458</td>\n",
       "      <td>-0.011721</td>\n",
       "      <td>0.025979</td>\n",
       "      <td>-0.014858</td>\n",
       "      <td>0.003183</td>\n",
       "      <td>1.000000</td>\n",
       "      <td>-0.011866</td>\n",
       "      <td>-0.009933</td>\n",
       "      <td>-0.007138</td>\n",
       "    </tr>\n",
       "    <tr>\n",
       "      <th>IsActiveMember</th>\n",
       "      <td>0.012044</td>\n",
       "      <td>0.001665</td>\n",
       "      <td>0.025651</td>\n",
       "      <td>0.085472</td>\n",
       "      <td>-0.030681</td>\n",
       "      <td>-0.010084</td>\n",
       "      <td>0.009612</td>\n",
       "      <td>-0.011866</td>\n",
       "      <td>1.000000</td>\n",
       "      <td>-0.011421</td>\n",
       "      <td>-0.156128</td>\n",
       "    </tr>\n",
       "    <tr>\n",
       "      <th>EstimatedSalary</th>\n",
       "      <td>-0.005988</td>\n",
       "      <td>0.015271</td>\n",
       "      <td>-0.001384</td>\n",
       "      <td>-0.007201</td>\n",
       "      <td>0.010049</td>\n",
       "      <td>0.012797</td>\n",
       "      <td>0.014204</td>\n",
       "      <td>-0.009933</td>\n",
       "      <td>-0.011421</td>\n",
       "      <td>1.000000</td>\n",
       "      <td>0.012097</td>\n",
       "    </tr>\n",
       "    <tr>\n",
       "      <th>Exited</th>\n",
       "      <td>-0.016571</td>\n",
       "      <td>-0.006248</td>\n",
       "      <td>-0.027094</td>\n",
       "      <td>0.285323</td>\n",
       "      <td>-0.015989</td>\n",
       "      <td>0.118533</td>\n",
       "      <td>-0.047820</td>\n",
       "      <td>-0.007138</td>\n",
       "      <td>-0.156128</td>\n",
       "      <td>0.012097</td>\n",
       "      <td>1.000000</td>\n",
       "    </tr>\n",
       "  </tbody>\n",
       "</table>\n",
       "</div>"
      ],
      "text/plain": [
       "                 RowNumber  CustomerId  CreditScore       Age    Tenure  \\\n",
       "RowNumber         1.000000    0.004202     0.005840  0.000783 -0.006979   \n",
       "CustomerId        0.004202    1.000000     0.005308  0.009497 -0.020331   \n",
       "CreditScore       0.005840    0.005308     1.000000 -0.003965 -0.000060   \n",
       "Age               0.000783    0.009497    -0.003965  1.000000 -0.012606   \n",
       "Tenure           -0.006979   -0.020331    -0.000060 -0.012606  1.000000   \n",
       "Balance          -0.009067   -0.012419     0.006268  0.028308 -0.007535   \n",
       "NumOfProducts     0.007246    0.016972     0.012238 -0.030680  0.011409   \n",
       "HasCrCard         0.000599   -0.014025    -0.005458 -0.011721  0.025979   \n",
       "IsActiveMember    0.012044    0.001665     0.025651  0.085472 -0.030681   \n",
       "EstimatedSalary  -0.005988    0.015271    -0.001384 -0.007201  0.010049   \n",
       "Exited           -0.016571   -0.006248    -0.027094  0.285323 -0.015989   \n",
       "\n",
       "                  Balance  NumOfProducts  HasCrCard  IsActiveMember  \\\n",
       "RowNumber       -0.009067       0.007246   0.000599        0.012044   \n",
       "CustomerId      -0.012419       0.016972  -0.014025        0.001665   \n",
       "CreditScore      0.006268       0.012238  -0.005458        0.025651   \n",
       "Age              0.028308      -0.030680  -0.011721        0.085472   \n",
       "Tenure          -0.007535       0.011409   0.025979       -0.030681   \n",
       "Balance          1.000000      -0.304180  -0.014858       -0.010084   \n",
       "NumOfProducts   -0.304180       1.000000   0.003183        0.009612   \n",
       "HasCrCard       -0.014858       0.003183   1.000000       -0.011866   \n",
       "IsActiveMember  -0.010084       0.009612  -0.011866        1.000000   \n",
       "EstimatedSalary  0.012797       0.014204  -0.009933       -0.011421   \n",
       "Exited           0.118533      -0.047820  -0.007138       -0.156128   \n",
       "\n",
       "                 EstimatedSalary    Exited  \n",
       "RowNumber              -0.005988 -0.016571  \n",
       "CustomerId              0.015271 -0.006248  \n",
       "CreditScore            -0.001384 -0.027094  \n",
       "Age                    -0.007201  0.285323  \n",
       "Tenure                  0.010049 -0.015989  \n",
       "Balance                 0.012797  0.118533  \n",
       "NumOfProducts           0.014204 -0.047820  \n",
       "HasCrCard              -0.009933 -0.007138  \n",
       "IsActiveMember         -0.011421 -0.156128  \n",
       "EstimatedSalary         1.000000  0.012097  \n",
       "Exited                  0.012097  1.000000  "
      ]
     },
     "execution_count": 7,
     "metadata": {},
     "output_type": "execute_result"
    }
   ],
   "source": [
    "data.corr()"
   ]
  },
  {
   "cell_type": "markdown",
   "id": "cc26cd27",
   "metadata": {},
   "source": [
    "Хех, есть зависимость 0.28 слабая положительная между возрастом и целевым признаком, ну оставим всё как есть."
   ]
  },
  {
   "cell_type": "code",
   "execution_count": 8,
   "id": "79114ee0",
   "metadata": {},
   "outputs": [
    {
     "data": {
      "text/plain": [
       "<BarContainer object of 2 artists>"
      ]
     },
     "execution_count": 8,
     "metadata": {},
     "output_type": "execute_result"
    },
    {
     "data": {
      "image/png": "[encoded data removed]",
      "text/plain": [
       "<Figure size 432x288 with 1 Axes>"
      ]
     },
     "metadata": {
      "needs_background": "light"
     },
     "output_type": "display_data"
    }
   ],
   "source": [
    "plt.bar(x = data['Exited'].unique(), height = data['Exited'].value_counts(normalize = True) * 100, width = 1)\n",
    "# round(data['Exited'].value_counts(normalize = True) * 100, 1)"
   ]
  },
  {
   "cell_type": "markdown",
   "id": "be82e6cd",
   "metadata": {},
   "source": [
    "И так у нас два пути: <br>\n",
    "1. Увеличить количество признаков с 1 в 4 раза. \n",
    "2. Уменьшить количество признаков с 0 в 0.25 раз. <br>\n",
    "\n",
    "Возьмем функции с обучения: "
   ]
  },
  {
   "cell_type": "code",
   "execution_count": 9,
   "id": "747c26b5",
   "metadata": {},
   "outputs": [],
   "source": [
    "def upsample(features, target, repeat):\n",
    "    \"\"\" Увеличение количества строк признака с классом равным 1\n",
    "    Входа: \n",
    "    features - датасет признаков.\n",
    "    target - датасет целевого признака\n",
    "    repeat - коэффициент для балансирования\n",
    "    Выход:\n",
    "    features_upsampled - увеличенный датасет признаков.\n",
    "    target_upsampled - увеличенный датасет целевого признака\n",
    "    \"\"\"\n",
    "    features_zeros = features[target == 0]\n",
    "    features_ones = features[target == 1]\n",
    "    target_zeros = target[target == 0]\n",
    "    target_ones = target[target == 1]\n",
    "    features_upsampled = pd.concat([features_zeros] + [features_ones] * repeat)\n",
    "    target_upsampled = pd.concat([target_zeros] + [target_ones] * repeat)\n",
    "    features_upsampled, target_upsampled = shuffle(\n",
    "        features_upsampled, target_upsampled, random_state=12345)\n",
    "    return features_upsampled, target_upsampled"
   ]
  },
  {
   "cell_type": "code",
   "execution_count": 10,
   "id": "64ec5e85",
   "metadata": {},
   "outputs": [],
   "source": [
    "def downsample(features, target, fraction):\n",
    "    \"\"\" Увеличение количества строк признака с классом равным 1\n",
    "    Входа: \n",
    "    features - датасет признаков.\n",
    "    target - датасет целевого признака\n",
    "    fraction - коэффициент для балансирования\n",
    "    Выход:\n",
    "    features_upsampled - уменьшенный датасет признаков.\n",
    "    target_upsampled - уменьшенный датасет целевого признака\n",
    "    \"\"\"\n",
    "    features_zeros = features[target == 0]\n",
    "    features_ones = features[target == 1]\n",
    "    target_zeros = target[target == 0]\n",
    "    target_ones = target[target == 1]\n",
    "\n",
    "    features_downsampled = pd.concat(\n",
    "        [features_zeros.sample(frac=fraction, random_state=12345)] + [features_ones])\n",
    "    target_downsampled = pd.concat(\n",
    "        [target_zeros.sample(frac=fraction, random_state=12345)] + [target_ones])\n",
    "    \n",
    "    features_downsampled, target_downsampled = shuffle(\n",
    "        features_downsampled, target_downsampled, random_state=12345)\n",
    "    return features_downsampled, target_downsampled"
   ]
  },
  {
   "cell_type": "markdown",
   "id": "ebbe39d0",
   "metadata": {},
   "source": [
    "А это мои вспомогательные функции: "
   ]
  },
  {
   "cell_type": "code",
   "execution_count": 11,
   "id": "2209d4e0",
   "metadata": {},
   "outputs": [],
   "source": [
    "data = data.drop(columns = ['RowNumber', 'CustomerId', 'Surname'])"
   ]
  },
  {
   "cell_type": "code",
   "execution_count": 12,
   "id": "02b22ec9",
   "metadata": {},
   "outputs": [],
   "source": [
    "def edit_data(data, target, categorial_columns = []):\n",
    "    '''Функция для подготовки датасета к анализу:\n",
    "    Вход:\n",
    "    data - входной датасет признаков\n",
    "    target - датасет целевого признака\n",
    "    categorial_columns - столбцы с категориальными величинами\n",
    "    up - необходимое увеличение целевого признака, по умолчанию ничего не будет происходить\n",
    "    down - уменьшение признаков, по умолчанию ничего происходить не будет\n",
    "    Выход: \n",
    "    features, target - приведенные датасеты признаков и целевой переменной\n",
    "    '''\n",
    "    if len(categorial_columns) != 0:\n",
    "        data = pd.get_dummies(data, columns=categorial_columns, drop_first = True)\n",
    "    for i in data.columns:\n",
    "        data[i] = data[i].astype('float')\n",
    "        \n",
    "    scaler = StandardScaler()\n",
    "    scaler.fit(data)\n",
    "    data[data.columns] = scaler.transform(data)\n",
    "    return data, target"
   ]
  },
  {
   "cell_type": "code",
   "execution_count": 13,
   "id": "53b506bc",
   "metadata": {},
   "outputs": [],
   "source": [
    "def plt_roc_auc(probabilities_one_valid, target_valid):\n",
    "    \"\"\"Функция необходимая для построения кривой AUC-ROC\"\"\"\n",
    "    fpr, tpr, thresholds = roc_curve(target_valid, probabilities_one_valid)\n",
    "    plt.figure()\n",
    "    \n",
    "    plt.plot(fpr, tpr)\n",
    "    plt.plot([0, 1], [0, 1], linestyle='--')\n",
    "\n",
    "    plt.xlim([0, 1]) \n",
    "    plt.ylim([0, 1])\n",
    "\n",
    "    plt.xlabel(\"False Positive Rate\") \n",
    "    plt.ylabel(\"True Positive Rate\")\n",
    "    plt.title(\"ROC-кривая\")\n",
    "\n",
    "    plt.show()"
   ]
  },
  {
   "cell_type": "code",
   "execution_count": 14,
   "id": "60642670",
   "metadata": {},
   "outputs": [],
   "source": [
    "def get_result(features, data_target, up = None, down = None):\n",
    "    '''перебор и отыскания лучшей модели для классификации, по метрике f1_score\n",
    "    Входа: \n",
    "    features - датасет признаков.\n",
    "    data_target - датасет целевого признака\n",
    "    up = None - Увеличение признака для устранения дисбаланса, по умолчанию None, то есть не используется. \n",
    "    down = None - Уменьшение признака для устранения дисбаланса, по умолчанию None, то есть не используется. \n",
    "    выход:\n",
    "    best_model - наилучшая модель\n",
    "    '''\n",
    "    x_train, x_valid, y_train, y_valid = train_test_split(features, \n",
    "                                                        data_target, \n",
    "                                                        test_size=0.25, \n",
    "                                                        random_state=12345)\n",
    "    if up != None:\n",
    "        x_train, y_train = upsample(x_train, y_train, up)\n",
    "    if down != None:\n",
    "        x_train, y_train = downsample(x_train, y_train, down)\n",
    "    \n",
    "    best_model = ''\n",
    "    estimate = 0\n",
    "    for param in [None, 'balanced']:\n",
    "        model = LogisticRegression(random_state = 12345 ,class_weight = param)\n",
    "        model.fit(x_train, y_train)\n",
    "        if f1_score(model.predict(x_valid), y_valid) > estimate:\n",
    "            estimate = f1_score(model.predict(x_valid), y_valid)\n",
    "            best_model = model\n",
    "            \n",
    "    for depth in range(1, 40, 2):\n",
    "        model = DecisionTreeClassifier(max_depth = depth, random_state = 12345)\n",
    "        model.fit(x_train, y_train)\n",
    "        if f1_score(model.predict(x_valid), y_valid) > estimate:\n",
    "            best_model = model\n",
    "            estimate = f1_score(model.predict(x_valid), y_valid)\n",
    "            \n",
    "    max_depth = 0\n",
    "    for depth in range(1, 20, 2):\n",
    "        model = RandomForestClassifier(max_depth = depth, random_state = 12345)\n",
    "        model.fit(x_train, y_train)\n",
    "        if f1_score(model.predict(x_valid), y_valid) > estimate:\n",
    "            best_forest_model = model\n",
    "            estimate = f1_score(model.predict(x_valid), y_valid)\n",
    "            max_depth = depth\n",
    "            \n",
    "    for est in range(50, 501, 50):\n",
    "        model = RandomForestClassifier(n_estimators = est, max_depth = max_depth, random_state = 12345)\n",
    "        model.fit(x_train, y_train)\n",
    "        if f1_score(model.predict(x_valid), y_valid) > estimate:\n",
    "            best_forest_model = model\n",
    "            estimate = f1_score(model.predict(x_valid), y_valid)\n",
    "    plt_roc_auc(best_model.predict_proba(x_valid)[:, 1], y_valid)\n",
    "    print('roc_auc_score:', roc_auc_score(y_valid, best_model.predict_proba(x_valid)[:, 1]))\n",
    "    print('f1_score:', estimate)\n",
    "    return best_model"
   ]
  },
  {
   "cell_type": "code",
   "execution_count": 15,
   "id": "00f9c426",
   "metadata": {},
   "outputs": [],
   "source": [
    "features, target = edit_data(data.drop(columns = ['Exited']), \n",
    "                             data['Exited'], \n",
    "                             categorial_columns = ['Geography', 'Gender'])"
   ]
  },
  {
   "cell_type": "code",
   "execution_count": 16,
   "id": "8618ddac",
   "metadata": {},
   "outputs": [],
   "source": [
    "data_f, data_test, data_t, target_test = train_test_split(features, \n",
    "                                                          target, \n",
    "                                                          test_size=0.2, \n",
    "                                                          random_state=12345)"
   ]
  },
  {
   "cell_type": "code",
   "execution_count": 17,
   "id": "b70c617a",
   "metadata": {},
   "outputs": [
    {
     "data": {
      "image/png": "[encoded data removed]",
      "text/plain": [
       "<Figure size 432x288 with 1 Axes>"
      ]
     },
     "metadata": {
      "needs_background": "light"
     },
     "output_type": "display_data"
    },
    {
     "name": "stdout",
     "output_type": "stream",
     "text": [
      "roc_auc_score: 0.8235310012891044\n",
      "f1_score: 0.5691318327974277\n",
      "DecisionTreeClassifier(max_depth=7, random_state=12345)\n",
      "Wall time: 1min 5s\n"
     ]
    }
   ],
   "source": [
    "%%time\n",
    "model_1 = get_result(data_f, data_t)\n",
    "print(model_1) "
   ]
  },
  {
   "cell_type": "markdown",
   "id": "7e702f51",
   "metadata": {},
   "source": [
    "Ах!, все сделали, но если классы не сбалансировать, то f1_score = 0.59 нам не достичь! "
   ]
  },
  {
   "cell_type": "code",
   "execution_count": 18,
   "id": "c8b26d27",
   "metadata": {},
   "outputs": [
    {
     "data": {
      "image/png": "[encoded data removed]",
      "text/plain": [
       "<Figure size 432x288 with 1 Axes>"
      ]
     },
     "metadata": {
      "needs_background": "light"
     },
     "output_type": "display_data"
    },
    {
     "name": "stdout",
     "output_type": "stream",
     "text": [
      "roc_auc_score: 0.8461211386173932\n",
      "f1_score: 0.6447058823529411\n",
      "DecisionTreeClassifier(max_depth=5, random_state=12345)\n",
      "Wall time: 1min 11s\n"
     ]
    }
   ],
   "source": [
    "%%time\n",
    "model_2 = get_result(features, target, up = 4)\n",
    "print(model_2) "
   ]
  },
  {
   "cell_type": "markdown",
   "id": "b80a001b",
   "metadata": {},
   "source": [
    "С помощью дерева решений и max_depth = 21 мы перешли порог! "
   ]
  },
  {
   "cell_type": "code",
   "execution_count": 19,
   "id": "db7c1971",
   "metadata": {},
   "outputs": [
    {
     "data": {
      "image/png": "[encoded data removed]",
      "text/plain": [
       "<Figure size 432x288 with 1 Axes>"
      ]
     },
     "metadata": {
      "needs_background": "light"
     },
     "output_type": "display_data"
    },
    {
     "name": "stdout",
     "output_type": "stream",
     "text": [
      "roc_auc_score: 0.8435504506432666\n",
      "f1_score: 0.6184501845018451\n",
      "DecisionTreeClassifier(max_depth=5, random_state=12345)\n",
      "Wall time: 1min\n"
     ]
    }
   ],
   "source": [
    "%%time\n",
    "model_3 = get_result(features, target, down = 0.25)\n",
    "print(model_3) "
   ]
  },
  {
   "cell_type": "code",
   "execution_count": 20,
   "id": "f31dda8e",
   "metadata": {},
   "outputs": [
    {
     "data": {
      "text/plain": [
       "0.6075433231396534"
      ]
     },
     "execution_count": 20,
     "metadata": {},
     "output_type": "execute_result"
    }
   ],
   "source": [
    "f1_score(target_test, model_2.predict(data_test))"
   ]
  }
 ],
 "metadata": {
  "ExecuteTimeLog": [
   {
    "duration": 1640,
    "start_time": "2022-04-23T16:17:17.379Z"
   },
   {
    "duration": 174,
    "start_time": "2022-04-23T16:17:19.023Z"
   },
   {
    "duration": 0,
    "start_time": "2022-04-23T16:17:19.200Z"
   },
   {
    "duration": 0,
    "start_time": "2022-04-23T16:17:19.201Z"
   },
   {
    "duration": 0,
    "start_time": "2022-04-23T16:17:19.201Z"
   },
   {
    "duration": 0,
    "start_time": "2022-04-23T16:17:19.202Z"
   },
   {
    "duration": 0,
    "start_time": "2022-04-23T16:17:19.203Z"
   },
   {
    "duration": 0,
    "start_time": "2022-04-23T16:17:19.207Z"
   },
   {
    "duration": 0,
    "start_time": "2022-04-23T16:17:19.209Z"
   },
   {
    "duration": 0,
    "start_time": "2022-04-23T16:17:19.219Z"
   },
   {
    "duration": 0,
    "start_time": "2022-04-23T16:17:19.221Z"
   },
   {
    "duration": 0,
    "start_time": "2022-04-23T16:17:19.222Z"
   },
   {
    "duration": 0,
    "start_time": "2022-04-23T16:17:19.224Z"
   },
   {
    "duration": 0,
    "start_time": "2022-04-23T16:17:19.226Z"
   },
   {
    "duration": 0,
    "start_time": "2022-04-23T16:17:19.227Z"
   },
   {
    "duration": 0,
    "start_time": "2022-04-23T16:17:19.228Z"
   },
   {
    "duration": 0,
    "start_time": "2022-04-23T16:17:19.229Z"
   },
   {
    "duration": 0,
    "start_time": "2022-04-23T16:17:19.230Z"
   },
   {
    "duration": 0,
    "start_time": "2022-04-23T16:17:19.231Z"
   },
   {
    "duration": 0,
    "start_time": "2022-04-23T16:17:19.232Z"
   },
   {
    "duration": 0,
    "start_time": "2022-04-23T16:17:19.234Z"
   },
   {
    "duration": 0,
    "start_time": "2022-04-23T16:17:19.235Z"
   },
   {
    "duration": 0,
    "start_time": "2022-04-23T16:17:19.236Z"
   },
   {
    "duration": 73,
    "start_time": "2022-04-23T16:20:57.633Z"
   },
   {
    "duration": 1547,
    "start_time": "2022-04-23T16:21:16.507Z"
   },
   {
    "duration": 43,
    "start_time": "2022-04-23T16:21:18.058Z"
   },
   {
    "duration": 25,
    "start_time": "2022-04-23T16:21:18.103Z"
   },
   {
    "duration": 10,
    "start_time": "2022-04-23T16:21:18.130Z"
   },
   {
    "duration": 5,
    "start_time": "2022-04-23T16:21:18.142Z"
   },
   {
    "duration": 13,
    "start_time": "2022-04-23T16:21:18.149Z"
   },
   {
    "duration": 62,
    "start_time": "2022-04-23T16:21:18.165Z"
   },
   {
    "duration": 9,
    "start_time": "2022-04-23T16:21:18.228Z"
   },
   {
    "duration": 5,
    "start_time": "2022-04-23T16:21:18.238Z"
   },
   {
    "duration": 7,
    "start_time": "2022-04-23T16:21:18.246Z"
   },
   {
    "duration": 11,
    "start_time": "2022-04-23T16:21:18.254Z"
   },
   {
    "duration": 65,
    "start_time": "2022-04-23T16:21:18.267Z"
   },
   {
    "duration": 15,
    "start_time": "2022-04-23T16:21:18.334Z"
   },
   {
    "duration": 8,
    "start_time": "2022-04-23T16:21:18.351Z"
   },
   {
    "duration": 6,
    "start_time": "2022-04-23T16:21:18.360Z"
   },
   {
    "duration": 6,
    "start_time": "2022-04-23T16:21:18.368Z"
   },
   {
    "duration": 15,
    "start_time": "2022-04-23T16:21:18.411Z"
   },
   {
    "duration": 31986,
    "start_time": "2022-04-23T16:21:18.429Z"
   },
   {
    "duration": 38222,
    "start_time": "2022-04-23T16:21:50.417Z"
   },
   {
    "duration": 16671,
    "start_time": "2022-04-23T16:22:28.641Z"
   },
   {
    "duration": 41,
    "start_time": "2022-04-23T16:22:45.314Z"
   },
   {
    "duration": 52,
    "start_time": "2022-04-23T16:22:45.357Z"
   },
   {
    "duration": 56,
    "start_time": "2022-04-23T16:22:45.414Z"
   },
   {
    "duration": 74,
    "start_time": "2022-04-23T17:30:08.436Z"
   },
   {
    "duration": 18,
    "start_time": "2022-04-23T17:54:17.666Z"
   }
  ],
  "kernelspec": {
   "display_name": "Python 3 (ipykernel)",
   "language": "python",
   "name": "python3"
  },
  "language_info": {
   "codemirror_mode": {
    "name": "ipython",
    "version": 3
   },
   "file_extension": ".py",
   "mimetype": "text/x-python",
   "name": "python",
   "nbconvert_exporter": "python",
   "pygments_lexer": "ipython3",
   "version": "3.9.7"
  },
  "toc": {
   "base_numbering": 1,
   "nav_menu": {},
   "number_sections": true,
   "sideBar": true,
   "skip_h1_title": true,
   "title_cell": "Table of Contents",
   "title_sidebar": "Contents",
   "toc_cell": false,
   "toc_position": {},
   "toc_section_display": true,
   "toc_window_display": false
  }
 },
 "nbformat": 4,
 "nbformat_minor": 5
}
