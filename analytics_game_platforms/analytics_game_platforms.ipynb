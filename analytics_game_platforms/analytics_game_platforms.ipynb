{
 "cells": [
  {
   "cell_type": "markdown",
   "metadata": {},
   "source": [
    "## Общая информация"
   ]
  },
  {
   "cell_type": "markdown",
   "metadata": {},
   "source": [
    "Вы работаете в интернет-магазине «Стримчик», который продаёт по всему миру  компьютерные игры. Из открытых источников доступны исторические данные о продажах игр, оценки пользователей и экспертов, жанры и платформы  (например, Xbox или PlayStation). Вам нужно выявить определяющие успешность  игры закономерности. Это позволит сделать ставку на потенциально популярный  продукт и спланировать рекламные кампании. \n",
    "Перед вами данные до 2016 года. Представим, что сейчас декабрь 2016 г., и вы  планируете кампанию на 2017-й. Нужно отработать принцип работы с данными.  \n",
    "Неважно, прогнозируете ли вы продажи на 2017 год по данным 2016-го или же  2027-й — по данным 2026 года. \n",
    "В наборе данных попадается аббревиатура ESRB (Entertainment Software Rating  Board) — это ассоциация, определяющая возрастной рейтинг компьютерных  \n",
    "игр. ESRB оценивает игровой контент и присваивает ему подходящую возрастную  категорию, например, «Для взрослых», «Для детей младшего возраста» или «Для  подростков». \n",
    "\n",
    "\n",
    "Name — название игры <br>\n",
    "Platform — платформа <br>\n",
    "Year_of_Release — год выпуска <br>\n",
    "Genre — жанр игры <br>\n",
    "NA_sales — продажи в Северной Америке (миллионы проданных копий) <br>\n",
    "EU_sales — продажи в Европе (миллионы проданных копий) <br>\n",
    "JP_sales — продажи в Японии (миллионы проданных копий) <br>\n",
    "Other_sales — продажи в других странах (миллионы проданных копий) <br>\n",
    "Critic_Score — оценка критиков (максимум 100) <br>\n",
    "User_Score — оценка пользователей (максимум 10) <br>\n",
    "Rating — рейтинг от организации ESRB (англ. Entertainment Software Rating  Board). Эта ассоциация определяет рейтинг компьютерных игр и присваивает  им подходящую возрастную категорию. \n"
   ]
  },
  {
   "cell_type": "code",
   "execution_count": 1,
   "metadata": {},
   "outputs": [],
   "source": [
    "import numpy as np\n",
    "import pandas as pd\n",
    "import seaborn as sns\n",
    "from scipy import stats as st\n",
    "import matplotlib.pyplot as plt\n",
    "import re\n",
    "import warnings\n",
    "warnings.filterwarnings(\"ignore\")"
   ]
  },
  {
   "cell_type": "code",
   "execution_count": 2,
   "metadata": {},
   "outputs": [
    {
     "data": {
      "text/html": [
       "<div>\n",
       "<style scoped>\n",
       "    .dataframe tbody tr th:only-of-type {\n",
       "        vertical-align: middle;\n",
       "    }\n",
       "\n",
       "    .dataframe tbody tr th {\n",
       "        vertical-align: top;\n",
       "    }\n",
       "\n",
       "    .dataframe thead th {\n",
       "        text-align: right;\n",
       "    }\n",
       "</style>\n",
       "<table border=\"1\" class=\"dataframe\">\n",
       "  <thead>\n",
       "    <tr style=\"text-align: right;\">\n",
       "      <th></th>\n",
       "      <th>Name</th>\n",
       "      <th>Platform</th>\n",
       "      <th>Year_of_Release</th>\n",
       "      <th>Genre</th>\n",
       "      <th>NA_sales</th>\n",
       "      <th>EU_sales</th>\n",
       "      <th>JP_sales</th>\n",
       "      <th>Other_sales</th>\n",
       "      <th>Critic_Score</th>\n",
       "      <th>User_Score</th>\n",
       "      <th>Rating</th>\n",
       "    </tr>\n",
       "  </thead>\n",
       "  <tbody>\n",
       "    <tr>\n",
       "      <th>0</th>\n",
       "      <td>Wii Sports</td>\n",
       "      <td>Wii</td>\n",
       "      <td>2006.0</td>\n",
       "      <td>Sports</td>\n",
       "      <td>41.36</td>\n",
       "      <td>28.96</td>\n",
       "      <td>3.77</td>\n",
       "      <td>8.45</td>\n",
       "      <td>76.0</td>\n",
       "      <td>8</td>\n",
       "      <td>E</td>\n",
       "    </tr>\n",
       "    <tr>\n",
       "      <th>1</th>\n",
       "      <td>Super Mario Bros.</td>\n",
       "      <td>NES</td>\n",
       "      <td>1985.0</td>\n",
       "      <td>Platform</td>\n",
       "      <td>29.08</td>\n",
       "      <td>3.58</td>\n",
       "      <td>6.81</td>\n",
       "      <td>0.77</td>\n",
       "      <td>NaN</td>\n",
       "      <td>NaN</td>\n",
       "      <td>NaN</td>\n",
       "    </tr>\n",
       "    <tr>\n",
       "      <th>2</th>\n",
       "      <td>Mario Kart Wii</td>\n",
       "      <td>Wii</td>\n",
       "      <td>2008.0</td>\n",
       "      <td>Racing</td>\n",
       "      <td>15.68</td>\n",
       "      <td>12.76</td>\n",
       "      <td>3.79</td>\n",
       "      <td>3.29</td>\n",
       "      <td>82.0</td>\n",
       "      <td>8.3</td>\n",
       "      <td>E</td>\n",
       "    </tr>\n",
       "    <tr>\n",
       "      <th>3</th>\n",
       "      <td>Wii Sports Resort</td>\n",
       "      <td>Wii</td>\n",
       "      <td>2009.0</td>\n",
       "      <td>Sports</td>\n",
       "      <td>15.61</td>\n",
       "      <td>10.93</td>\n",
       "      <td>3.28</td>\n",
       "      <td>2.95</td>\n",
       "      <td>80.0</td>\n",
       "      <td>8</td>\n",
       "      <td>E</td>\n",
       "    </tr>\n",
       "    <tr>\n",
       "      <th>4</th>\n",
       "      <td>Pokemon Red/Pokemon Blue</td>\n",
       "      <td>GB</td>\n",
       "      <td>1996.0</td>\n",
       "      <td>Role-Playing</td>\n",
       "      <td>11.27</td>\n",
       "      <td>8.89</td>\n",
       "      <td>10.22</td>\n",
       "      <td>1.00</td>\n",
       "      <td>NaN</td>\n",
       "      <td>NaN</td>\n",
       "      <td>NaN</td>\n",
       "    </tr>\n",
       "  </tbody>\n",
       "</table>\n",
       "</div>"
      ],
      "text/plain": [
       "                       Name Platform  Year_of_Release         Genre  NA_sales  \\\n",
       "0                Wii Sports      Wii           2006.0        Sports     41.36   \n",
       "1         Super Mario Bros.      NES           1985.0      Platform     29.08   \n",
       "2            Mario Kart Wii      Wii           2008.0        Racing     15.68   \n",
       "3         Wii Sports Resort      Wii           2009.0        Sports     15.61   \n",
       "4  Pokemon Red/Pokemon Blue       GB           1996.0  Role-Playing     11.27   \n",
       "\n",
       "   EU_sales  JP_sales  Other_sales  Critic_Score User_Score Rating  \n",
       "0     28.96      3.77         8.45          76.0          8      E  \n",
       "1      3.58      6.81         0.77           NaN        NaN    NaN  \n",
       "2     12.76      3.79         3.29          82.0        8.3      E  \n",
       "3     10.93      3.28         2.95          80.0          8      E  \n",
       "4      8.89     10.22         1.00           NaN        NaN    NaN  "
      ]
     },
     "execution_count": 2,
     "metadata": {},
     "output_type": "execute_result"
    }
   ],
   "source": [
    "data = pd.read_csv('https://code.s3.yandex.net/datasets/games.csv')\n",
    "data.head()"
   ]
  },
  {
   "cell_type": "code",
   "execution_count": 3,
   "metadata": {},
   "outputs": [
    {
     "name": "stdout",
     "output_type": "stream",
     "text": [
      "<class 'pandas.core.frame.DataFrame'>\n",
      "RangeIndex: 16715 entries, 0 to 16714\n",
      "Data columns (total 11 columns):\n",
      " #   Column           Non-Null Count  Dtype  \n",
      "---  ------           --------------  -----  \n",
      " 0   Name             16713 non-null  object \n",
      " 1   Platform         16715 non-null  object \n",
      " 2   Year_of_Release  16446 non-null  float64\n",
      " 3   Genre            16713 non-null  object \n",
      " 4   NA_sales         16715 non-null  float64\n",
      " 5   EU_sales         16715 non-null  float64\n",
      " 6   JP_sales         16715 non-null  float64\n",
      " 7   Other_sales      16715 non-null  float64\n",
      " 8   Critic_Score     8137 non-null   float64\n",
      " 9   User_Score       10014 non-null  object \n",
      " 10  Rating           9949 non-null   object \n",
      "dtypes: float64(6), object(5)\n",
      "memory usage: 1.4+ MB\n"
     ]
    }
   ],
   "source": [
    "data.info()"
   ]
  },
  {
   "cell_type": "markdown",
   "metadata": {},
   "source": [
    "### Вывод"
   ]
  },
  {
   "cell_type": "markdown",
   "metadata": {},
   "source": [
    "Данные подгружены. <br>\n",
    "Следует убрать заглавные буквы как в названии столбцах, так и в самих данных. \n"
   ]
  },
  {
   "cell_type": "code",
   "execution_count": 4,
   "metadata": {},
   "outputs": [
    {
     "data": {
      "text/html": [
       "<div>\n",
       "<style scoped>\n",
       "    .dataframe tbody tr th:only-of-type {\n",
       "        vertical-align: middle;\n",
       "    }\n",
       "\n",
       "    .dataframe tbody tr th {\n",
       "        vertical-align: top;\n",
       "    }\n",
       "\n",
       "    .dataframe thead th {\n",
       "        text-align: right;\n",
       "    }\n",
       "</style>\n",
       "<table border=\"1\" class=\"dataframe\">\n",
       "  <thead>\n",
       "    <tr style=\"text-align: right;\">\n",
       "      <th></th>\n",
       "      <th>name</th>\n",
       "      <th>platform</th>\n",
       "      <th>year_of_release</th>\n",
       "      <th>genre</th>\n",
       "      <th>na_sales</th>\n",
       "      <th>eu_sales</th>\n",
       "      <th>jp_sales</th>\n",
       "      <th>other_sales</th>\n",
       "      <th>critic_score</th>\n",
       "      <th>user_score</th>\n",
       "      <th>rating</th>\n",
       "    </tr>\n",
       "  </thead>\n",
       "  <tbody>\n",
       "    <tr>\n",
       "      <th>0</th>\n",
       "      <td>Wii Sports</td>\n",
       "      <td>Wii</td>\n",
       "      <td>2006.0</td>\n",
       "      <td>Sports</td>\n",
       "      <td>41.36</td>\n",
       "      <td>28.96</td>\n",
       "      <td>3.77</td>\n",
       "      <td>8.45</td>\n",
       "      <td>76.0</td>\n",
       "      <td>8</td>\n",
       "      <td>E</td>\n",
       "    </tr>\n",
       "    <tr>\n",
       "      <th>1</th>\n",
       "      <td>Super Mario Bros.</td>\n",
       "      <td>NES</td>\n",
       "      <td>1985.0</td>\n",
       "      <td>Platform</td>\n",
       "      <td>29.08</td>\n",
       "      <td>3.58</td>\n",
       "      <td>6.81</td>\n",
       "      <td>0.77</td>\n",
       "      <td>NaN</td>\n",
       "      <td>NaN</td>\n",
       "      <td>NaN</td>\n",
       "    </tr>\n",
       "    <tr>\n",
       "      <th>2</th>\n",
       "      <td>Mario Kart Wii</td>\n",
       "      <td>Wii</td>\n",
       "      <td>2008.0</td>\n",
       "      <td>Racing</td>\n",
       "      <td>15.68</td>\n",
       "      <td>12.76</td>\n",
       "      <td>3.79</td>\n",
       "      <td>3.29</td>\n",
       "      <td>82.0</td>\n",
       "      <td>8.3</td>\n",
       "      <td>E</td>\n",
       "    </tr>\n",
       "    <tr>\n",
       "      <th>3</th>\n",
       "      <td>Wii Sports Resort</td>\n",
       "      <td>Wii</td>\n",
       "      <td>2009.0</td>\n",
       "      <td>Sports</td>\n",
       "      <td>15.61</td>\n",
       "      <td>10.93</td>\n",
       "      <td>3.28</td>\n",
       "      <td>2.95</td>\n",
       "      <td>80.0</td>\n",
       "      <td>8</td>\n",
       "      <td>E</td>\n",
       "    </tr>\n",
       "    <tr>\n",
       "      <th>4</th>\n",
       "      <td>Pokemon Red/Pokemon Blue</td>\n",
       "      <td>GB</td>\n",
       "      <td>1996.0</td>\n",
       "      <td>Role-Playing</td>\n",
       "      <td>11.27</td>\n",
       "      <td>8.89</td>\n",
       "      <td>10.22</td>\n",
       "      <td>1.00</td>\n",
       "      <td>NaN</td>\n",
       "      <td>NaN</td>\n",
       "      <td>NaN</td>\n",
       "    </tr>\n",
       "  </tbody>\n",
       "</table>\n",
       "</div>"
      ],
      "text/plain": [
       "                       name platform  year_of_release         genre  na_sales  \\\n",
       "0                Wii Sports      Wii           2006.0        Sports     41.36   \n",
       "1         Super Mario Bros.      NES           1985.0      Platform     29.08   \n",
       "2            Mario Kart Wii      Wii           2008.0        Racing     15.68   \n",
       "3         Wii Sports Resort      Wii           2009.0        Sports     15.61   \n",
       "4  Pokemon Red/Pokemon Blue       GB           1996.0  Role-Playing     11.27   \n",
       "\n",
       "   eu_sales  jp_sales  other_sales  critic_score user_score rating  \n",
       "0     28.96      3.77         8.45          76.0          8      E  \n",
       "1      3.58      6.81         0.77           NaN        NaN    NaN  \n",
       "2     12.76      3.79         3.29          82.0        8.3      E  \n",
       "3     10.93      3.28         2.95          80.0          8      E  \n",
       "4      8.89     10.22         1.00           NaN        NaN    NaN  "
      ]
     },
     "execution_count": 4,
     "metadata": {},
     "output_type": "execute_result"
    }
   ],
   "source": [
    "data.columns = data.columns.str.lower()\n",
    "data.head()"
   ]
  },
  {
   "cell_type": "markdown",
   "metadata": {},
   "source": [
    "Взял функцию с прошлого проекта, чуть дополнил её необходимым. "
   ]
  },
  {
   "cell_type": "code",
   "execution_count": 5,
   "metadata": {},
   "outputs": [],
   "source": [
    "def check_dataset(data, \n",
    "                  lst_to_int = [], \n",
    "                  lst_to_float32 = [], \n",
    "                  column_to_datetime = [], \n",
    "                  format_ = '%Y-%m-%d',\n",
    "                  column_drop = [],\n",
    "                  round_column = [],\n",
    "                  lower_column = []):\n",
    "    check_count = 0\n",
    "    type_dict = {}\n",
    "    for elem in lower_column:\n",
    "        data[elem] = data[elem].str.lower()\n",
    "    for elem in lst_to_int:\n",
    "        type_dict[elem] = 'int'\n",
    "        \n",
    "    for elem in lst_to_float32:\n",
    "        type_dict[elem] = 'float32'\n",
    "        \n",
    "    for col in column_to_datetime:\n",
    "        data[col] = pd.to_datetime(data[col][~data[col].isna()], format = format_)\n",
    "    if len(type_dict) != 0:\n",
    "        for i, j in type_dict.items():\n",
    "            data[i] = data[i][~data[i].isna()].astype({i:j})\n",
    "        check_count += 1\n",
    "        \n",
    "    if data.duplicated().value_counts()[False] != len(data):\n",
    "        print(f'Явных дубликатов {data.duplicated().value_counts()[True]}')\n",
    "    else:\n",
    "        print('Явных дубликатов - нет')\n",
    "        check_count += 1\n",
    "    \n",
    "    for col in column_drop:\n",
    "        data = data.drop(col, axis = 1)\n",
    "    count = 0\n",
    "    for col in data.columns:\n",
    "        val = data[col].isna().value_counts()\n",
    "        if val[False] != len(data):\n",
    "            print(f'Количество пропущенных значений в стоблце {col} - {round(val[True] / len(data) * 100, 2)} %')\n",
    "        else:\n",
    "            count += 1\n",
    "        if count == len(data.columns):\n",
    "            print('Пропущенных значений - нет')\n",
    "            check_count += 1\n",
    "    for col in round_column:\n",
    "        data[col] = data[col].apply(math.ceil)\n",
    "    print(data.info())\n",
    "    print(data.head())\n",
    "    if check_count == 3:\n",
    "        print('Успешная проверка и преобразование типов')\n",
    "    return data"
   ]
  },
  {
   "cell_type": "code",
   "execution_count": 6,
   "metadata": {},
   "outputs": [
    {
     "name": "stdout",
     "output_type": "stream",
     "text": [
      "Явных дубликатов - нет\n",
      "Количество пропущенных значений в стоблце name - 0.01 %\n",
      "Количество пропущенных значений в стоблце year_of_release - 1.61 %\n",
      "Количество пропущенных значений в стоблце genre - 0.01 %\n",
      "Количество пропущенных значений в стоблце critic_score - 51.32 %\n",
      "Количество пропущенных значений в стоблце user_score - 40.09 %\n",
      "Количество пропущенных значений в стоблце rating - 40.48 %\n",
      "<class 'pandas.core.frame.DataFrame'>\n",
      "RangeIndex: 16715 entries, 0 to 16714\n",
      "Data columns (total 11 columns):\n",
      " #   Column           Non-Null Count  Dtype  \n",
      "---  ------           --------------  -----  \n",
      " 0   name             16713 non-null  object \n",
      " 1   platform         16715 non-null  object \n",
      " 2   year_of_release  16446 non-null  float64\n",
      " 3   genre            16713 non-null  object \n",
      " 4   na_sales         16715 non-null  float32\n",
      " 5   eu_sales         16715 non-null  float32\n",
      " 6   jp_sales         16715 non-null  float32\n",
      " 7   other_sales      16715 non-null  float32\n",
      " 8   critic_score     8137 non-null   float64\n",
      " 9   user_score       10014 non-null  object \n",
      " 10  rating           9949 non-null   object \n",
      "dtypes: float32(4), float64(2), object(5)\n",
      "memory usage: 1.1+ MB\n",
      "None\n",
      "                       name platform  year_of_release         genre  \\\n",
      "0                wii sports      wii           2006.0        sports   \n",
      "1         super mario bros.      nes           1985.0      platform   \n",
      "2            mario kart wii      wii           2008.0        racing   \n",
      "3         wii sports resort      wii           2009.0        sports   \n",
      "4  pokemon red/pokemon blue       gb           1996.0  role-playing   \n",
      "\n",
      "    na_sales   eu_sales  jp_sales  other_sales  critic_score user_score rating  \n",
      "0  41.360001  28.959999      3.77         8.45          76.0          8      E  \n",
      "1  29.080000   3.580000      6.81         0.77           NaN        NaN    NaN  \n",
      "2  15.680000  12.760000      3.79         3.29          82.0        8.3      E  \n",
      "3  15.610000  10.930000      3.28         2.95          80.0          8      E  \n",
      "4  11.270000   8.890000     10.22         1.00           NaN        NaN    NaN  \n"
     ]
    }
   ],
   "source": [
    "dataset = check_dataset(data, \n",
    "                        lst_to_int = ['year_of_release'], \n",
    "                        lower_column = ['name', 'platform', 'genre'],\n",
    "                        lst_to_float32 = ['na_sales', 'eu_sales', 'jp_sales', 'other_sales'])"
   ]
  },
  {
   "cell_type": "markdown",
   "metadata": {},
   "source": [
    "Хорошо, что нет явных и неявных дубликатов. Но вот пропуски, рейтинг, пользовательская оценка, оценка критиков - более 40 % !"
   ]
  },
  {
   "cell_type": "code",
   "execution_count": 7,
   "metadata": {},
   "outputs": [
    {
     "data": {
      "text/html": [
       "<div>\n",
       "<style scoped>\n",
       "    .dataframe tbody tr th:only-of-type {\n",
       "        vertical-align: middle;\n",
       "    }\n",
       "\n",
       "    .dataframe tbody tr th {\n",
       "        vertical-align: top;\n",
       "    }\n",
       "\n",
       "    .dataframe thead th {\n",
       "        text-align: right;\n",
       "    }\n",
       "</style>\n",
       "<table border=\"1\" class=\"dataframe\">\n",
       "  <thead>\n",
       "    <tr style=\"text-align: right;\">\n",
       "      <th></th>\n",
       "      <th>name</th>\n",
       "      <th>platform</th>\n",
       "      <th>year_of_release</th>\n",
       "      <th>genre</th>\n",
       "      <th>na_sales</th>\n",
       "      <th>eu_sales</th>\n",
       "      <th>jp_sales</th>\n",
       "      <th>other_sales</th>\n",
       "      <th>critic_score</th>\n",
       "      <th>user_score</th>\n",
       "      <th>rating</th>\n",
       "    </tr>\n",
       "  </thead>\n",
       "  <tbody>\n",
       "    <tr>\n",
       "      <th>659</th>\n",
       "      <td>NaN</td>\n",
       "      <td>gen</td>\n",
       "      <td>1993.0</td>\n",
       "      <td>NaN</td>\n",
       "      <td>1.78</td>\n",
       "      <td>0.53</td>\n",
       "      <td>0.00</td>\n",
       "      <td>0.08</td>\n",
       "      <td>NaN</td>\n",
       "      <td>NaN</td>\n",
       "      <td>NaN</td>\n",
       "    </tr>\n",
       "    <tr>\n",
       "      <th>14244</th>\n",
       "      <td>NaN</td>\n",
       "      <td>gen</td>\n",
       "      <td>1993.0</td>\n",
       "      <td>NaN</td>\n",
       "      <td>0.00</td>\n",
       "      <td>0.00</td>\n",
       "      <td>0.03</td>\n",
       "      <td>0.00</td>\n",
       "      <td>NaN</td>\n",
       "      <td>NaN</td>\n",
       "      <td>NaN</td>\n",
       "    </tr>\n",
       "  </tbody>\n",
       "</table>\n",
       "</div>"
      ],
      "text/plain": [
       "      name platform  year_of_release genre  na_sales  eu_sales  jp_sales  \\\n",
       "659    NaN      gen           1993.0   NaN      1.78      0.53      0.00   \n",
       "14244  NaN      gen           1993.0   NaN      0.00      0.00      0.03   \n",
       "\n",
       "       other_sales  critic_score user_score rating  \n",
       "659           0.08           NaN        NaN    NaN  \n",
       "14244         0.00           NaN        NaN    NaN  "
      ]
     },
     "execution_count": 7,
     "metadata": {},
     "output_type": "execute_result"
    }
   ],
   "source": [
    "dataset[dataset['name'].isna()]"
   ]
  },
  {
   "cell_type": "markdown",
   "metadata": {},
   "source": [
    "Такие строки очень неинформативны, лучше и вовсе удалить из анализа. "
   ]
  },
  {
   "cell_type": "code",
   "execution_count": 8,
   "metadata": {},
   "outputs": [],
   "source": [
    "dataset = dataset.dropna(subset = ['name'])"
   ]
  },
  {
   "cell_type": "markdown",
   "metadata": {},
   "source": [
    "В самом названии содержится год, предположим, что это год релиза. "
   ]
  },
  {
   "cell_type": "code",
   "execution_count": 9,
   "metadata": {},
   "outputs": [
    {
     "data": {
      "text/html": [
       "<div>\n",
       "<style scoped>\n",
       "    .dataframe tbody tr th:only-of-type {\n",
       "        vertical-align: middle;\n",
       "    }\n",
       "\n",
       "    .dataframe tbody tr th {\n",
       "        vertical-align: top;\n",
       "    }\n",
       "\n",
       "    .dataframe thead th {\n",
       "        text-align: right;\n",
       "    }\n",
       "</style>\n",
       "<table border=\"1\" class=\"dataframe\">\n",
       "  <thead>\n",
       "    <tr style=\"text-align: right;\">\n",
       "      <th></th>\n",
       "      <th>name</th>\n",
       "      <th>platform</th>\n",
       "      <th>year_of_release</th>\n",
       "      <th>genre</th>\n",
       "      <th>na_sales</th>\n",
       "      <th>eu_sales</th>\n",
       "      <th>jp_sales</th>\n",
       "      <th>other_sales</th>\n",
       "      <th>critic_score</th>\n",
       "      <th>user_score</th>\n",
       "      <th>rating</th>\n",
       "    </tr>\n",
       "  </thead>\n",
       "  <tbody>\n",
       "    <tr>\n",
       "      <th>183</th>\n",
       "      <td>madden nfl 2004</td>\n",
       "      <td>ps2</td>\n",
       "      <td>NaN</td>\n",
       "      <td>sports</td>\n",
       "      <td>4.26</td>\n",
       "      <td>0.26</td>\n",
       "      <td>0.01</td>\n",
       "      <td>0.71</td>\n",
       "      <td>94.0</td>\n",
       "      <td>8.5</td>\n",
       "      <td>E</td>\n",
       "    </tr>\n",
       "    <tr>\n",
       "      <th>377</th>\n",
       "      <td>fifa soccer 2004</td>\n",
       "      <td>ps2</td>\n",
       "      <td>NaN</td>\n",
       "      <td>sports</td>\n",
       "      <td>0.59</td>\n",
       "      <td>2.36</td>\n",
       "      <td>0.04</td>\n",
       "      <td>0.51</td>\n",
       "      <td>84.0</td>\n",
       "      <td>6.4</td>\n",
       "      <td>E</td>\n",
       "    </tr>\n",
       "    <tr>\n",
       "      <th>456</th>\n",
       "      <td>lego batman: the videogame</td>\n",
       "      <td>wii</td>\n",
       "      <td>NaN</td>\n",
       "      <td>action</td>\n",
       "      <td>1.80</td>\n",
       "      <td>0.97</td>\n",
       "      <td>0.00</td>\n",
       "      <td>0.29</td>\n",
       "      <td>74.0</td>\n",
       "      <td>7.9</td>\n",
       "      <td>E10+</td>\n",
       "    </tr>\n",
       "    <tr>\n",
       "      <th>475</th>\n",
       "      <td>wwe smackdown vs. raw 2006</td>\n",
       "      <td>ps2</td>\n",
       "      <td>NaN</td>\n",
       "      <td>fighting</td>\n",
       "      <td>1.57</td>\n",
       "      <td>1.02</td>\n",
       "      <td>0.00</td>\n",
       "      <td>0.41</td>\n",
       "      <td>NaN</td>\n",
       "      <td>NaN</td>\n",
       "      <td>NaN</td>\n",
       "    </tr>\n",
       "    <tr>\n",
       "      <th>609</th>\n",
       "      <td>space invaders</td>\n",
       "      <td>2600</td>\n",
       "      <td>NaN</td>\n",
       "      <td>shooter</td>\n",
       "      <td>2.36</td>\n",
       "      <td>0.14</td>\n",
       "      <td>0.00</td>\n",
       "      <td>0.03</td>\n",
       "      <td>NaN</td>\n",
       "      <td>NaN</td>\n",
       "      <td>NaN</td>\n",
       "    </tr>\n",
       "    <tr>\n",
       "      <th>...</th>\n",
       "      <td>...</td>\n",
       "      <td>...</td>\n",
       "      <td>...</td>\n",
       "      <td>...</td>\n",
       "      <td>...</td>\n",
       "      <td>...</td>\n",
       "      <td>...</td>\n",
       "      <td>...</td>\n",
       "      <td>...</td>\n",
       "      <td>...</td>\n",
       "      <td>...</td>\n",
       "    </tr>\n",
       "    <tr>\n",
       "      <th>16373</th>\n",
       "      <td>pdc world championship darts 2008</td>\n",
       "      <td>psp</td>\n",
       "      <td>NaN</td>\n",
       "      <td>sports</td>\n",
       "      <td>0.01</td>\n",
       "      <td>0.00</td>\n",
       "      <td>0.00</td>\n",
       "      <td>0.00</td>\n",
       "      <td>43.0</td>\n",
       "      <td>tbd</td>\n",
       "      <td>E10+</td>\n",
       "    </tr>\n",
       "    <tr>\n",
       "      <th>16405</th>\n",
       "      <td>freaky flyers</td>\n",
       "      <td>gc</td>\n",
       "      <td>NaN</td>\n",
       "      <td>racing</td>\n",
       "      <td>0.01</td>\n",
       "      <td>0.00</td>\n",
       "      <td>0.00</td>\n",
       "      <td>0.00</td>\n",
       "      <td>69.0</td>\n",
       "      <td>6.5</td>\n",
       "      <td>T</td>\n",
       "    </tr>\n",
       "    <tr>\n",
       "      <th>16448</th>\n",
       "      <td>inversion</td>\n",
       "      <td>pc</td>\n",
       "      <td>NaN</td>\n",
       "      <td>shooter</td>\n",
       "      <td>0.01</td>\n",
       "      <td>0.00</td>\n",
       "      <td>0.00</td>\n",
       "      <td>0.00</td>\n",
       "      <td>59.0</td>\n",
       "      <td>6.7</td>\n",
       "      <td>M</td>\n",
       "    </tr>\n",
       "    <tr>\n",
       "      <th>16458</th>\n",
       "      <td>hakuouki: shinsengumi kitan</td>\n",
       "      <td>ps3</td>\n",
       "      <td>NaN</td>\n",
       "      <td>adventure</td>\n",
       "      <td>0.01</td>\n",
       "      <td>0.00</td>\n",
       "      <td>0.00</td>\n",
       "      <td>0.00</td>\n",
       "      <td>NaN</td>\n",
       "      <td>NaN</td>\n",
       "      <td>NaN</td>\n",
       "    </tr>\n",
       "    <tr>\n",
       "      <th>16522</th>\n",
       "      <td>virtua quest</td>\n",
       "      <td>gc</td>\n",
       "      <td>NaN</td>\n",
       "      <td>role-playing</td>\n",
       "      <td>0.01</td>\n",
       "      <td>0.00</td>\n",
       "      <td>0.00</td>\n",
       "      <td>0.00</td>\n",
       "      <td>55.0</td>\n",
       "      <td>5.5</td>\n",
       "      <td>T</td>\n",
       "    </tr>\n",
       "  </tbody>\n",
       "</table>\n",
       "<p>269 rows × 11 columns</p>\n",
       "</div>"
      ],
      "text/plain": [
       "                                    name platform  year_of_release  \\\n",
       "183                      madden nfl 2004      ps2              NaN   \n",
       "377                     fifa soccer 2004      ps2              NaN   \n",
       "456           lego batman: the videogame      wii              NaN   \n",
       "475           wwe smackdown vs. raw 2006      ps2              NaN   \n",
       "609                       space invaders     2600              NaN   \n",
       "...                                  ...      ...              ...   \n",
       "16373  pdc world championship darts 2008      psp              NaN   \n",
       "16405                      freaky flyers       gc              NaN   \n",
       "16448                          inversion       pc              NaN   \n",
       "16458        hakuouki: shinsengumi kitan      ps3              NaN   \n",
       "16522                       virtua quest       gc              NaN   \n",
       "\n",
       "              genre  na_sales  eu_sales  jp_sales  other_sales  critic_score  \\\n",
       "183          sports      4.26      0.26      0.01         0.71          94.0   \n",
       "377          sports      0.59      2.36      0.04         0.51          84.0   \n",
       "456          action      1.80      0.97      0.00         0.29          74.0   \n",
       "475        fighting      1.57      1.02      0.00         0.41           NaN   \n",
       "609         shooter      2.36      0.14      0.00         0.03           NaN   \n",
       "...             ...       ...       ...       ...          ...           ...   \n",
       "16373        sports      0.01      0.00      0.00         0.00          43.0   \n",
       "16405        racing      0.01      0.00      0.00         0.00          69.0   \n",
       "16448       shooter      0.01      0.00      0.00         0.00          59.0   \n",
       "16458     adventure      0.01      0.00      0.00         0.00           NaN   \n",
       "16522  role-playing      0.01      0.00      0.00         0.00          55.0   \n",
       "\n",
       "      user_score rating  \n",
       "183          8.5      E  \n",
       "377          6.4      E  \n",
       "456          7.9   E10+  \n",
       "475          NaN    NaN  \n",
       "609          NaN    NaN  \n",
       "...          ...    ...  \n",
       "16373        tbd   E10+  \n",
       "16405        6.5      T  \n",
       "16448        6.7      M  \n",
       "16458        NaN    NaN  \n",
       "16522        5.5      T  \n",
       "\n",
       "[269 rows x 11 columns]"
      ]
     },
     "execution_count": 9,
     "metadata": {},
     "output_type": "execute_result"
    }
   ],
   "source": [
    "dataset[dataset['year_of_release'].isna()]"
   ]
  },
  {
   "cell_type": "code",
   "execution_count": 10,
   "metadata": {},
   "outputs": [],
   "source": [
    "dataset['year_of_release'][dataset['year_of_release'].isna()] = (dataset[dataset['year_of_release']\n",
    "                                                                        .isna()]['name']\n",
    "                                                                        .apply(lambda x: int(re.findall(r'\\d\\d\\d\\d', x)[0]) \n",
    "                                                                               if (len(re.findall(r'\\d\\d\\d\\d', x)) != 0) \n",
    "                                                                               else None))"
   ]
  },
  {
   "cell_type": "code",
   "execution_count": 11,
   "metadata": {},
   "outputs": [
    {
     "data": {
      "text/plain": [
       "False    16461\n",
       "True       252\n",
       "Name: year_of_release, dtype: int64"
      ]
     },
     "execution_count": 11,
     "metadata": {},
     "output_type": "execute_result"
    }
   ],
   "source": [
    "dataset['year_of_release'].isna().value_counts()"
   ]
  },
  {
   "cell_type": "markdown",
   "metadata": {},
   "source": [
    "Всего 17 строк, но зато точно!"
   ]
  },
  {
   "cell_type": "markdown",
   "metadata": {},
   "source": [
    "В рейтинге есть значение tbd, гугл рассказал, что: <br>\n",
    "TBD — сокращение от To Be Determined. Служит для отметки неясностей или пропусков, которые надо заполнить, в информации требований.\n",
    "Поэтому заменим на пропуск данное значение"
   ]
  },
  {
   "cell_type": "code",
   "execution_count": 12,
   "metadata": {},
   "outputs": [],
   "source": [
    "dataset.loc[dataset['user_score'] == 'tbd', 'user_score'] = np.nan"
   ]
  },
  {
   "cell_type": "markdown",
   "metadata": {},
   "source": [
    "Посчитаем суммарные продажи во всех регионах:"
   ]
  },
  {
   "cell_type": "code",
   "execution_count": 13,
   "metadata": {},
   "outputs": [],
   "source": [
    "dataset['sales'] = dataset['na_sales'] + dataset['eu_sales'] + dataset['jp_sales'] + dataset['other_sales']"
   ]
  },
  {
   "cell_type": "code",
   "execution_count": 14,
   "metadata": {},
   "outputs": [
    {
     "data": {
      "text/html": [
       "<div>\n",
       "<style scoped>\n",
       "    .dataframe tbody tr th:only-of-type {\n",
       "        vertical-align: middle;\n",
       "    }\n",
       "\n",
       "    .dataframe tbody tr th {\n",
       "        vertical-align: top;\n",
       "    }\n",
       "\n",
       "    .dataframe thead th {\n",
       "        text-align: right;\n",
       "    }\n",
       "</style>\n",
       "<table border=\"1\" class=\"dataframe\">\n",
       "  <thead>\n",
       "    <tr style=\"text-align: right;\">\n",
       "      <th></th>\n",
       "      <th>name</th>\n",
       "      <th>platform</th>\n",
       "      <th>year_of_release</th>\n",
       "      <th>genre</th>\n",
       "      <th>na_sales</th>\n",
       "      <th>eu_sales</th>\n",
       "      <th>jp_sales</th>\n",
       "      <th>other_sales</th>\n",
       "      <th>critic_score</th>\n",
       "      <th>user_score</th>\n",
       "      <th>rating</th>\n",
       "      <th>sales</th>\n",
       "    </tr>\n",
       "  </thead>\n",
       "  <tbody>\n",
       "    <tr>\n",
       "      <th>0</th>\n",
       "      <td>wii sports</td>\n",
       "      <td>wii</td>\n",
       "      <td>2006.0</td>\n",
       "      <td>sports</td>\n",
       "      <td>41.360001</td>\n",
       "      <td>28.959999</td>\n",
       "      <td>3.77</td>\n",
       "      <td>8.45</td>\n",
       "      <td>76.0</td>\n",
       "      <td>8</td>\n",
       "      <td>E</td>\n",
       "      <td>82.539993</td>\n",
       "    </tr>\n",
       "    <tr>\n",
       "      <th>1</th>\n",
       "      <td>super mario bros.</td>\n",
       "      <td>nes</td>\n",
       "      <td>1985.0</td>\n",
       "      <td>platform</td>\n",
       "      <td>29.080000</td>\n",
       "      <td>3.580000</td>\n",
       "      <td>6.81</td>\n",
       "      <td>0.77</td>\n",
       "      <td>NaN</td>\n",
       "      <td>NaN</td>\n",
       "      <td>NaN</td>\n",
       "      <td>40.240002</td>\n",
       "    </tr>\n",
       "    <tr>\n",
       "      <th>2</th>\n",
       "      <td>mario kart wii</td>\n",
       "      <td>wii</td>\n",
       "      <td>2008.0</td>\n",
       "      <td>racing</td>\n",
       "      <td>15.680000</td>\n",
       "      <td>12.760000</td>\n",
       "      <td>3.79</td>\n",
       "      <td>3.29</td>\n",
       "      <td>82.0</td>\n",
       "      <td>8.3</td>\n",
       "      <td>E</td>\n",
       "      <td>35.520000</td>\n",
       "    </tr>\n",
       "    <tr>\n",
       "      <th>3</th>\n",
       "      <td>wii sports resort</td>\n",
       "      <td>wii</td>\n",
       "      <td>2009.0</td>\n",
       "      <td>sports</td>\n",
       "      <td>15.610000</td>\n",
       "      <td>10.930000</td>\n",
       "      <td>3.28</td>\n",
       "      <td>2.95</td>\n",
       "      <td>80.0</td>\n",
       "      <td>8</td>\n",
       "      <td>E</td>\n",
       "      <td>32.770000</td>\n",
       "    </tr>\n",
       "    <tr>\n",
       "      <th>4</th>\n",
       "      <td>pokemon red/pokemon blue</td>\n",
       "      <td>gb</td>\n",
       "      <td>1996.0</td>\n",
       "      <td>role-playing</td>\n",
       "      <td>11.270000</td>\n",
       "      <td>8.890000</td>\n",
       "      <td>10.22</td>\n",
       "      <td>1.00</td>\n",
       "      <td>NaN</td>\n",
       "      <td>NaN</td>\n",
       "      <td>NaN</td>\n",
       "      <td>31.380001</td>\n",
       "    </tr>\n",
       "  </tbody>\n",
       "</table>\n",
       "</div>"
      ],
      "text/plain": [
       "                       name platform  year_of_release         genre  \\\n",
       "0                wii sports      wii           2006.0        sports   \n",
       "1         super mario bros.      nes           1985.0      platform   \n",
       "2            mario kart wii      wii           2008.0        racing   \n",
       "3         wii sports resort      wii           2009.0        sports   \n",
       "4  pokemon red/pokemon blue       gb           1996.0  role-playing   \n",
       "\n",
       "    na_sales   eu_sales  jp_sales  other_sales  critic_score user_score  \\\n",
       "0  41.360001  28.959999      3.77         8.45          76.0          8   \n",
       "1  29.080000   3.580000      6.81         0.77           NaN        NaN   \n",
       "2  15.680000  12.760000      3.79         3.29          82.0        8.3   \n",
       "3  15.610000  10.930000      3.28         2.95          80.0          8   \n",
       "4  11.270000   8.890000     10.22         1.00           NaN        NaN   \n",
       "\n",
       "  rating      sales  \n",
       "0      E  82.539993  \n",
       "1    NaN  40.240002  \n",
       "2      E  35.520000  \n",
       "3      E  32.770000  \n",
       "4    NaN  31.380001  "
      ]
     },
     "execution_count": 14,
     "metadata": {},
     "output_type": "execute_result"
    }
   ],
   "source": [
    "dataset.head()"
   ]
  },
  {
   "cell_type": "code",
   "execution_count": 15,
   "metadata": {},
   "outputs": [
    {
     "data": {
      "text/plain": [
       "False    0.595285\n",
       "True     0.404715\n",
       "Name: rating, dtype: float64"
      ]
     },
     "execution_count": 15,
     "metadata": {},
     "output_type": "execute_result"
    }
   ],
   "source": [
    "dataset['rating'].isna().value_counts(normalize = True)"
   ]
  },
  {
   "cell_type": "code",
   "execution_count": 16,
   "metadata": {},
   "outputs": [
    {
     "data": {
      "text/html": [
       "<div>\n",
       "<style scoped>\n",
       "    .dataframe tbody tr th:only-of-type {\n",
       "        vertical-align: middle;\n",
       "    }\n",
       "\n",
       "    .dataframe tbody tr th {\n",
       "        vertical-align: top;\n",
       "    }\n",
       "\n",
       "    .dataframe thead th {\n",
       "        text-align: right;\n",
       "    }\n",
       "</style>\n",
       "<table border=\"1\" class=\"dataframe\">\n",
       "  <thead>\n",
       "    <tr style=\"text-align: right;\">\n",
       "      <th></th>\n",
       "      <th></th>\n",
       "      <th></th>\n",
       "      <th>rating</th>\n",
       "    </tr>\n",
       "    <tr>\n",
       "      <th>platform</th>\n",
       "      <th>genre</th>\n",
       "      <th>year_of_release</th>\n",
       "      <th></th>\n",
       "    </tr>\n",
       "  </thead>\n",
       "  <tbody>\n",
       "    <tr>\n",
       "      <th>ps2</th>\n",
       "      <th>simulation</th>\n",
       "      <th>2006.0</th>\n",
       "      <td>T</td>\n",
       "    </tr>\n",
       "    <tr>\n",
       "      <th>ps3</th>\n",
       "      <th>action</th>\n",
       "      <th>2015.0</th>\n",
       "      <td>E10+</td>\n",
       "    </tr>\n",
       "    <tr>\n",
       "      <th>wii</th>\n",
       "      <th>racing</th>\n",
       "      <th>2008.0</th>\n",
       "      <td>T</td>\n",
       "    </tr>\n",
       "    <tr>\n",
       "      <th>xone</th>\n",
       "      <th>action</th>\n",
       "      <th>2015.0</th>\n",
       "      <td>E10+</td>\n",
       "    </tr>\n",
       "    <tr>\n",
       "      <th>pc</th>\n",
       "      <th>strategy</th>\n",
       "      <th>2008.0</th>\n",
       "      <td>E10+</td>\n",
       "    </tr>\n",
       "    <tr>\n",
       "      <th>wii</th>\n",
       "      <th>role-playing</th>\n",
       "      <th>2008.0</th>\n",
       "      <td>T</td>\n",
       "    </tr>\n",
       "    <tr>\n",
       "      <th>pc</th>\n",
       "      <th>strategy</th>\n",
       "      <th>2008.0</th>\n",
       "      <td>E</td>\n",
       "    </tr>\n",
       "    <tr>\n",
       "      <th>ps2</th>\n",
       "      <th>simulation</th>\n",
       "      <th>2007.0</th>\n",
       "      <td>E</td>\n",
       "    </tr>\n",
       "    <tr>\n",
       "      <th>psp</th>\n",
       "      <th>racing</th>\n",
       "      <th>2007.0</th>\n",
       "      <td>E</td>\n",
       "    </tr>\n",
       "    <tr>\n",
       "      <th>gc</th>\n",
       "      <th>role-playing</th>\n",
       "      <th>2004.0</th>\n",
       "      <td>T</td>\n",
       "    </tr>\n",
       "  </tbody>\n",
       "</table>\n",
       "</div>"
      ],
      "text/plain": [
       "                                      rating\n",
       "platform genre        year_of_release       \n",
       "ps2      simulation   2006.0               T\n",
       "ps3      action       2015.0            E10+\n",
       "wii      racing       2008.0               T\n",
       "xone     action       2015.0            E10+\n",
       "pc       strategy     2008.0            E10+\n",
       "wii      role-playing 2008.0               T\n",
       "pc       strategy     2008.0               E\n",
       "ps2      simulation   2007.0               E\n",
       "psp      racing       2007.0               E\n",
       "gc       role-playing 2004.0               T"
      ]
     },
     "execution_count": 16,
     "metadata": {},
     "output_type": "execute_result"
    }
   ],
   "source": [
    "\n",
    "rating_dict = (dataset.groupby(['platform', 'genre','year_of_release', 'rating'])['rating']\n",
    "                      .count()\n",
    "                      .sort_values()\n",
    ")\n",
    "rating_dict = rating_dict[rating_dict >= 3]\n",
    "rating_dict = rating_dict.index.to_frame().set_index(['platform','genre' ,'year_of_release'])\n",
    "rating_dict.head(10)"
   ]
  },
  {
   "cell_type": "code",
   "execution_count": 17,
   "metadata": {},
   "outputs": [],
   "source": [
    "for i, k in enumerate(rating_dict.index):\n",
    "    dataset.loc[(dataset['platform'] == k[0]) &\n",
    "                (dataset['genre'] == k[1]) &\n",
    "                (dataset['year_of_release'] == k[2]), 'rating'] = rating_dict.iloc[i,0]"
   ]
  },
  {
   "cell_type": "code",
   "execution_count": 18,
   "metadata": {},
   "outputs": [
    {
     "data": {
      "text/plain": [
       "False    0.801951\n",
       "True     0.198049\n",
       "Name: rating, dtype: float64"
      ]
     },
     "execution_count": 18,
     "metadata": {},
     "output_type": "execute_result"
    }
   ],
   "source": [
    "dataset['rating'].isna().value_counts(normalize = True)"
   ]
  },
  {
   "cell_type": "code",
   "execution_count": 19,
   "metadata": {},
   "outputs": [],
   "source": [
    "critic = dataset.groupby(['platform', 'genre', 'year_of_release'])['critic_score'].agg(['median', 'count']).sort_values(by = 'count').dropna().query('count > 2').drop(columns = ['count'])"
   ]
  },
  {
   "cell_type": "code",
   "execution_count": 20,
   "metadata": {},
   "outputs": [
    {
     "data": {
      "text/plain": [
       "True     0.513133\n",
       "False    0.486867\n",
       "Name: critic_score, dtype: float64"
      ]
     },
     "execution_count": 20,
     "metadata": {},
     "output_type": "execute_result"
    }
   ],
   "source": [
    "dataset['critic_score'].isna().value_counts(normalize = True)"
   ]
  },
  {
   "cell_type": "code",
   "execution_count": 21,
   "metadata": {},
   "outputs": [],
   "source": [
    "for i, k in enumerate(critic.index):\n",
    "    dataset.loc[(dataset['platform'] == k[0]) &\n",
    "                (dataset['genre'] == k[1]) &\n",
    "                (dataset['year_of_release'] == k[2]), 'critic_score'] = critic.iloc[i,0]"
   ]
  },
  {
   "cell_type": "code",
   "execution_count": 22,
   "metadata": {},
   "outputs": [
    {
     "data": {
      "text/plain": [
       "False    0.782325\n",
       "True     0.217675\n",
       "Name: critic_score, dtype: float64"
      ]
     },
     "execution_count": 22,
     "metadata": {},
     "output_type": "execute_result"
    }
   ],
   "source": [
    "dataset['critic_score'].isna().value_counts(normalize = True)"
   ]
  },
  {
   "cell_type": "code",
   "execution_count": 23,
   "metadata": {},
   "outputs": [],
   "source": [
    "dataset['user_score'] = dataset['user_score'].astype('float')"
   ]
  },
  {
   "cell_type": "code",
   "execution_count": 24,
   "metadata": {},
   "outputs": [
    {
     "data": {
      "text/plain": [
       "True     0.545863\n",
       "False    0.454137\n",
       "Name: user_score, dtype: float64"
      ]
     },
     "execution_count": 24,
     "metadata": {},
     "output_type": "execute_result"
    }
   ],
   "source": [
    "dataset['user_score'].isna().value_counts(normalize = True)"
   ]
  },
  {
   "cell_type": "code",
   "execution_count": 25,
   "metadata": {},
   "outputs": [],
   "source": [
    "user_score = dataset.groupby(['platform', 'genre', 'year_of_release'])['user_score'].agg(['median', 'count']).sort_values(by = 'count').dropna().query('count > 2').drop(columns = ['count'])"
   ]
  },
  {
   "cell_type": "code",
   "execution_count": 26,
   "metadata": {},
   "outputs": [],
   "source": [
    "for i, k in enumerate(user_score.index):\n",
    "    dataset.loc[(dataset['platform'] == k[0]) &\n",
    "                (dataset['genre'] == k[1]) &\n",
    "                (dataset['year_of_release'] == k[2]), 'user_score'] = user_score.iloc[i,0]"
   ]
  },
  {
   "cell_type": "code",
   "execution_count": 27,
   "metadata": {},
   "outputs": [
    {
     "data": {
      "text/plain": [
       "False    0.777897\n",
       "True     0.222103\n",
       "Name: user_score, dtype: float64"
      ]
     },
     "execution_count": 27,
     "metadata": {},
     "output_type": "execute_result"
    }
   ],
   "source": [
    "dataset['user_score'].isna().value_counts(normalize = True)"
   ]
  },
  {
   "cell_type": "markdown",
   "metadata": {},
   "source": [
    "## Вывод"
   ]
  },
  {
   "cell_type": "markdown",
   "metadata": {},
   "source": [
    "- Произведена стандартная проверка датасета на пропуски, дубликаты явные и неявные. \n",
    "- Названия столбцов приведены к нижнему регистру.\n",
    "- Удалены строки с очень неинформативными данными ( 2 строки) \n",
    "- Где было возможно, дополнен год релиза, если он был указан в наименовании игры. \n",
    "- Введен новый столбец с совокупными продажами по миру. \n",
    "- Отработано значение tbd - это пропуски и неясности\n",
    "- Отработаны значения пропусков в столбцах рейтинга, оценке критиков и оценкой пользователей, но в каждом столбце оставленны примерно 22% пропусков. \n",
    "- **Более от 40 до 51 % пропущенных значений в рейтинге, оценки критиков, пользовательской оценке.**"
   ]
  },
  {
   "cell_type": "markdown",
   "metadata": {},
   "source": [
    "## Исследовательский анализ данных "
   ]
  },
  {
   "cell_type": "markdown",
   "metadata": {},
   "source": [
    "### Сколько игр выпускалось в разные годы"
   ]
  },
  {
   "cell_type": "code",
   "execution_count": 28,
   "metadata": {},
   "outputs": [
    {
     "data": {
      "text/plain": [
       "<AxesSubplot:xlabel='year_of_release'>"
      ]
     },
     "execution_count": 28,
     "metadata": {},
     "output_type": "execute_result"
    },
    {
     "data": {
      "image/png": "[encoded data removed]",
      "text/plain": [
       "<Figure size 1080x360 with 1 Axes>"
      ]
     },
     "metadata": {
      "needs_background": "light"
     },
     "output_type": "display_data"
    }
   ],
   "source": [
    "dataset.groupby('year_of_release')['name'].count().plot(kind = 'bar', figsize = (15,5))"
   ]
  },
  {
   "cell_type": "markdown",
   "metadata": {},
   "source": [
    "Период лучше уточнить по процентности данных по годам, сделаем это! "
   ]
  },
  {
   "cell_type": "code",
   "execution_count": 29,
   "metadata": {},
   "outputs": [
    {
     "data": {
      "image/png": "[encoded data removed]",
      "text/plain": [
       "<Figure size 1080x360 with 1 Axes>"
      ]
     },
     "metadata": {
      "needs_background": "light"
     },
     "output_type": "display_data"
    }
   ],
   "source": [
    "cum = dataset.groupby('year_of_release')['name'].agg(['count', 'sum'])\n",
    "cum['sum'] = np.cumsum(dataset.groupby('year_of_release')['name'].count().values)\n",
    "cum['percent'] = round(cum['sum'] / len(dataset) * 100, 1).plot(y = 'percent', kind = 'bar', figsize = (15,5), grid = True)"
   ]
  },
  {
   "cell_type": "markdown",
   "metadata": {},
   "source": [
    "Как видим актуальный период лучше взять с 2001 года по 2016. Данные до 2001 года составляет до 20 % всех данных. \n",
    "Принимаем актуальный период с 2001 по 2016 год. "
   ]
  },
  {
   "cell_type": "markdown",
   "metadata": {},
   "source": [
    "### Как менялись продажи по платформам? Платформы с  наибольшими суммарными продажами?  За какой характерный срок появляются новые и исчезают старые платформы?"
   ]
  },
  {
   "cell_type": "markdown",
   "metadata": {},
   "source": [
    "Для этого мы уберем пропущенные значения по годам, сделаем сводную таблицу по сумме продаж в годы релиза и по платформам.\n",
    "Считаю важным отсортировать значения по убывания, от самой прибыльной платформы. \n",
    "И с помощью heatmap мы визуализируем три признака, как в течение времени разные платформы продавались. "
   ]
  },
  {
   "cell_type": "code",
   "execution_count": 30,
   "metadata": {},
   "outputs": [
    {
     "data": {
      "text/plain": [
       "<AxesSubplot:xlabel='year_of_release', ylabel='platform'>"
      ]
     },
     "execution_count": 30,
     "metadata": {},
     "output_type": "execute_result"
    },
    {
     "data": {
      "image/png": "[encoded data removed]",
      "text/plain": [
       "<Figure size 1080x576 with 2 Axes>"
      ]
     },
     "metadata": {
      "needs_background": "light"
     },
     "output_type": "display_data"
    }
   ],
   "source": [
    "tmp = dataset[~dataset[\"year_of_release\"].isna()] \n",
    "svod = tmp.pivot_table(index  = \"platform\", columns = \"year_of_release\",  values = \"sales\", aggfunc = 'sum')\n",
    "svod['main'] = tmp.groupby('platform')['sales'].sum()\n",
    "svod = svod.sort_values(by = 'main', ascending = False).drop(columns = 'main')\n",
    "plt.figure(figsize = (15,8)) \n",
    "sns.heatmap(svod, linewidth = 1)"
   ]
  },
  {
   "cell_type": "markdown",
   "metadata": {},
   "source": [
    "Карта отсортирована от самых прибыльных платформ по убыванию. <br>\n",
    "Сделаем ещё один информирующий график. "
   ]
  },
  {
   "cell_type": "code",
   "execution_count": 31,
   "metadata": {},
   "outputs": [
    {
     "data": {
      "text/plain": [
       "<AxesSubplot:xlabel='platform'>"
      ]
     },
     "execution_count": 31,
     "metadata": {},
     "output_type": "execute_result"
    },
    {
     "data": {
      "image/png": "[encoded data removed]",
      "text/plain": [
       "<Figure size 1080x360 with 1 Axes>"
      ]
     },
     "metadata": {
      "needs_background": "light"
     },
     "output_type": "display_data"
    }
   ],
   "source": [
    "(\n",
    "tmp.pivot_table(index  = \"year_of_release\", columns = \"platform\",  values = \"sales\", aggfunc = 'sum')\n",
    "   .count()\n",
    "   .sort_values(ascending = False)\n",
    "   .plot(kind = 'bar', figsize = (15,5), grid = True)\n",
    ")"
   ]
  },
  {
   "cell_type": "markdown",
   "metadata": {},
   "source": [
    "Из диаграммы следует, что жизнь популярных платформ, примерно лет 11 с погрешностью 1 год. <br>\n",
    "Отдельно выделяется PC - у неё самая большая живучесть, объяснется тем, что компьютеры у большинства людей, и они предназначены не только для работ, а также для игр. \n",
    "Интересно посмотреть цепочку из смены платформ PS:"
   ]
  },
  {
   "cell_type": "code",
   "execution_count": 32,
   "metadata": {},
   "outputs": [
    {
     "data": {
      "text/plain": [
       "<AxesSubplot:xlabel='year_of_release', ylabel='platform'>"
      ]
     },
     "execution_count": 32,
     "metadata": {},
     "output_type": "execute_result"
    },
    {
     "data": {
      "image/png": "[encoded data removed]",
      "text/plain": [
       "<Figure size 1080x360 with 2 Axes>"
      ]
     },
     "metadata": {
      "needs_background": "light"
     },
     "output_type": "display_data"
    }
   ],
   "source": [
    "plt.figure(figsize = (15,5))\n",
    "sns.heatmap(\n",
    "tmp.pivot_table(index  = \"platform\", columns = \"year_of_release\",  values = \"sales\", aggfunc = 'sum')\n",
    "   .query('platform in [\"ps\", \"ps2\", \"ps3\", \"ps4\"]')\n",
    "   ,linewidth = 1\n",
    ")"
   ]
  },
  {
   "cell_type": "markdown",
   "metadata": {},
   "source": [
    "Заметно, что идёт затухание уже и платформы PS4."
   ]
  },
  {
   "cell_type": "markdown",
   "metadata": {},
   "source": [
    "Аналогично, посмотрим и для Xbox серии платформ:"
   ]
  },
  {
   "cell_type": "code",
   "execution_count": 33,
   "metadata": {},
   "outputs": [
    {
     "data": {
      "text/plain": [
       "<AxesSubplot:xlabel='year_of_release', ylabel='platform'>"
      ]
     },
     "execution_count": 33,
     "metadata": {},
     "output_type": "execute_result"
    },
    {
     "data": {
      "image/png": "[encoded data removed]",
      "text/plain": [
       "<Figure size 1080x360 with 2 Axes>"
      ]
     },
     "metadata": {
      "needs_background": "light"
     },
     "output_type": "display_data"
    }
   ],
   "source": [
    "plt.figure(figsize = (15,5))\n",
    "sns.heatmap(\n",
    "tmp.pivot_table(index  = \"platform\", columns = \"year_of_release\",  values = \"sales\", aggfunc = 'sum')\n",
    "   .query('platform in [\"x360\", \"xone\"]')\n",
    "   ,linewidth = 1\n",
    ")"
   ]
  },
  {
   "cell_type": "markdown",
   "metadata": {},
   "source": [
    "Предварительно скажем, что платформы Xbox One и PS4 пока будут существовать, не учитывая то, что они пошли на спад. "
   ]
  },
  {
   "cell_type": "markdown",
   "metadata": {},
   "source": [
    "### Какие платформы лидируют по продажам, растут или падают? Выберите несколько потенциально прибыльных платформ."
   ]
  },
  {
   "cell_type": "markdown",
   "metadata": {},
   "source": [
    "Прибыльная платформа, она должна существовать сегодня и собирать большие суммы продаж, для этого отфильтруем данные. "
   ]
  },
  {
   "cell_type": "code",
   "execution_count": 34,
   "metadata": {},
   "outputs": [
    {
     "data": {
      "text/plain": [
       "Index(['ps4', 'xone', '3ds', 'pc', 'wiiu'], dtype='object', name='platform')"
      ]
     },
     "execution_count": 34,
     "metadata": {},
     "output_type": "execute_result"
    }
   ],
   "source": [
    "lst_plat = (dataset[(dataset['year_of_release'] == 2016) &\n",
    "            (dataset['year_of_release'] >= 2000)].groupby('platform')['sales']\n",
    "                                                      .sum()\n",
    "                                                      .sort_values(ascending = False)\n",
    "                                                      .head()\n",
    "                                                      .index\n",
    ")\n",
    "lst_plat"
   ]
  },
  {
   "cell_type": "code",
   "execution_count": 35,
   "metadata": {},
   "outputs": [
    {
     "data": {
      "text/plain": [
       "<AxesSubplot:xlabel='year_of_release'>"
      ]
     },
     "execution_count": 35,
     "metadata": {},
     "output_type": "execute_result"
    },
    {
     "data": {
      "image/png": "[encoded data removed]",
      "text/plain": [
       "<Figure size 1080x360 with 1 Axes>"
      ]
     },
     "metadata": {
      "needs_background": "light"
     },
     "output_type": "display_data"
    }
   ],
   "source": [
    "(\n",
    "dataset.query('platform in @lst_plat')[(~dataset[\"year_of_release\"].isna()) & (dataset['year_of_release'] >= 2014)]\n",
    ".pivot_table(index  = \"year_of_release\", columns = \"platform\",  values = \"sales\", aggfunc = 'sum')\n",
    ".plot(kind = 'bar', figsize = (15,5), grid = True, linewidth = 2)\n",
    ")"
   ]
  },
  {
   "cell_type": "markdown",
   "metadata": {},
   "source": [
    "Как мы видим, все платформы, что мы имеем идут на убывание, тепловая карта выше подтверждает, что это идёт по всем платформам.\n",
    "Поэтому **самая выгодная платформа пока считается PS4**, а следующая за ней XOne с продажами в три раза меньше."
   ]
  },
  {
   "cell_type": "markdown",
   "metadata": {},
   "source": [
    "### Постройте график по глобальным продажам игр в разбивке по  платформам"
   ]
  },
  {
   "cell_type": "code",
   "execution_count": 36,
   "metadata": {},
   "outputs": [
    {
     "data": {
      "text/plain": [
       "<matplotlib.lines.Line2D at 0x219aebd9cd0>"
      ]
     },
     "execution_count": 36,
     "metadata": {},
     "output_type": "execute_result"
    },
    {
     "data": {
      "image/png": "[encoded data removed]",
      "text/plain": [
       "<Figure size 1080x720 with 1 Axes>"
      ]
     },
     "metadata": {
      "needs_background": "light"
     },
     "output_type": "display_data"
    }
   ],
   "source": [
    "plt.figure(figsize = (15,10))\n",
    "sns.boxplot(data = dataset.query('platform in @lst_plat')[(~dataset[\"year_of_release\"].isna()) \n",
    "                                                          & (dataset['year_of_release'] >= 2014)], \n",
    "            x = 'platform', y = 'sales')\n",
    "plt.ylim(0, 1.6)\n",
    "plt.axhline(dataset.query('platform in @lst_plat')[(~dataset[\"year_of_release\"].isna()) \n",
    "                                                & (dataset['year_of_release'] >= 2014)\n",
    "                                                & (dataset['platform'] == 'ps4')]['sales'].median())"
   ]
  },
  {
   "cell_type": "markdown",
   "metadata": {},
   "source": [
    "Очень много выбросов в большую сторону, скорее всего это те самые \"хайповые\" игры. "
   ]
  },
  {
   "cell_type": "markdown",
   "metadata": {},
   "source": [
    "### Как влияют на продажи внутри одной популярной платформы  отзывы пользователей и критиков?"
   ]
  },
  {
   "cell_type": "code",
   "execution_count": 37,
   "metadata": {},
   "outputs": [
    {
     "data": {
      "text/plain": [
       "<seaborn.axisgrid.PairGrid at 0x219aebb0520>"
      ]
     },
     "execution_count": 37,
     "metadata": {},
     "output_type": "execute_result"
    },
    {
     "data": {
      "image/png": "[encoded data removed]",
      "text/plain": [
       "<Figure size 540x540 with 12 Axes>"
      ]
     },
     "metadata": {
      "needs_background": "light"
     },
     "output_type": "display_data"
    }
   ],
   "source": [
    "dataset_crit = dataset.loc[(~dataset['critic_score'].isna()) & (~dataset['user_score'].isna()), ['sales', 'critic_score','user_score']]\n",
    "dataset_crit = dataset_crit.astype({'user_score':'float32'})\n",
    "sns.pairplot(dataset_crit)"
   ]
  },
  {
   "cell_type": "code",
   "execution_count": 38,
   "metadata": {},
   "outputs": [
    {
     "data": {
      "text/html": [
       "<div>\n",
       "<style scoped>\n",
       "    .dataframe tbody tr th:only-of-type {\n",
       "        vertical-align: middle;\n",
       "    }\n",
       "\n",
       "    .dataframe tbody tr th {\n",
       "        vertical-align: top;\n",
       "    }\n",
       "\n",
       "    .dataframe thead th {\n",
       "        text-align: right;\n",
       "    }\n",
       "</style>\n",
       "<table border=\"1\" class=\"dataframe\">\n",
       "  <thead>\n",
       "    <tr style=\"text-align: right;\">\n",
       "      <th></th>\n",
       "      <th>sales</th>\n",
       "      <th>critic_score</th>\n",
       "      <th>user_score</th>\n",
       "    </tr>\n",
       "  </thead>\n",
       "  <tbody>\n",
       "    <tr>\n",
       "      <th>sales</th>\n",
       "      <td>1.000000</td>\n",
       "      <td>0.057313</td>\n",
       "      <td>0.018821</td>\n",
       "    </tr>\n",
       "    <tr>\n",
       "      <th>critic_score</th>\n",
       "      <td>0.057313</td>\n",
       "      <td>1.000000</td>\n",
       "      <td>0.391454</td>\n",
       "    </tr>\n",
       "    <tr>\n",
       "      <th>user_score</th>\n",
       "      <td>0.018821</td>\n",
       "      <td>0.391454</td>\n",
       "      <td>1.000000</td>\n",
       "    </tr>\n",
       "  </tbody>\n",
       "</table>\n",
       "</div>"
      ],
      "text/plain": [
       "                 sales  critic_score  user_score\n",
       "sales         1.000000      0.057313    0.018821\n",
       "critic_score  0.057313      1.000000    0.391454\n",
       "user_score    0.018821      0.391454    1.000000"
      ]
     },
     "execution_count": 38,
     "metadata": {},
     "output_type": "execute_result"
    }
   ],
   "source": [
    "dataset_crit.corr()"
   ]
  },
  {
   "cell_type": "markdown",
   "metadata": {},
   "source": [
    "**Продажи слабо и положительно коррелируют с оценкой критиков**, и почти не имеют взаимосвязи с пользовательской оценкой. К критикам прислушиваются больше, чем к пользовательским оценкам. "
   ]
  },
  {
   "cell_type": "markdown",
   "metadata": {},
   "source": [
    "### Соотнесите выводы с продажами игр на других платформах."
   ]
  },
  {
   "cell_type": "markdown",
   "metadata": {},
   "source": [
    "### Посмотрите на общее распределение игр по жанрам. Что можно сказать о  самых прибыльных жанрах? Выделяются ли жанры с высокими и низкими  продажами?"
   ]
  },
  {
   "cell_type": "code",
   "execution_count": 39,
   "metadata": {},
   "outputs": [
    {
     "data": {
      "text/plain": [
       "<AxesSubplot:xlabel='genre'>"
      ]
     },
     "execution_count": 39,
     "metadata": {},
     "output_type": "execute_result"
    },
    {
     "data": {
      "image/png": "[encoded data removed]",
      "text/plain": [
       "<Figure size 1080x360 with 1 Axes>"
      ]
     },
     "metadata": {
      "needs_background": "light"
     },
     "output_type": "display_data"
    }
   ],
   "source": [
    "(dataset.groupby('genre')['sales'].sum() / dataset['sales'].sum() * 100).sort_values().plot(kind = 'bar', figsize = (15,5))"
   ]
  },
  {
   "cell_type": "code",
   "execution_count": 40,
   "metadata": {},
   "outputs": [
    {
     "data": {
      "text/plain": [
       "<AxesSubplot:xlabel='genre'>"
      ]
     },
     "execution_count": 40,
     "metadata": {},
     "output_type": "execute_result"
    },
    {
     "data": {
      "image/png": "[encoded data removed]",
      "text/plain": [
       "<Figure size 1080x504 with 1 Axes>"
      ]
     },
     "metadata": {
      "needs_background": "light"
     },
     "output_type": "display_data"
    }
   ],
   "source": [
    "(dataset.groupby('genre')['sales'].agg(['mean', 'median']) / dataset['sales'].median() * 100).sort_values(by='median').plot(kind = 'bar', figsize = (15, 7))"
   ]
  },
  {
   "cell_type": "markdown",
   "metadata": {},
   "source": [
    "**Самый прибыльный жанр - action**, а самые низкие продажи по жанру - стратегия. "
   ]
  },
  {
   "cell_type": "markdown",
   "metadata": {},
   "source": [
    "### Вывод"
   ]
  },
  {
   "cell_type": "markdown",
   "metadata": {},
   "source": [
    "Выделяем главные моменты исследования: \n",
    "- Актуальный период с 2014 по 2016\n",
    "- Живучесть платформы в среднем 11 лет с погрешностью 1 год\n",
    "- Самая прибыльная платформа пока считается PS4\n",
    "- По глобальным продажам, очень много выбросов. \n",
    "- Продажи не коррелируют с пользовательской оценкой и оценкой критиков.\n",
    "- Самый прибыльный жанр - plarform.\n"
   ]
  },
  {
   "cell_type": "markdown",
   "metadata": {},
   "source": [
    "## Портрет пользователя каждого региона \n",
    "### Определите для пользователя каждого региона (NA, EU, JP). Самые популярные платформы (топ-5). Опишите различия в долях продаж. "
   ]
  },
  {
   "cell_type": "code",
   "execution_count": 41,
   "metadata": {},
   "outputs": [],
   "source": [
    "def top_platform_region(column, group_column = 'platform', percent = False, main_col = 'sales'):\n",
    "    data = (\n",
    "    pd.DataFrame(dataset.groupby(group_column)[column]\n",
    "           .sum()\n",
    "           .sort_values(ascending = False)\n",
    "           .head(), columns = [column])\n",
    "    )\n",
    "    if percent == True:\n",
    "        data['percent'] = round(data[column] / dataset[main_col].sum() * 100, 1)\n",
    "    return data"
   ]
  },
  {
   "cell_type": "code",
   "execution_count": 42,
   "metadata": {},
   "outputs": [
    {
     "name": "stdout",
     "output_type": "stream",
     "text": [
      "По платформам\n",
      "            eu_sales  percent\n",
      "platform                     \n",
      "ps2       339.290009      3.8\n",
      "ps3       330.290009      3.7\n",
      "x360      270.760010      3.0\n",
      "wii       262.209991      2.9\n",
      "ps        213.610001      2.4\n",
      "По жанру\n",
      "           eu_sales  percent\n",
      "genre                       \n",
      "action   519.130005      5.8\n",
      "sports   376.790009      4.2\n",
      "shooter  317.339996      3.6\n",
      "racing   236.509995      2.7\n",
      "misc     212.740005      2.4\n",
      "По времени\n",
      "                   eu_sales  percent\n",
      "year_of_release                     \n",
      "2009.0           188.270004      2.1\n",
      "2008.0           181.139999      2.0\n",
      "2010.0           171.419998      1.9\n",
      "2011.0           163.009995      1.8\n",
      "2007.0           157.830002      1.8\n"
     ]
    }
   ],
   "source": [
    "print(\"По платформам\")\n",
    "print(top_platform_region('eu_sales', percent = True))\n",
    "print(\"По жанру\")\n",
    "print(top_platform_region('eu_sales', group_column = 'genre', percent = True))\n",
    "print(\"По времени\")\n",
    "print(top_platform_region('eu_sales', group_column = 'year_of_release', percent = True))"
   ]
  },
  {
   "cell_type": "markdown",
   "metadata": {},
   "source": [
    "Cамая популярная платформа в Европе - PS2, жанр - action, пик продаж с 2007 по 2011"
   ]
  },
  {
   "cell_type": "code",
   "execution_count": 43,
   "metadata": {},
   "outputs": [
    {
     "name": "stdout",
     "output_type": "stream",
     "text": [
      "По платформам\n",
      "            na_sales  percent\n",
      "platform                     \n",
      "x360      602.469971      6.8\n",
      "ps2       583.840027      6.6\n",
      "wii       496.899994      5.6\n",
      "ps3       393.489990      4.4\n",
      "ds        382.399994      4.3\n",
      "По жанру\n",
      "            na_sales  percent\n",
      "genre                        \n",
      "action    879.010010      9.9\n",
      "sports    684.429993      7.7\n",
      "shooter   592.239990      6.6\n",
      "platform  445.500000      5.0\n",
      "misc      407.269989      4.6\n",
      "По времени\n",
      "                   na_sales  percent\n",
      "year_of_release                     \n",
      "2008.0           348.709991      3.9\n",
      "2009.0           335.589996      3.8\n",
      "2007.0           309.889984      3.5\n",
      "2010.0           300.649994      3.4\n",
      "2006.0           263.700012      3.0\n"
     ]
    }
   ],
   "source": [
    "print(\"По платформам\")\n",
    "print(top_platform_region('na_sales', percent = True))\n",
    "print(\"По жанру\")\n",
    "print(top_platform_region('na_sales', group_column = 'genre', percent = True))\n",
    "print(\"По времени\")\n",
    "print(top_platform_region('na_sales', group_column = 'year_of_release', percent = True))"
   ]
  },
  {
   "cell_type": "markdown",
   "metadata": {},
   "source": [
    "Cамая популярная платформа в Северной Америке - Xbox 360,  жанр - action, пик продаж с 2006 по 2010"
   ]
  },
  {
   "cell_type": "code",
   "execution_count": 44,
   "metadata": {},
   "outputs": [
    {
     "name": "stdout",
     "output_type": "stream",
     "text": [
      "По платформам\n",
      "            jp_sales  percent\n",
      "platform                     \n",
      "ds        175.570007      2.0\n",
      "ps        139.820007      1.6\n",
      "ps2       139.199997      1.6\n",
      "snes      116.550003      1.3\n",
      "3ds       100.669998      1.1\n",
      "По жанру\n",
      "                jp_sales  percent\n",
      "genre                            \n",
      "role-playing  355.410004      4.0\n",
      "action        161.429993      1.8\n",
      "sports        135.539993      1.5\n",
      "platform      130.830002      1.5\n",
      "misc          108.110001      1.2\n",
      "По времени\n",
      "                  jp_sales  percent\n",
      "year_of_release                    \n",
      "2006.0           73.779999      0.8\n",
      "2009.0           62.149998      0.7\n",
      "2007.0           60.290001      0.7\n",
      "2008.0           60.250000      0.7\n",
      "2010.0           59.490002      0.7\n"
     ]
    }
   ],
   "source": [
    "print(\"По платформам\")\n",
    "print(top_platform_region('jp_sales', percent = True))\n",
    "print(\"По жанру\")\n",
    "print(top_platform_region('jp_sales', group_column = 'genre', percent = True))\n",
    "print(\"По времени\")\n",
    "print(top_platform_region('jp_sales', group_column = 'year_of_release', percent = True))"
   ]
  },
  {
   "cell_type": "markdown",
   "metadata": {},
   "source": [
    "Cамая популярная платформа в Японии - DS, жанр - role-playing, пик продаж с 2006 по 2010"
   ]
  },
  {
   "cell_type": "code",
   "execution_count": 45,
   "metadata": {},
   "outputs": [
    {
     "data": {
      "text/plain": [
       "<AxesSubplot:xlabel='platform'>"
      ]
     },
     "execution_count": 45,
     "metadata": {},
     "output_type": "execute_result"
    },
    {
     "data": {
      "image/png": "[encoded data removed]",
      "text/plain": [
       "<Figure size 1296x360 with 1 Axes>"
      ]
     },
     "metadata": {
      "needs_background": "light"
     },
     "output_type": "display_data"
    }
   ],
   "source": [
    "dataset_top = top_platform_region('na_sales')\n",
    "dataset_top = dataset_top.merge(top_platform_region('eu_sales'), how = 'outer', left_index = True, right_index = True)\n",
    "dataset_top = dataset_top.merge(top_platform_region('jp_sales'), how = 'outer', left_index = True, right_index = True)\n",
    "dataset_top = dataset_top.merge(top_platform_region('sales'), how = 'outer', left_index = True, right_index = True)\n",
    "dataset_top.plot(kind = 'bar', figsize = (18,5), grid = True)"
   ]
  },
  {
   "cell_type": "markdown",
   "metadata": {},
   "source": [
    "Как видим из диаграммы PS2 популярна и в мире. <br>\n",
    "Северная Америка любит PS2 и Xbox360 практически одинаково и очень хорошо покупают игры на обеих платформах. <br>\n",
    "Европа склонна больше к платформам PS 1,2,3. <br>"
   ]
  },
  {
   "cell_type": "markdown",
   "metadata": {},
   "source": [
    "### Самые популярные жанры (топ-5). Поясните разницу. "
   ]
  },
  {
   "cell_type": "code",
   "execution_count": 46,
   "metadata": {},
   "outputs": [
    {
     "data": {
      "text/html": [
       "<div>\n",
       "<style scoped>\n",
       "    .dataframe tbody tr th:only-of-type {\n",
       "        vertical-align: middle;\n",
       "    }\n",
       "\n",
       "    .dataframe tbody tr th {\n",
       "        vertical-align: top;\n",
       "    }\n",
       "\n",
       "    .dataframe thead th {\n",
       "        text-align: right;\n",
       "    }\n",
       "</style>\n",
       "<table border=\"1\" class=\"dataframe\">\n",
       "  <thead>\n",
       "    <tr style=\"text-align: right;\">\n",
       "      <th></th>\n",
       "      <th>sales</th>\n",
       "      <th>percent</th>\n",
       "    </tr>\n",
       "    <tr>\n",
       "      <th>genre</th>\n",
       "      <th></th>\n",
       "      <th></th>\n",
       "    </tr>\n",
       "  </thead>\n",
       "  <tbody>\n",
       "    <tr>\n",
       "      <th>action</th>\n",
       "      <td>1744.170044</td>\n",
       "      <td>19.6</td>\n",
       "    </tr>\n",
       "    <tr>\n",
       "      <th>sports</th>\n",
       "      <td>1331.270020</td>\n",
       "      <td>14.9</td>\n",
       "    </tr>\n",
       "    <tr>\n",
       "      <th>shooter</th>\n",
       "      <td>1052.449951</td>\n",
       "      <td>11.8</td>\n",
       "    </tr>\n",
       "    <tr>\n",
       "      <th>role-playing</th>\n",
       "      <td>934.559998</td>\n",
       "      <td>10.5</td>\n",
       "    </tr>\n",
       "    <tr>\n",
       "      <th>platform</th>\n",
       "      <td>827.770020</td>\n",
       "      <td>9.3</td>\n",
       "    </tr>\n",
       "  </tbody>\n",
       "</table>\n",
       "</div>"
      ],
      "text/plain": [
       "                    sales  percent\n",
       "genre                             \n",
       "action        1744.170044     19.6\n",
       "sports        1331.270020     14.9\n",
       "shooter       1052.449951     11.8\n",
       "role-playing   934.559998     10.5\n",
       "platform       827.770020      9.3"
      ]
     },
     "execution_count": 46,
     "metadata": {},
     "output_type": "execute_result"
    }
   ],
   "source": [
    "top_platform_region('sales', group_column = 'genre', percent = True, main_col = 'sales')"
   ]
  },
  {
   "cell_type": "markdown",
   "metadata": {},
   "source": [
    "Самый популярный жанр в мире - action, он составляет почти 20% всех продаж в мире. "
   ]
  },
  {
   "cell_type": "markdown",
   "metadata": {},
   "source": [
    "### Влияет ли рейтинг ESRB на продажи в отдельном регионе?"
   ]
  },
  {
   "cell_type": "code",
   "execution_count": 47,
   "metadata": {},
   "outputs": [
    {
     "data": {
      "text/plain": [
       "<AxesSubplot:xlabel='rating'>"
      ]
     },
     "execution_count": 47,
     "metadata": {},
     "output_type": "execute_result"
    },
    {
     "data": {
      "image/png": "[encoded data removed]",
      "text/plain": [
       "<Figure size 1080x360 with 1 Axes>"
      ]
     },
     "metadata": {
      "needs_background": "light"
     },
     "output_type": "display_data"
    }
   ],
   "source": [
    "dataset.groupby('rating')['na_sales', 'eu_sales', 'jp_sales'].sum().plot(kind = 'bar', figsize = (15,5))"
   ]
  },
  {
   "cell_type": "code",
   "execution_count": 48,
   "metadata": {},
   "outputs": [
    {
     "data": {
      "text/html": [
       "<div>\n",
       "<style scoped>\n",
       "    .dataframe tbody tr th:only-of-type {\n",
       "        vertical-align: middle;\n",
       "    }\n",
       "\n",
       "    .dataframe tbody tr th {\n",
       "        vertical-align: top;\n",
       "    }\n",
       "\n",
       "    .dataframe thead th {\n",
       "        text-align: right;\n",
       "    }\n",
       "</style>\n",
       "<table border=\"1\" class=\"dataframe\">\n",
       "  <thead>\n",
       "    <tr style=\"text-align: right;\">\n",
       "      <th></th>\n",
       "      <th>na_sales</th>\n",
       "      <th>eu_sales</th>\n",
       "      <th>jp_sales</th>\n",
       "    </tr>\n",
       "    <tr>\n",
       "      <th>rating</th>\n",
       "      <th></th>\n",
       "      <th></th>\n",
       "      <th></th>\n",
       "    </tr>\n",
       "  </thead>\n",
       "  <tbody>\n",
       "    <tr>\n",
       "      <th>E</th>\n",
       "      <td>18.5</td>\n",
       "      <td>10.3</td>\n",
       "      <td>3.4</td>\n",
       "    </tr>\n",
       "    <tr>\n",
       "      <th>E10+</th>\n",
       "      <td>2.9</td>\n",
       "      <td>1.6</td>\n",
       "      <td>1.1</td>\n",
       "    </tr>\n",
       "    <tr>\n",
       "      <th>EC</th>\n",
       "      <td>0.0</td>\n",
       "      <td>0.0</td>\n",
       "      <td>0.0</td>\n",
       "    </tr>\n",
       "    <tr>\n",
       "      <th>K-A</th>\n",
       "      <td>0.0</td>\n",
       "      <td>0.0</td>\n",
       "      <td>0.0</td>\n",
       "    </tr>\n",
       "    <tr>\n",
       "      <th>M</th>\n",
       "      <td>9.0</td>\n",
       "      <td>6.0</td>\n",
       "      <td>0.8</td>\n",
       "    </tr>\n",
       "    <tr>\n",
       "      <th>RP</th>\n",
       "      <td>0.0</td>\n",
       "      <td>0.0</td>\n",
       "      <td>0.0</td>\n",
       "    </tr>\n",
       "    <tr>\n",
       "      <th>T</th>\n",
       "      <td>9.5</td>\n",
       "      <td>5.5</td>\n",
       "      <td>2.8</td>\n",
       "    </tr>\n",
       "  </tbody>\n",
       "</table>\n",
       "</div>"
      ],
      "text/plain": [
       "        na_sales  eu_sales  jp_sales\n",
       "rating                              \n",
       "E           18.5      10.3       3.4\n",
       "E10+         2.9       1.6       1.1\n",
       "EC           0.0       0.0       0.0\n",
       "K-A          0.0       0.0       0.0\n",
       "M            9.0       6.0       0.8\n",
       "RP           0.0       0.0       0.0\n",
       "T            9.5       5.5       2.8"
      ]
     },
     "execution_count": 48,
     "metadata": {},
     "output_type": "execute_result"
    }
   ],
   "source": [
    "round(dataset.groupby('rating')['na_sales', 'eu_sales', 'jp_sales'].sum() / dataset['sales'].sum() * 100, 1)"
   ]
  },
  {
   "cell_type": "markdown",
   "metadata": {},
   "source": [
    "Наблюдаем следующее: \n",
    "- \"E\" (для всех ) - очень хорошие продажи в Северной Америке 18.5 % от всех продаж, что мы имеем!, \n",
    "- А также Американцы, не прочь поиграть и в M (взрослым) и в T (подросткам) составляет ~9% от всех продаж.\n",
    "- Европейцам по душе \"E\" (для всех ) и тратят они 8% от всех продаж. "
   ]
  },
  {
   "cell_type": "markdown",
   "metadata": {},
   "source": [
    "### Вывод"
   ]
  },
  {
   "cell_type": "markdown",
   "metadata": {},
   "source": [
    "Выделяем самые интересные моменты:\n",
    "- Cамая популярная платформа в Европе - PS2, жанр - action, пик продаж с 2007 по 2011\n",
    "- Cамая популярная платформа в Северной Америке - Xbox 360,  жанр - action, пик продаж с 2006 по 2010\n",
    "- Cамая популярная платформа в Японии - DS, жанр - role-playing, пик продаж с 2006 по 2010\n",
    "- PS2 пока является самой прибыльной платформой, но она уже не актуальна. \n",
    "- Самый популярный жанр в мире - action, он составляет почти 20% всех продаж в мире. \n",
    "- По ESRB \"E\" (для всех ) - очень хорошие продажи в Северной Америке 18.5 % от всех продаж."
   ]
  },
  {
   "cell_type": "markdown",
   "metadata": {},
   "source": [
    "## Проверьте гипотезы "
   ]
  },
  {
   "cell_type": "markdown",
   "metadata": {},
   "source": [
    "### Средние пользовательские рейтинги платформ Xbox One и PC одинаковые"
   ]
  },
  {
   "cell_type": "markdown",
   "metadata": {},
   "source": [
    "Посмотрим данные перед анализом:"
   ]
  },
  {
   "cell_type": "code",
   "execution_count": 49,
   "metadata": {},
   "outputs": [
    {
     "data": {
      "text/plain": [
       "<AxesSubplot:>"
      ]
     },
     "execution_count": 49,
     "metadata": {},
     "output_type": "execute_result"
    },
    {
     "data": {
      "image/png": "[encoded data removed]",
      "text/plain": [
       "<Figure size 432x288 with 1 Axes>"
      ]
     },
     "metadata": {
      "needs_background": "light"
     },
     "output_type": "display_data"
    }
   ],
   "source": [
    "dataset_user = dataset.dropna(subset = ['user_score'])\n",
    "dataset_user = dataset_user.astype({'user_score' : 'float32'})\n",
    "dataset_user['user_score'].plot(kind = 'box')"
   ]
  },
  {
   "cell_type": "markdown",
   "metadata": {},
   "source": [
    "Очень много выбросов справа, очистим их:"
   ]
  },
  {
   "cell_type": "code",
   "execution_count": 50,
   "metadata": {},
   "outputs": [
    {
     "name": "stdout",
     "output_type": "stream",
     "text": [
      "Выбросов: 0.6 %\n"
     ]
    }
   ],
   "source": [
    "per = round(len(dataset_user.loc[dataset_user['user_score'] <= 4.1]) / len(dataset_user) * 100, 1)\n",
    "print(f'Выбросов: {per} %')"
   ]
  },
  {
   "cell_type": "code",
   "execution_count": 51,
   "metadata": {},
   "outputs": [],
   "source": [
    "dataset_user = dataset_user.loc[dataset_user['user_score'] > 4.1]"
   ]
  },
  {
   "cell_type": "markdown",
   "metadata": {},
   "source": [
    "Сформулируем гипотезы: <br>\n",
    "H0 - Средние пользовательские оценки платформы Xbox One и PC равны <br>\n",
    "H1 - Средние пользовательские оценки платформы Xbox One и PC не равны <br>\n",
    "Уровень значимости alpha = 0.05 <br>\n",
    "Для расчёта статистики разности и p-value будем использовать функцию st.ttest_ind по критерию Стьюдента"
   ]
  },
  {
   "cell_type": "code",
   "execution_count": 52,
   "metadata": {},
   "outputs": [
    {
     "name": "stdout",
     "output_type": "stream",
     "text": [
      "p-value: 3.5120350705410774e-21\n"
     ]
    }
   ],
   "source": [
    "results = st.ttest_ind(dataset_user.loc[dataset_user['platform'] == 'xone', 'user_score'], \n",
    "                       dataset_user.loc[dataset_user['platform'] == 'pc', 'user_score'], \n",
    "                       equal_var=False)\n",
    "print('p-value:', results.pvalue)"
   ]
  },
  {
   "cell_type": "markdown",
   "metadata": {},
   "source": [
    "Pvalue намного меньше нуля, что значит мы должны отвергнуть нулевую гипотезу H0 в пользу альтернативной H1, что значит - средние пользовательские оценки платформы Xbox One и PC не равны. "
   ]
  },
  {
   "cell_type": "markdown",
   "metadata": {},
   "source": [
    "### Средние пользовательские рейтинги жанров Action (англ. «действие», экшен- игры) и Sports (англ. «спортивные соревнования») разные"
   ]
  },
  {
   "cell_type": "markdown",
   "metadata": {},
   "source": [
    "Для начала сформулируем гипотезы: <br>\n",
    "H0 - Средние пользовательские рейтинги жанров Action и Sports равны. <br>\n",
    "H1 - Средние пользовательские рейтинги жанров Action и Sports не равны, то есть разные.  <br>\n",
    "Уровень значимости alpha = 0.05 <br>\n",
    "Для расчёта статистики разности и p-value будем использовать функцию st.ttest_ind по критерию Стьюдента"
   ]
  },
  {
   "cell_type": "code",
   "execution_count": 53,
   "metadata": {},
   "outputs": [
    {
     "name": "stdout",
     "output_type": "stream",
     "text": [
      "p-value: 0.48581037404948\n"
     ]
    }
   ],
   "source": [
    "results = st.ttest_ind(dataset_user[dataset_user['genre'] == 'action']['user_score'], \n",
    "                       dataset_user[dataset_user['genre'] == 'sports']['user_score'], \n",
    "                       equal_var=False)\n",
    "print('p-value:', results.pvalue)"
   ]
  },
  {
   "cell_type": "markdown",
   "metadata": {},
   "source": [
    "Pvalue больше значения alpha = 0.05, что значит мы должны принять нулевую гипотезу H0 и отвергнуть альтернативную H1. То есть предположение о том, что средние пользовательские оценки жанров action и sports разные требуется опровергнуть. "
   ]
  },
  {
   "cell_type": "markdown",
   "metadata": {},
   "source": [
    "### Вывод"
   ]
  },
  {
   "cell_type": "markdown",
   "metadata": {},
   "source": [
    "- Очистили выбросы по столбцу пользовательской оценки\n",
    "- Отвергнули предположение о том, что средние пользовательские рейтинги платформ Xbox One и PC одинаковые\n",
    "- Отвергнули предположение о том, что средние пользовательские рейтинги жанров Action (англ. «действие», экшен- игры) и Sports (англ. «спортивные соревнования») разные"
   ]
  },
  {
   "cell_type": "markdown",
   "metadata": {},
   "source": [
    "# Вывод "
   ]
  },
  {
   "cell_type": "markdown",
   "metadata": {},
   "source": [
    "#### И так соберем всю картину воедино! : \n",
    "\n",
    "__Общее:__ <br>\n",
    "- Более от 40 до 51 % пропущенных значений в рейтинге, оценки критиков, пользовательской оценке, а также мелкие пропуски в дате релиза и жанрах. <br>\n",
    "__По исследовальскому анализу:__ <br>\n",
    "- Актуальный период с 2001 по 2016\n",
    "- Живучесть платформы в среднем 11 лет с погрешностью 1 год\n",
    "- Самая прибыльная платформа пока считается PS4\n",
    "- По глобальным продажам, очень много выбросов. \n",
    "- Продажи невзаимосвязаны с оценкой критиков и пользовательской оценкой. \n",
    "- Самый прибыльный жанр - platform <br>\n",
    "__По статическому анализу:__ <br>\n",
    "- Cамая популярная платформа в Европе - PS2, жанр - action, пик продаж с 2007 по 2011\n",
    "- Cамая популярная платформа в Северной Америке - Xbox 360,  жанр - action, пик продаж с 2006 по 2010\n",
    "- Cамая популярная платформа в Японии - DS, жанр - role-playing, пик продаж с 2006 по 2010\n",
    "- PS2 пока является самой прибыльной платформой, но она уже не актуальна. \n",
    "- Самый популярный жанр в мире - action, он составляет почти 20% всех продаж в мире. \n",
    "- По ESRB \"E\" (для всех ) - очень хорошие продажи в Северной Америке 18.5 % от всех продаж.<br>\n",
    "__По гипотезам:__ <br>\n",
    "- Отвергнули предположение о том, что средние пользовательские рейтинги платформ Xbox One и PC одинаковые\n",
    "- Отвергнули предположение о том, что средние пользовательские рейтинги жанров Action (англ. «действие», экшен- игры) и Sports (англ. «спортивные соревнования») разные\n",
    "    \n",
    "__Общий прогноз:__ <br>\n",
    "- В 2017 году, стоит сделать упор на PS4 с жанром platform или action с рейтингом по ESRB \"E\" (для всех ), все эти показатели имеют топ проданных копий по своей метрике.\n",
    "- Если игра будет выпускаться на несколько платформ, следует аналогично выпустить на Xone, она не менее прибыльна. "
   ]
  }
 ],
 "metadata": {
  "ExecuteTimeLog": [
   {
    "duration": 4,
    "start_time": "2022-04-19T05:50:30.966Z"
   },
   {
    "duration": 171,
    "start_time": "2022-04-19T05:50:31.706Z"
   },
   {
    "duration": 13,
    "start_time": "2022-04-19T05:50:32.739Z"
   },
   {
    "duration": 21,
    "start_time": "2022-04-19T05:50:33.748Z"
   },
   {
    "duration": 8,
    "start_time": "2022-04-19T05:50:34.362Z"
   },
   {
    "duration": 57,
    "start_time": "2022-04-19T05:50:34.568Z"
   },
   {
    "duration": 18,
    "start_time": "2022-04-19T05:50:35.220Z"
   },
   {
    "duration": 7,
    "start_time": "2022-04-19T05:50:35.663Z"
   },
   {
    "duration": 20,
    "start_time": "2022-04-19T05:50:36.945Z"
   },
   {
    "duration": 9,
    "start_time": "2022-04-19T05:50:37.359Z"
   },
   {
    "duration": 6,
    "start_time": "2022-04-19T05:50:37.664Z"
   },
   {
    "duration": 4,
    "start_time": "2022-04-19T05:50:38.577Z"
   },
   {
    "duration": 5,
    "start_time": "2022-04-19T05:50:39.599Z"
   },
   {
    "duration": 12,
    "start_time": "2022-04-19T05:50:40.979Z"
   },
   {
    "duration": 271,
    "start_time": "2022-04-19T05:50:44.020Z"
   },
   {
    "duration": 431,
    "start_time": "2022-04-19T05:50:44.762Z"
   },
   {
    "duration": 1173,
    "start_time": "2022-04-19T05:50:46.134Z"
   },
   {
    "duration": 284,
    "start_time": "2022-04-19T05:50:49.186Z"
   },
   {
    "duration": 514,
    "start_time": "2022-04-19T05:50:50.696Z"
   },
   {
    "duration": 464,
    "start_time": "2022-04-19T05:50:52.815Z"
   }
  ],
  "kernelspec": {
   "display_name": "Python 3 (ipykernel)",
   "language": "python",
   "name": "python3"
  },
  "language_info": {
   "codemirror_mode": {
    "name": "ipython",
    "version": 3
   },
   "file_extension": ".py",
   "mimetype": "text/x-python",
   "name": "python",
   "nbconvert_exporter": "python",
   "pygments_lexer": "ipython3",
   "version": "3.9.7"
  },
  "toc": {
   "base_numbering": 1,
   "nav_menu": {},
   "number_sections": true,
   "sideBar": true,
   "skip_h1_title": true,
   "title_cell": "Table of Contents",
   "title_sidebar": "Contents",
   "toc_cell": false,
   "toc_position": {},
   "toc_section_display": true,
   "toc_window_display": false
  }
 },
 "nbformat": 4,
 "nbformat_minor": 2
}
