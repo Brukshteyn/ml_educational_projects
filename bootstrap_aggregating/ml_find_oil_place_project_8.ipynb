{
 "cells": [
  {
   "cell_type": "markdown",
   "id": "c4963d0a",
   "metadata": {},
   "source": [
    "### Описание проекта\n",
    "Допустим, вы работаете в добывающей компании «ГлавРосГосНефть». Нужно решить, где бурить новую скважину.<br>\n",
    "Шаги для выбора локации обычно такие:<br>\n",
    "- В избранном регионе собирают характеристики для скважин: качество нефти и объём её запасов;\n",
    "- Строят модель для предсказания объёма запасов в новых скважинах;\n",
    "- Выбирают скважины с самыми высокими оценками значений;\n",
    "- Определяют регион с максимальной суммарной прибылью отобранных скважин.\n",
    "- Вам предоставлены пробы нефти в трёх регионах. Характеристики для каждой скважины в регионе уже известны. Постройте модель для определения региона, где добыча принесёт наибольшую прибыль. Проанализируйте возможную прибыль и риски техникой Bootstrap.\n",
    "\n",
    "### Условия задачи:\n",
    "- Для обучения модели подходит только линейная регрессия (остальные — недостаточно предсказуемые).\n",
    "- При разведке региона исследуют 500 точек, из которых с помощью машинного обучения выбирают 200 лучших для разработки.\n",
    "- Бюджет на разработку скважин в регионе — 10 млрд рублей.\n",
    "- При нынешних ценах один баррель сырья приносит 450 рублей дохода. Доход с каждой единицы продукта составляет 450 тыс. рублей, поскольку объём указан в тысячах баррелей.\n",
    "- После оценки рисков нужно оставить лишь те регионы, в которых вероятность убытков меньше 2.5%. Среди них выбирают регион с наибольшей средней прибылью.\n",
    "- Данные синтетические: детали контрактов и характеристики месторождений не разглашаются."
   ]
  },
  {
   "cell_type": "markdown",
   "id": "7cf7f887",
   "metadata": {},
   "source": [
    "## Загрузка и подготовка данных"
   ]
  },
  {
   "cell_type": "code",
   "execution_count": 1,
   "id": "895faaf8",
   "metadata": {},
   "outputs": [],
   "source": [
    "import pandas as pd\n",
    "import numpy as np\n",
    "import seaborn as sns\n",
    "from sklearn.model_selection import train_test_split\n",
    "from sklearn.linear_model import LinearRegression\n",
    "from sklearn.metrics import mean_squared_error\n",
    "from numpy.random import RandomState"
   ]
  },
  {
   "cell_type": "markdown",
   "id": "469626ef",
   "metadata": {},
   "source": [
    "Подгрузим данные и взглянем на них:"
   ]
  },
  {
   "cell_type": "code",
   "execution_count": 2,
   "id": "e87aa4b5",
   "metadata": {},
   "outputs": [],
   "source": [
    "try:\n",
    "    data_1 = pd.read_csv('geo_data_0.csv')\n",
    "    data_2 = pd.read_csv('geo_data_1.csv')\n",
    "    data_3 = pd.read_csv('geo_data_2.csv')\n",
    "except:\n",
    "    data_1 = pd.read_csv('https://code.s3.yandex.net/datasets/geo_data_0.csv')\n",
    "    data_2 = pd.read_csv('https://code.s3.yandex.net/datasets/geo_data_1.csv')\n",
    "    data_3 = pd.read_csv('https://code.s3.yandex.net/datasets/geo_data_2.csv')"
   ]
  },
  {
   "cell_type": "markdown",
   "id": "0bfed814",
   "metadata": {},
   "source": [
    "Чтобы не повторяться, сделаю функцию отчёт по необходимым критериям"
   ]
  },
  {
   "cell_type": "code",
   "execution_count": 3,
   "id": "8a58eb30",
   "metadata": {},
   "outputs": [],
   "source": [
    "def check(data, label):\n",
    "    \"\"\"\n",
    "    Вход:\n",
    "    data - датасет для анализа\n",
    "    label - название\n",
    "    \n",
    "    Функция повторяет info, но здесь для себя столбцы с уникальными значениями и пропусками выводится\n",
    "    в процентном содержании. Ну и также визуализация корреляции. \n",
    "    \"\"\"\n",
    "    print(label)\n",
    "    res = pd.DataFrame()\n",
    "    res['type'] = data.dtypes\n",
    "    res['Uniq'] = data.nunique() / len(data)\n",
    "    res['NaN'] = data.isna().sum() / len(data)\n",
    "    print(res)\n",
    "    sns.heatmap(data.corr(), annot = True, cmap = \"mako\")"
   ]
  },
  {
   "cell_type": "markdown",
   "id": "1e47209a",
   "metadata": {},
   "source": [
    "Начнем анализ, только самое главное! "
   ]
  },
  {
   "cell_type": "code",
   "execution_count": 4,
   "id": "04aa5846",
   "metadata": {},
   "outputs": [
    {
     "name": "stdout",
     "output_type": "stream",
     "text": [
      "----------------Датасет первого региона----------------\n",
      "            type    Uniq  NaN\n",
      "id        object  0.9999  0.0\n",
      "f0       float64  1.0000  0.0\n",
      "f1       float64  1.0000  0.0\n",
      "f2       float64  1.0000  0.0\n",
      "product  float64  1.0000  0.0\n"
     ]
    },
    {
     "data": {
      "image/png": "[encoded data removed]",
      "text/plain": [
       "<Figure size 432x288 with 2 Axes>"
      ]
     },
     "metadata": {
      "needs_background": "light"
     },
     "output_type": "display_data"
    }
   ],
   "source": [
    "check(data_1, '----------------Датасет первого региона----------------')"
   ]
  },
  {
   "cell_type": "markdown",
   "id": "5d6bc9e8",
   "metadata": {},
   "source": [
    "Типы в норме, пропусков нет. <br>  \n",
    "__Значения id повторяются__ - возьмём на заметку. <br> \n",
    "Нормальная отрицательная корреляция между параметрами f1 и f2 --> -0.44. <br> \n",
    "Нормальная положительная корреляция между параметрами f1 и f2 --> 0.48\n"
   ]
  },
  {
   "cell_type": "code",
   "execution_count": 5,
   "id": "0cc64075",
   "metadata": {},
   "outputs": [
    {
     "name": "stdout",
     "output_type": "stream",
     "text": [
      "----------------Датасет второго региона----------------\n",
      "            type     Uniq  NaN\n",
      "id        object  0.99996  0.0\n",
      "f0       float64  1.00000  0.0\n",
      "f1       float64  1.00000  0.0\n",
      "f2       float64  1.00000  0.0\n",
      "product  float64  0.00012  0.0\n"
     ]
    },
    {
     "data": {
      "image/png": "[encoded data removed]",
      "text/plain": [
       "<Figure size 432x288 with 2 Axes>"
      ]
     },
     "metadata": {
      "needs_background": "light"
     },
     "output_type": "display_data"
    }
   ],
   "source": [
    "check(data_2, '----------------Датасет второго региона----------------')"
   ]
  },
  {
   "cell_type": "markdown",
   "id": "d222dfcd",
   "metadata": {},
   "source": [
    "Типы в норме, пропусков нет. <br>  \n",
    "__Значения id повторяются__ - возьмём на заметку. <br> \n",
    "__Значения product__  - очень мало уникальных значений, проверим! <br> \n",
    "На корреляцию f2 и product не имеет смысла смотреть. "
   ]
  },
  {
   "cell_type": "code",
   "execution_count": 6,
   "id": "db23dcec",
   "metadata": {},
   "outputs": [
    {
     "name": "stdout",
     "output_type": "stream",
     "text": [
      "----------------Датасет третьего региона----------------\n",
      "            type     Uniq  NaN\n",
      "id        object  0.99996  0.0\n",
      "f0       float64  1.00000  0.0\n",
      "f1       float64  1.00000  0.0\n",
      "f2       float64  1.00000  0.0\n",
      "product  float64  1.00000  0.0\n"
     ]
    },
    {
     "data": {
      "image/png": "[encoded data removed]",
      "text/plain": [
       "<Figure size 432x288 with 2 Axes>"
      ]
     },
     "metadata": {
      "needs_background": "light"
     },
     "output_type": "display_data"
    }
   ],
   "source": [
    "check(data_3, '----------------Датасет третьего региона----------------')"
   ]
  },
  {
   "cell_type": "markdown",
   "id": "e1da8dba",
   "metadata": {},
   "source": [
    "Типы в норме, пропусков нет. <br>  \n",
    "__Значения id повторяются__ - возьмём на заметку. <br> \n",
    "Нормальная положительная корреляция между параметрами f2 и product --> 0.45"
   ]
  },
  {
   "cell_type": "markdown",
   "id": "69c578f2",
   "metadata": {},
   "source": [
    "__Значения id повторяются__ проверим:"
   ]
  },
  {
   "cell_type": "code",
   "execution_count": 7,
   "id": "946e665e",
   "metadata": {},
   "outputs": [
    {
     "data": {
      "text/html": [
       "<div>\n",
       "<style scoped>\n",
       "    .dataframe tbody tr th:only-of-type {\n",
       "        vertical-align: middle;\n",
       "    }\n",
       "\n",
       "    .dataframe tbody tr th {\n",
       "        vertical-align: top;\n",
       "    }\n",
       "\n",
       "    .dataframe thead th {\n",
       "        text-align: right;\n",
       "    }\n",
       "</style>\n",
       "<table border=\"1\" class=\"dataframe\">\n",
       "  <thead>\n",
       "    <tr style=\"text-align: right;\">\n",
       "      <th></th>\n",
       "      <th>id</th>\n",
       "      <th>f0</th>\n",
       "      <th>f1</th>\n",
       "      <th>f2</th>\n",
       "      <th>product</th>\n",
       "    </tr>\n",
       "  </thead>\n",
       "  <tbody>\n",
       "    <tr>\n",
       "      <th>7530</th>\n",
       "      <td>HZww2</td>\n",
       "      <td>1.061194</td>\n",
       "      <td>-0.373969</td>\n",
       "      <td>10.430210</td>\n",
       "      <td>158.828695</td>\n",
       "    </tr>\n",
       "    <tr>\n",
       "      <th>41724</th>\n",
       "      <td>bxg6G</td>\n",
       "      <td>-0.823752</td>\n",
       "      <td>0.546319</td>\n",
       "      <td>3.630479</td>\n",
       "      <td>93.007798</td>\n",
       "    </tr>\n",
       "    <tr>\n",
       "      <th>51970</th>\n",
       "      <td>A5aEY</td>\n",
       "      <td>-0.180335</td>\n",
       "      <td>0.935548</td>\n",
       "      <td>-2.094773</td>\n",
       "      <td>33.020205</td>\n",
       "    </tr>\n",
       "    <tr>\n",
       "      <th>63593</th>\n",
       "      <td>QcMuo</td>\n",
       "      <td>0.635635</td>\n",
       "      <td>-0.473422</td>\n",
       "      <td>0.862670</td>\n",
       "      <td>64.578675</td>\n",
       "    </tr>\n",
       "    <tr>\n",
       "      <th>66136</th>\n",
       "      <td>74z30</td>\n",
       "      <td>1.084962</td>\n",
       "      <td>-0.312358</td>\n",
       "      <td>6.990771</td>\n",
       "      <td>127.643327</td>\n",
       "    </tr>\n",
       "    <tr>\n",
       "      <th>69163</th>\n",
       "      <td>AGS9W</td>\n",
       "      <td>-0.933795</td>\n",
       "      <td>0.116194</td>\n",
       "      <td>-3.655896</td>\n",
       "      <td>19.230453</td>\n",
       "    </tr>\n",
       "    <tr>\n",
       "      <th>75715</th>\n",
       "      <td>Tdehs</td>\n",
       "      <td>0.112079</td>\n",
       "      <td>0.430296</td>\n",
       "      <td>3.218993</td>\n",
       "      <td>60.964018</td>\n",
       "    </tr>\n",
       "    <tr>\n",
       "      <th>90815</th>\n",
       "      <td>fiKDv</td>\n",
       "      <td>0.049883</td>\n",
       "      <td>0.841313</td>\n",
       "      <td>6.394613</td>\n",
       "      <td>137.346586</td>\n",
       "    </tr>\n",
       "    <tr>\n",
       "      <th>92341</th>\n",
       "      <td>TtcGQ</td>\n",
       "      <td>0.110711</td>\n",
       "      <td>1.022689</td>\n",
       "      <td>0.911381</td>\n",
       "      <td>101.318008</td>\n",
       "    </tr>\n",
       "    <tr>\n",
       "      <th>97785</th>\n",
       "      <td>bsk9y</td>\n",
       "      <td>0.378429</td>\n",
       "      <td>0.005837</td>\n",
       "      <td>0.160827</td>\n",
       "      <td>160.637302</td>\n",
       "    </tr>\n",
       "  </tbody>\n",
       "</table>\n",
       "</div>"
      ],
      "text/plain": [
       "          id        f0        f1         f2     product\n",
       "7530   HZww2  1.061194 -0.373969  10.430210  158.828695\n",
       "41724  bxg6G -0.823752  0.546319   3.630479   93.007798\n",
       "51970  A5aEY -0.180335  0.935548  -2.094773   33.020205\n",
       "63593  QcMuo  0.635635 -0.473422   0.862670   64.578675\n",
       "66136  74z30  1.084962 -0.312358   6.990771  127.643327\n",
       "69163  AGS9W -0.933795  0.116194  -3.655896   19.230453\n",
       "75715  Tdehs  0.112079  0.430296   3.218993   60.964018\n",
       "90815  fiKDv  0.049883  0.841313   6.394613  137.346586\n",
       "92341  TtcGQ  0.110711  1.022689   0.911381  101.318008\n",
       "97785  bsk9y  0.378429  0.005837   0.160827  160.637302"
      ]
     },
     "execution_count": 7,
     "metadata": {},
     "output_type": "execute_result"
    }
   ],
   "source": [
    "data_1[data_1['id'].duplicated()]"
   ]
  },
  {
   "cell_type": "code",
   "execution_count": 8,
   "id": "a688c622",
   "metadata": {},
   "outputs": [
    {
     "data": {
      "text/html": [
       "<div>\n",
       "<style scoped>\n",
       "    .dataframe tbody tr th:only-of-type {\n",
       "        vertical-align: middle;\n",
       "    }\n",
       "\n",
       "    .dataframe tbody tr th {\n",
       "        vertical-align: top;\n",
       "    }\n",
       "\n",
       "    .dataframe thead th {\n",
       "        text-align: right;\n",
       "    }\n",
       "</style>\n",
       "<table border=\"1\" class=\"dataframe\">\n",
       "  <thead>\n",
       "    <tr style=\"text-align: right;\">\n",
       "      <th></th>\n",
       "      <th>id</th>\n",
       "      <th>f0</th>\n",
       "      <th>f1</th>\n",
       "      <th>f2</th>\n",
       "      <th>product</th>\n",
       "    </tr>\n",
       "  </thead>\n",
       "  <tbody>\n",
       "    <tr>\n",
       "      <th>931</th>\n",
       "      <td>HZww2</td>\n",
       "      <td>0.755284</td>\n",
       "      <td>0.368511</td>\n",
       "      <td>1.863211</td>\n",
       "      <td>30.681774</td>\n",
       "    </tr>\n",
       "    <tr>\n",
       "      <th>7530</th>\n",
       "      <td>HZww2</td>\n",
       "      <td>1.061194</td>\n",
       "      <td>-0.373969</td>\n",
       "      <td>10.430210</td>\n",
       "      <td>158.828695</td>\n",
       "    </tr>\n",
       "  </tbody>\n",
       "</table>\n",
       "</div>"
      ],
      "text/plain": [
       "         id        f0        f1         f2     product\n",
       "931   HZww2  0.755284  0.368511   1.863211   30.681774\n",
       "7530  HZww2  1.061194 -0.373969  10.430210  158.828695"
      ]
     },
     "execution_count": 8,
     "metadata": {},
     "output_type": "execute_result"
    }
   ],
   "source": [
    "data_1[data_1['id'] == 'HZww2']"
   ]
  },
  {
   "cell_type": "markdown",
   "id": "a8eabe34",
   "metadata": {},
   "source": [
    "Разные параметры у одинаковых id, странно, но ничего с этим делать не будем, оставим как есть. "
   ]
  },
  {
   "cell_type": "code",
   "execution_count": 9,
   "id": "81074468",
   "metadata": {},
   "outputs": [
    {
     "data": {
      "text/html": [
       "<div>\n",
       "<style scoped>\n",
       "    .dataframe tbody tr th:only-of-type {\n",
       "        vertical-align: middle;\n",
       "    }\n",
       "\n",
       "    .dataframe tbody tr th {\n",
       "        vertical-align: top;\n",
       "    }\n",
       "\n",
       "    .dataframe thead th {\n",
       "        text-align: right;\n",
       "    }\n",
       "</style>\n",
       "<table border=\"1\" class=\"dataframe\">\n",
       "  <thead>\n",
       "    <tr style=\"text-align: right;\">\n",
       "      <th></th>\n",
       "      <th>id</th>\n",
       "      <th>f0</th>\n",
       "      <th>f1</th>\n",
       "      <th>f2</th>\n",
       "      <th>product</th>\n",
       "    </tr>\n",
       "  </thead>\n",
       "  <tbody>\n",
       "    <tr>\n",
       "      <th>0</th>\n",
       "      <td>kBEdx</td>\n",
       "      <td>-15.001348</td>\n",
       "      <td>-8.276000</td>\n",
       "      <td>-0.005876</td>\n",
       "      <td>3.179103</td>\n",
       "    </tr>\n",
       "    <tr>\n",
       "      <th>1</th>\n",
       "      <td>62mP7</td>\n",
       "      <td>14.272088</td>\n",
       "      <td>-3.475083</td>\n",
       "      <td>0.999183</td>\n",
       "      <td>26.953261</td>\n",
       "    </tr>\n",
       "    <tr>\n",
       "      <th>2</th>\n",
       "      <td>vyE1P</td>\n",
       "      <td>6.263187</td>\n",
       "      <td>-5.948386</td>\n",
       "      <td>5.001160</td>\n",
       "      <td>134.766305</td>\n",
       "    </tr>\n",
       "    <tr>\n",
       "      <th>3</th>\n",
       "      <td>KcrkZ</td>\n",
       "      <td>-13.081196</td>\n",
       "      <td>-11.506057</td>\n",
       "      <td>4.999415</td>\n",
       "      <td>137.945408</td>\n",
       "    </tr>\n",
       "    <tr>\n",
       "      <th>4</th>\n",
       "      <td>AHL4O</td>\n",
       "      <td>12.702195</td>\n",
       "      <td>-8.147433</td>\n",
       "      <td>5.004363</td>\n",
       "      <td>134.766305</td>\n",
       "    </tr>\n",
       "    <tr>\n",
       "      <th>5</th>\n",
       "      <td>HHckp</td>\n",
       "      <td>-3.327590</td>\n",
       "      <td>-2.205276</td>\n",
       "      <td>3.003647</td>\n",
       "      <td>84.038886</td>\n",
       "    </tr>\n",
       "    <tr>\n",
       "      <th>6</th>\n",
       "      <td>h5Ujo</td>\n",
       "      <td>-11.142655</td>\n",
       "      <td>-10.133399</td>\n",
       "      <td>4.002382</td>\n",
       "      <td>110.992147</td>\n",
       "    </tr>\n",
       "    <tr>\n",
       "      <th>7</th>\n",
       "      <td>muH9x</td>\n",
       "      <td>4.234715</td>\n",
       "      <td>-0.001354</td>\n",
       "      <td>2.004588</td>\n",
       "      <td>53.906522</td>\n",
       "    </tr>\n",
       "    <tr>\n",
       "      <th>8</th>\n",
       "      <td>YiRkx</td>\n",
       "      <td>13.355129</td>\n",
       "      <td>-0.332068</td>\n",
       "      <td>4.998647</td>\n",
       "      <td>134.766305</td>\n",
       "    </tr>\n",
       "    <tr>\n",
       "      <th>9</th>\n",
       "      <td>jG6Gi</td>\n",
       "      <td>1.069227</td>\n",
       "      <td>-11.025667</td>\n",
       "      <td>4.997844</td>\n",
       "      <td>137.945408</td>\n",
       "    </tr>\n",
       "    <tr>\n",
       "      <th>10</th>\n",
       "      <td>7uHUe</td>\n",
       "      <td>11.777049</td>\n",
       "      <td>-5.334084</td>\n",
       "      <td>2.003033</td>\n",
       "      <td>53.906522</td>\n",
       "    </tr>\n",
       "    <tr>\n",
       "      <th>11</th>\n",
       "      <td>OXyvW</td>\n",
       "      <td>16.320755</td>\n",
       "      <td>-0.562946</td>\n",
       "      <td>-0.001783</td>\n",
       "      <td>0.000000</td>\n",
       "    </tr>\n",
       "    <tr>\n",
       "      <th>12</th>\n",
       "      <td>cB8re</td>\n",
       "      <td>7.736313</td>\n",
       "      <td>-6.093374</td>\n",
       "      <td>3.982531</td>\n",
       "      <td>107.813044</td>\n",
       "    </tr>\n",
       "    <tr>\n",
       "      <th>13</th>\n",
       "      <td>igmai</td>\n",
       "      <td>6.695604</td>\n",
       "      <td>-0.749449</td>\n",
       "      <td>-0.007630</td>\n",
       "      <td>0.000000</td>\n",
       "    </tr>\n",
       "    <tr>\n",
       "      <th>14</th>\n",
       "      <td>3OdkE</td>\n",
       "      <td>-10.985487</td>\n",
       "      <td>-5.605994</td>\n",
       "      <td>2.991130</td>\n",
       "      <td>84.038886</td>\n",
       "    </tr>\n",
       "    <tr>\n",
       "      <th>15</th>\n",
       "      <td>3tVUO</td>\n",
       "      <td>-0.347599</td>\n",
       "      <td>-6.275884</td>\n",
       "      <td>-0.003448</td>\n",
       "      <td>3.179103</td>\n",
       "    </tr>\n",
       "    <tr>\n",
       "      <th>16</th>\n",
       "      <td>siveY</td>\n",
       "      <td>12.300570</td>\n",
       "      <td>2.944454</td>\n",
       "      <td>2.005541</td>\n",
       "      <td>53.906522</td>\n",
       "    </tr>\n",
       "    <tr>\n",
       "      <th>17</th>\n",
       "      <td>gIqzq</td>\n",
       "      <td>8.900460</td>\n",
       "      <td>-5.632857</td>\n",
       "      <td>4.994324</td>\n",
       "      <td>134.766305</td>\n",
       "    </tr>\n",
       "    <tr>\n",
       "      <th>18</th>\n",
       "      <td>zO5EU</td>\n",
       "      <td>-13.412826</td>\n",
       "      <td>-4.729495</td>\n",
       "      <td>2.998590</td>\n",
       "      <td>84.038886</td>\n",
       "    </tr>\n",
       "    <tr>\n",
       "      <th>19</th>\n",
       "      <td>dkcEb</td>\n",
       "      <td>-4.373526</td>\n",
       "      <td>-8.590017</td>\n",
       "      <td>2.995379</td>\n",
       "      <td>84.038886</td>\n",
       "    </tr>\n",
       "  </tbody>\n",
       "</table>\n",
       "</div>"
      ],
      "text/plain": [
       "       id         f0         f1        f2     product\n",
       "0   kBEdx -15.001348  -8.276000 -0.005876    3.179103\n",
       "1   62mP7  14.272088  -3.475083  0.999183   26.953261\n",
       "2   vyE1P   6.263187  -5.948386  5.001160  134.766305\n",
       "3   KcrkZ -13.081196 -11.506057  4.999415  137.945408\n",
       "4   AHL4O  12.702195  -8.147433  5.004363  134.766305\n",
       "5   HHckp  -3.327590  -2.205276  3.003647   84.038886\n",
       "6   h5Ujo -11.142655 -10.133399  4.002382  110.992147\n",
       "7   muH9x   4.234715  -0.001354  2.004588   53.906522\n",
       "8   YiRkx  13.355129  -0.332068  4.998647  134.766305\n",
       "9   jG6Gi   1.069227 -11.025667  4.997844  137.945408\n",
       "10  7uHUe  11.777049  -5.334084  2.003033   53.906522\n",
       "11  OXyvW  16.320755  -0.562946 -0.001783    0.000000\n",
       "12  cB8re   7.736313  -6.093374  3.982531  107.813044\n",
       "13  igmai   6.695604  -0.749449 -0.007630    0.000000\n",
       "14  3OdkE -10.985487  -5.605994  2.991130   84.038886\n",
       "15  3tVUO  -0.347599  -6.275884 -0.003448    3.179103\n",
       "16  siveY  12.300570   2.944454  2.005541   53.906522\n",
       "17  gIqzq   8.900460  -5.632857  4.994324  134.766305\n",
       "18  zO5EU -13.412826  -4.729495  2.998590   84.038886\n",
       "19  dkcEb  -4.373526  -8.590017  2.995379   84.038886"
      ]
     },
     "execution_count": 9,
     "metadata": {},
     "output_type": "execute_result"
    }
   ],
   "source": [
    "data_2.head(20)"
   ]
  },
  {
   "cell_type": "markdown",
   "id": "82ea6bdf",
   "metadata": {},
   "source": [
    "Ничего странного не замечено, просто одинаковые значения. "
   ]
  },
  {
   "cell_type": "markdown",
   "id": "3c3e9a2e",
   "metadata": {},
   "source": [
    "### Вывод"
   ]
  },
  {
   "cell_type": "markdown",
   "id": "ac977425",
   "metadata": {},
   "source": [
    "Загрузка прошла успешно. \n",
    "Замечены некоторые особенности: \n",
    "- Повторяющиеся значения id, возможно не учтен фактор времени, приборов измерения - поэтому различные значения в одной скважине. \n",
    "- Повторяющиеся значения product во втором регионе\n",
    "- Есть корреляции в первом регионе между f0 и f1 - нормально отрицательная, в третьем регионе между f2 и product  - нормально положительная. "
   ]
  },
  {
   "cell_type": "markdown",
   "id": "2b1eb51d",
   "metadata": {},
   "source": [
    "## Построение модели для каждого региона"
   ]
  },
  {
   "cell_type": "markdown",
   "id": "bee4aee8",
   "metadata": {},
   "source": [
    "И так, обучим модели для каждого региона, при этом, создаем таблицу с оценкой MSE для предсказанных значений и для модели с постоянным средним. Конечно, добавим среднее значение вычисляемое моделью. \n"
   ]
  },
  {
   "cell_type": "code",
   "execution_count": 10,
   "id": "5cd7c33f",
   "metadata": {},
   "outputs": [],
   "source": [
    "dict_model = {}\n",
    "score_table = pd.DataFrame()\n",
    "for i, data in enumerate([data_1, data_2, data_3]):\n",
    "    data = data.drop(columns = ['id'])\n",
    "    x_train, x_valid, y_train, y_valid = train_test_split(data.drop(columns = ['product']),\n",
    "                                                          data['product'],\n",
    "                                                          test_size = 0.25,\n",
    "                                                          random_state = 12345)\n",
    "    lin = LinearRegression()\n",
    "    lin.fit(x_train, y_train)\n",
    "    score_table.loc['mean_model', 'region_' + str(i + 1)] = lin.predict(x_valid).mean()\n",
    "    score_table.loc['mean_squared_error_model' , \n",
    "                    'region_' + str(i + 1)] = mean_squared_error(lin.predict(x_valid), y_valid, squared = False)\n",
    "    score_table.loc['simple_mean', 'region_' + str(i + 1)] = y_train.mean()\n",
    "    score_table.loc['mean_squared_error_simple_mean', \n",
    "                    'region_' + str(i + 1)] = mean_squared_error([y_train.mean() for i in range(len(y_valid))], \n",
    "                                                                         y_valid, squared = False)\n",
    "    \n",
    "    \n",
    "    dict_model['region_' + str(i + 1) + '_valid'] = y_valid\n",
    "    dict_model['region_' + str(i + 1) + '_predict'] = pd.Series(lin.predict(x_valid), index=y_valid.index)"
   ]
  },
  {
   "cell_type": "code",
   "execution_count": 11,
   "id": "4c895a68",
   "metadata": {},
   "outputs": [
    {
     "data": {
      "text/html": [
       "<div>\n",
       "<style scoped>\n",
       "    .dataframe tbody tr th:only-of-type {\n",
       "        vertical-align: middle;\n",
       "    }\n",
       "\n",
       "    .dataframe tbody tr th {\n",
       "        vertical-align: top;\n",
       "    }\n",
       "\n",
       "    .dataframe thead th {\n",
       "        text-align: right;\n",
       "    }\n",
       "</style>\n",
       "<table border=\"1\" class=\"dataframe\">\n",
       "  <thead>\n",
       "    <tr style=\"text-align: right;\">\n",
       "      <th></th>\n",
       "      <th>region_1</th>\n",
       "      <th>region_2</th>\n",
       "      <th>region_3</th>\n",
       "    </tr>\n",
       "  </thead>\n",
       "  <tbody>\n",
       "    <tr>\n",
       "      <th>mean_model</th>\n",
       "      <td>92.592568</td>\n",
       "      <td>68.728547</td>\n",
       "      <td>94.965046</td>\n",
       "    </tr>\n",
       "    <tr>\n",
       "      <th>mean_squared_error_model</th>\n",
       "      <td>37.579422</td>\n",
       "      <td>0.893099</td>\n",
       "      <td>40.029709</td>\n",
       "    </tr>\n",
       "    <tr>\n",
       "      <th>simple_mean</th>\n",
       "      <td>92.640468</td>\n",
       "      <td>68.858955</td>\n",
       "      <td>95.038589</td>\n",
       "    </tr>\n",
       "    <tr>\n",
       "      <th>mean_squared_error_simple_mean</th>\n",
       "      <td>44.289591</td>\n",
       "      <td>46.021445</td>\n",
       "      <td>44.902350</td>\n",
       "    </tr>\n",
       "  </tbody>\n",
       "</table>\n",
       "</div>"
      ],
      "text/plain": [
       "                                 region_1   region_2   region_3\n",
       "mean_model                      92.592568  68.728547  94.965046\n",
       "mean_squared_error_model        37.579422   0.893099  40.029709\n",
       "simple_mean                     92.640468  68.858955  95.038589\n",
       "mean_squared_error_simple_mean  44.289591  46.021445  44.902350"
      ]
     },
     "execution_count": 11,
     "metadata": {},
     "output_type": "execute_result"
    }
   ],
   "source": [
    "score_table"
   ]
  },
  {
   "cell_type": "markdown",
   "id": "be78bdb6",
   "metadata": {},
   "source": [
    "Получили хорошую модель по второму региону RMSE = 0.9, почти не отличающие от константной модели по среднему получили модели по первому и третьему региону. \n",
    "\n",
    "В большой запас в первом и треьем регионе судя по среднему значению. "
   ]
  },
  {
   "cell_type": "markdown",
   "id": "1fe98895",
   "metadata": {},
   "source": [
    "## Подготовка к расчёту прибыли"
   ]
  },
  {
   "cell_type": "markdown",
   "id": "e81e9fb2",
   "metadata": {},
   "source": [
    "#### Основные параметры:\n",
    "- При разведке региона исследуют 500 точек, из которых с помощью машинного обучения выбирают 200 лучших для разработки.\n",
    "- Бюджет на разработку скважин в регионе — 10 млрд рублей.\n",
    "- При нынешних ценах один баррель сырья приносит 450 рублей дохода. \n",
    "- Доход с каждой единицы продукта составляет 450 тыс. рублей, поскольку объём указан в тысячах баррелей.\n",
    "- После оценки рисков нужно оставить лишь те регионы, в которых вероятность убытков меньше 2.5%. Среди них выбирают регион с наибольшей средней прибылью."
   ]
  },
  {
   "cell_type": "code",
   "execution_count": 2,
   "id": "d376c84f",
   "metadata": {},
   "outputs": [],
   "source": [
    "budzet = 1e10\n",
    "point_research = 500\n",
    "point_best = 200\n",
    "profit_one_product = 450000\n",
    "risk_alpha = 0.025"
   ]
  },
  {
   "cell_type": "markdown",
   "id": "7a6b73fa",
   "metadata": {},
   "source": [
    "<div class=\"alert alert-block alert-info\">\n",
    "    \n",
    "<b>Совет:</b> Константы принято записывать в Верхнем регистре)"
   ]
  },
  {
   "cell_type": "markdown",
   "id": "d7d81eca",
   "metadata": {},
   "source": [
    "Вычислим, сколько должно быть минимальное количество продукта для безубыточной работы:"
   ]
  },
  {
   "cell_type": "code",
   "execution_count": 3,
   "id": "8a2a73fb",
   "metadata": {},
   "outputs": [
    {
     "data": {
      "text/plain": [
       "111.11111111111111"
      ]
     },
     "execution_count": 3,
     "metadata": {},
     "output_type": "execute_result"
    }
   ],
   "source": [
    "sebes_one_skv = budzet / (point_best * profit_one_product)\n",
    "sebes_one_skv"
   ]
  },
  {
   "cell_type": "markdown",
   "id": "271a1ba6",
   "metadata": {},
   "source": [
    "Это значение превышает средние значения по регионам. Для этого следует воспользоваться нашей моделью, чтобы не прогореть. "
   ]
  },
  {
   "cell_type": "markdown",
   "id": "91d4a0e7",
   "metadata": {},
   "source": [
    "С тренажера возьмем функцию и скорректируем её для расчёта прибыли от продукта: "
   ]
  },
  {
   "cell_type": "code",
   "execution_count": 14,
   "id": "bf39d2b3",
   "metadata": {},
   "outputs": [],
   "source": [
    "def revenue(target, probabilities, count):\n",
    "    \"\"\"\n",
    "    вход:\n",
    "    target - значение целевого признака\n",
    "    probabilities - предсказание\n",
    "    count - количество взятых значений\n",
    "    выход:\n",
    "    прибыль \n",
    "    \"\"\"\n",
    "    probs_sorted = probabilities.sort_values(ascending=False)\n",
    "    selected = target[probs_sorted.index][:count]\n",
    "    return (450000 * selected.sum() - (budzet))"
   ]
  },
  {
   "cell_type": "markdown",
   "id": "db69db73",
   "metadata": {},
   "source": [
    "### Вывод\n",
    "Успешно ввели переменные для будущих расчётов, а также написана функция для вычисления прибыли. "
   ]
  },
  {
   "cell_type": "markdown",
   "id": "e982ba10",
   "metadata": {},
   "source": [
    "## Расчёт прибыли"
   ]
  },
  {
   "cell_type": "markdown",
   "id": "f2351617",
   "metadata": {},
   "source": [
    "У нас три региона, следует написать функцию:"
   ]
  },
  {
   "cell_type": "code",
   "execution_count": 15,
   "id": "c4fcc8ae",
   "metadata": {},
   "outputs": [],
   "source": [
    "data_result = pd.DataFrame()\n",
    "state = RandomState(12345)\n",
    "\n",
    "def get_revenue_and_risk(name, valid, predict):\n",
    "    \"\"\"\n",
    "    входы:\n",
    "    name - наименование региона\n",
    "    valid - значения целевого признака\n",
    "    predict - предсказания \n",
    "    выход:\n",
    "    Функция заполняет датафрем для региона, проводя bootstrap, вычисляет прибыль.\n",
    "    Вычисляется среднее значение\n",
    "                нижняя граница 95% интервала\n",
    "                верхняя граница 95% интервала\n",
    "                стандартное отклонение\n",
    "                риск\n",
    "    \"\"\"\n",
    "    revenues_lst = []\n",
    "    for i in range(1000):\n",
    "        target_subsample = valid.sample(n=point_research, replace=True, random_state=state)\n",
    "        probs_subsample = predict[target_subsample.index]\n",
    "        revenues_lst.append(revenue(target_subsample, probs_subsample, point_best))\n",
    "    revenues = pd.Series(revenues_lst)\n",
    "    data_result.loc[name, 'revenues_mean'] = revenues.mean() / 1e6\n",
    "    lower = revenues.quantile(0.025) / 1e6\n",
    "    data_result.loc[name, 'revenues_lower'] = lower\n",
    "    upper = revenues.quantile(0.975) / 1e6\n",
    "    data_result.loc[name, 'revenues_upper'] = upper\n",
    "    data_result.loc[name, 'std'] = revenues.std() / 1e6\n",
    "    data_result.loc[name, 'risk_of_loss'] = (revenues < 0).sum() / revenues.count() * 100\n",
    "    data_result.loc[name, 'risk_must'] = risk_alpha\n",
    "    "
   ]
  },
  {
   "cell_type": "markdown",
   "id": "edf248ae",
   "metadata": {},
   "source": [
    "Запустим нашу функцию по регионам:"
   ]
  },
  {
   "cell_type": "code",
   "execution_count": 16,
   "id": "4c78c044",
   "metadata": {},
   "outputs": [],
   "source": [
    "for i in range(0, 3):\n",
    "    get_revenue_and_risk('region_' + str(i + 1),\n",
    "                         dict_model['region_' + str(i + 1) + '_valid'],\n",
    "                         dict_model['region_' + str(i + 1) + '_predict'])"
   ]
  },
  {
   "cell_type": "markdown",
   "id": "945807d4",
   "metadata": {},
   "source": [
    "Для принятия решения хочу свести в таблицу дополнительный параметр - качество модели, вычислю его как отношения средней квадратичной ошибки от нашей модели к констанстной модели с постоянным средним значением. "
   ]
  },
  {
   "cell_type": "code",
   "execution_count": 17,
   "id": "963ac774",
   "metadata": {},
   "outputs": [],
   "source": [
    "data_result['model_fact'] = score_table.T['mean_squared_error_model'] / score_table.T['mean_squared_error_simple_mean']"
   ]
  },
  {
   "cell_type": "code",
   "execution_count": 18,
   "id": "2b77dbd5",
   "metadata": {},
   "outputs": [
    {
     "data": {
      "text/html": [
       "<style type=\"text/css\">\n",
       "#T_f6706_row1_col0, #T_f6706_row1_col1, #T_f6706_row1_col3, #T_f6706_row1_col4, #T_f6706_row1_col6, #T_f6706_row2_col2 {\n",
       "  background-color: yellowgreen;\n",
       "}\n",
       "</style>\n",
       "<table id=\"T_f6706_\">\n",
       "  <thead>\n",
       "    <tr>\n",
       "      <th class=\"blank level0\" >&nbsp;</th>\n",
       "      <th class=\"col_heading level0 col0\" >revenues_mean</th>\n",
       "      <th class=\"col_heading level0 col1\" >revenues_lower</th>\n",
       "      <th class=\"col_heading level0 col2\" >revenues_upper</th>\n",
       "      <th class=\"col_heading level0 col3\" >std</th>\n",
       "      <th class=\"col_heading level0 col4\" >risk_of_loss</th>\n",
       "      <th class=\"col_heading level0 col5\" >risk_must</th>\n",
       "      <th class=\"col_heading level0 col6\" >model_fact</th>\n",
       "    </tr>\n",
       "  </thead>\n",
       "  <tbody>\n",
       "    <tr>\n",
       "      <th id=\"T_f6706_level0_row0\" class=\"row_heading level0 row0\" >region_1</th>\n",
       "      <td id=\"T_f6706_row0_col0\" class=\"data row0 col0\" >425.938527</td>\n",
       "      <td id=\"T_f6706_row0_col1\" class=\"data row0 col1\" >-102.090095</td>\n",
       "      <td id=\"T_f6706_row0_col2\" class=\"data row0 col2\" >947.976353</td>\n",
       "      <td id=\"T_f6706_row0_col3\" class=\"data row0 col3\" >277.276722</td>\n",
       "      <td id=\"T_f6706_row0_col4\" class=\"data row0 col4\" >6.000000</td>\n",
       "      <td id=\"T_f6706_row0_col5\" class=\"data row0 col5\" >0.025000</td>\n",
       "      <td id=\"T_f6706_row0_col6\" class=\"data row0 col6\" >0.848493</td>\n",
       "    </tr>\n",
       "    <tr>\n",
       "      <th id=\"T_f6706_level0_row1\" class=\"row_heading level0 row1\" >region_2</th>\n",
       "      <td id=\"T_f6706_row1_col0\" class=\"data row1 col0\" >518.259494</td>\n",
       "      <td id=\"T_f6706_row1_col1\" class=\"data row1 col1\" >128.123231</td>\n",
       "      <td id=\"T_f6706_row1_col2\" class=\"data row1 col2\" >953.612982</td>\n",
       "      <td id=\"T_f6706_row1_col3\" class=\"data row1 col3\" >209.647539</td>\n",
       "      <td id=\"T_f6706_row1_col4\" class=\"data row1 col4\" >0.300000</td>\n",
       "      <td id=\"T_f6706_row1_col5\" class=\"data row1 col5\" >0.025000</td>\n",
       "      <td id=\"T_f6706_row1_col6\" class=\"data row1 col6\" >0.019406</td>\n",
       "    </tr>\n",
       "    <tr>\n",
       "      <th id=\"T_f6706_level0_row2\" class=\"row_heading level0 row2\" >region_3</th>\n",
       "      <td id=\"T_f6706_row2_col0\" class=\"data row2 col0\" >420.194005</td>\n",
       "      <td id=\"T_f6706_row2_col1\" class=\"data row2 col1\" >-115.852609</td>\n",
       "      <td id=\"T_f6706_row2_col2\" class=\"data row2 col2\" >989.629940</td>\n",
       "      <td id=\"T_f6706_row2_col3\" class=\"data row2 col3\" >284.673132</td>\n",
       "      <td id=\"T_f6706_row2_col4\" class=\"data row2 col4\" >6.200000</td>\n",
       "      <td id=\"T_f6706_row2_col5\" class=\"data row2 col5\" >0.025000</td>\n",
       "      <td id=\"T_f6706_row2_col6\" class=\"data row2 col6\" >0.891484</td>\n",
       "    </tr>\n",
       "  </tbody>\n",
       "</table>\n"
      ],
      "text/plain": [
       "<pandas.io.formats.style.Styler at 0x1eee9512e80>"
      ]
     },
     "execution_count": 18,
     "metadata": {},
     "output_type": "execute_result"
    }
   ],
   "source": [
    "columns_up = ['revenues_mean', 'revenues_lower', 'revenues_upper']\n",
    "columns_down = ['risk_of_loss', 'model_fact', 'std']\n",
    "(\n",
    "data_result.style.highlight_max(color='yellowgreen', subset=columns_up)\n",
    "                 .highlight_min(color='yellowgreen', subset=columns_down)\n",
    ")"
   ]
  },
  {
   "cell_type": "markdown",
   "id": "319b89eb",
   "metadata": {},
   "source": [
    "И так мы получили сводную таблицу, зеленым подсвечены, интересующие нас параметры. \n",
    "\n",
    "Очевидно отсеиваются первый и третий регионы, они не проходят по уровню риска менее 2.5%.\n",
    "\n",
    "Второй регион также выигрывает в средней прибыли, имеет положительную нижнюю границу доверительного интревала, и хорошее качество модели относительно других регионов. "
   ]
  },
  {
   "cell_type": "markdown",
   "id": "4fdb2e4b",
   "metadata": {},
   "source": [
    "### Итоговый вывод\n",
    "\n",
    "\n",
    "Мы готовили ответ на вопрос: в какой регион идти? Ответим же:\n",
    "- Критерием выбора, были два основных параметра: риск и средняя прибыль. Мы выделили параметры наилучшие параметры и они оказались на одной строке - второй регион, имея **0.3% риска**, и наибольшую среднюю прибыль среди рассматриваемых регионов в **518.2 млн.руб**, что почти **в 5 раз больше** безубыточной работы, вычисленной нами : **111.11 млн.руб.**\n",
    "\n",
    "Стоит отметить, для дальнейшего изучения:\n",
    "\n",
    "- Повторяющиеся значения id, возможно не учтен фактор времени, приборов измерения - поэтому различные значения в одной скважине. \n",
    "- Качество моделей 1 и 3 региона на ~90% схожи с константной моделью. \n",
    "- Повторяющие значение продукта во втором регионе. \n"
   ]
  }
 ],
 "metadata": {
  "ExecuteTimeLog": [
   {
    "duration": 70,
    "start_time": "2022-05-12T13:15:36.594Z"
   },
   {
    "duration": 3,
    "start_time": "2022-05-12T13:15:43.869Z"
   },
   {
    "duration": 9,
    "start_time": "2022-05-12T13:15:45.145Z"
   }
  ],
  "kernelspec": {
   "display_name": "Python 3 (ipykernel)",
   "language": "python",
   "name": "python3"
  },
  "language_info": {
   "codemirror_mode": {
    "name": "ipython",
    "version": 3
   },
   "file_extension": ".py",
   "mimetype": "text/x-python",
   "name": "python",
   "nbconvert_exporter": "python",
   "pygments_lexer": "ipython3",
   "version": "3.9.7"
  },
  "toc": {
   "base_numbering": 1,
   "nav_menu": {},
   "number_sections": true,
   "sideBar": true,
   "skip_h1_title": true,
   "title_cell": "Table of Contents",
   "title_sidebar": "Contents",
   "toc_cell": false,
   "toc_position": {},
   "toc_section_display": true,
   "toc_window_display": false
  }
 },
 "nbformat": 4,
 "nbformat_minor": 5
}
