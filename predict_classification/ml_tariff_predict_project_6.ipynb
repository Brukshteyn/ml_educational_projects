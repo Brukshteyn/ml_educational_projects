{
 "cells": [
  {
   "cell_type": "markdown",
   "id": "dac081ae",
   "metadata": {},
   "source": [
    "## Описание проекта\n",
    "Оператор мобильной связи «Мегалайн» выяснил: многие клиенты пользуются архивными тарифами. Они хотят построить систему, способную проанализировать поведение клиентов и предложить пользователям новый тариф: «Смарт» или «Ультра».\n",
    "В вашем распоряжении данные о поведении клиентов, которые уже перешли на эти тарифы (из проекта курса «Статистический анализ данных»). Нужно построить модель для задачи классификации, которая выберет подходящий тариф. Предобработка данных не понадобится — вы её уже сделали. <br>\n",
    "Постройте модель с максимально большим значением accuracy. Чтобы сдать проект успешно, нужно довести долю правильных ответов по крайней мере до 0.75. Проверьте accuracy на тестовой выборке самостоятельно. <br>\n",
    "\n",
    "### Описание данных\n",
    "Каждый объект в наборе данных — это информация о поведении одного пользователя за месяц. Известно:<br>\n",
    "сalls — количество звонков,<br>\n",
    "minutes — суммарная длительность звонков в минутах,<br>\n",
    "messages — количество sms-сообщений,<br>\n",
    "mb_used — израсходованный интернет-трафик в Мб,<br>\n",
    "is_ultra — каким тарифом пользовался в течение месяца («Ультра» — 1, «Смарт» — 0).<br>"
   ]
  },
  {
   "cell_type": "markdown",
   "id": "638a5938",
   "metadata": {},
   "source": [
    "## Загрузка и подготовка данных "
   ]
  },
  {
   "cell_type": "code",
   "execution_count": 1,
   "id": "2c1f15fd",
   "metadata": {},
   "outputs": [],
   "source": [
    "import pandas as pd\n",
    "from sklearn.model_selection import train_test_split\n",
    "from sklearn.tree import DecisionTreeClassifier\n",
    "from sklearn.ensemble import RandomForestClassifier\n",
    "from sklearn.linear_model import LogisticRegression\n",
    "from sklearn.metrics import accuracy_score\n",
    "from sklearn.metrics import confusion_matrix"
   ]
  },
  {
   "cell_type": "code",
   "execution_count": 2,
   "id": "7422e094",
   "metadata": {},
   "outputs": [],
   "source": [
    "data = pd.read_csv('users_behavior.csv')"
   ]
  },
  {
   "cell_type": "code",
   "execution_count": 3,
   "id": "b145ce96",
   "metadata": {},
   "outputs": [
    {
     "data": {
      "text/html": [
       "<div>\n",
       "<style scoped>\n",
       "    .dataframe tbody tr th:only-of-type {\n",
       "        vertical-align: middle;\n",
       "    }\n",
       "\n",
       "    .dataframe tbody tr th {\n",
       "        vertical-align: top;\n",
       "    }\n",
       "\n",
       "    .dataframe thead th {\n",
       "        text-align: right;\n",
       "    }\n",
       "</style>\n",
       "<table border=\"1\" class=\"dataframe\">\n",
       "  <thead>\n",
       "    <tr style=\"text-align: right;\">\n",
       "      <th></th>\n",
       "      <th>calls</th>\n",
       "      <th>minutes</th>\n",
       "      <th>messages</th>\n",
       "      <th>mb_used</th>\n",
       "      <th>is_ultra</th>\n",
       "    </tr>\n",
       "  </thead>\n",
       "  <tbody>\n",
       "    <tr>\n",
       "      <th>0</th>\n",
       "      <td>40.0</td>\n",
       "      <td>311.90</td>\n",
       "      <td>83.0</td>\n",
       "      <td>19915.42</td>\n",
       "      <td>0</td>\n",
       "    </tr>\n",
       "    <tr>\n",
       "      <th>1</th>\n",
       "      <td>85.0</td>\n",
       "      <td>516.75</td>\n",
       "      <td>56.0</td>\n",
       "      <td>22696.96</td>\n",
       "      <td>0</td>\n",
       "    </tr>\n",
       "    <tr>\n",
       "      <th>2</th>\n",
       "      <td>77.0</td>\n",
       "      <td>467.66</td>\n",
       "      <td>86.0</td>\n",
       "      <td>21060.45</td>\n",
       "      <td>0</td>\n",
       "    </tr>\n",
       "    <tr>\n",
       "      <th>3</th>\n",
       "      <td>106.0</td>\n",
       "      <td>745.53</td>\n",
       "      <td>81.0</td>\n",
       "      <td>8437.39</td>\n",
       "      <td>1</td>\n",
       "    </tr>\n",
       "    <tr>\n",
       "      <th>4</th>\n",
       "      <td>66.0</td>\n",
       "      <td>418.74</td>\n",
       "      <td>1.0</td>\n",
       "      <td>14502.75</td>\n",
       "      <td>0</td>\n",
       "    </tr>\n",
       "  </tbody>\n",
       "</table>\n",
       "</div>"
      ],
      "text/plain": [
       "   calls  minutes  messages   mb_used  is_ultra\n",
       "0   40.0   311.90      83.0  19915.42         0\n",
       "1   85.0   516.75      56.0  22696.96         0\n",
       "2   77.0   467.66      86.0  21060.45         0\n",
       "3  106.0   745.53      81.0   8437.39         1\n",
       "4   66.0   418.74       1.0  14502.75         0"
      ]
     },
     "execution_count": 3,
     "metadata": {},
     "output_type": "execute_result"
    }
   ],
   "source": [
    "data.head()"
   ]
  },
  {
   "cell_type": "markdown",
   "id": "2d3dc0e6",
   "metadata": {},
   "source": [
    "Данные успешно загружены, обычный датасет, всё в цифрах."
   ]
  },
  {
   "cell_type": "code",
   "execution_count": 4,
   "id": "b5bc96c1",
   "metadata": {},
   "outputs": [
    {
     "name": "stdout",
     "output_type": "stream",
     "text": [
      "<class 'pandas.core.frame.DataFrame'>\n",
      "RangeIndex: 3214 entries, 0 to 3213\n",
      "Data columns (total 5 columns):\n",
      " #   Column    Non-Null Count  Dtype  \n",
      "---  ------    --------------  -----  \n",
      " 0   calls     3214 non-null   float64\n",
      " 1   minutes   3214 non-null   float64\n",
      " 2   messages  3214 non-null   float64\n",
      " 3   mb_used   3214 non-null   float64\n",
      " 4   is_ultra  3214 non-null   int64  \n",
      "dtypes: float64(4), int64(1)\n",
      "memory usage: 125.7 KB\n"
     ]
    }
   ],
   "source": [
    "data.info()"
   ]
  },
  {
   "cell_type": "markdown",
   "id": "fdae0c3b",
   "metadata": {},
   "source": [
    "Нет пропущенных значений, единственное , что можно сделать привести к типу int, количество звонков и сообщений. "
   ]
  },
  {
   "cell_type": "code",
   "execution_count": 5,
   "id": "e33f8ea9",
   "metadata": {},
   "outputs": [
    {
     "data": {
      "text/plain": [
       "False    3214\n",
       "dtype: int64"
      ]
     },
     "execution_count": 5,
     "metadata": {},
     "output_type": "execute_result"
    }
   ],
   "source": [
    "data.duplicated().value_counts()"
   ]
  },
  {
   "cell_type": "markdown",
   "id": "2483a986",
   "metadata": {},
   "source": [
    "Дубликатов нет, хорошо. Изменим типы:"
   ]
  },
  {
   "cell_type": "code",
   "execution_count": 6,
   "id": "b3d95c85",
   "metadata": {},
   "outputs": [],
   "source": [
    "data = data.astype({'calls' : 'int', 'messages' : 'int'})"
   ]
  },
  {
   "cell_type": "code",
   "execution_count": 7,
   "id": "6376cc30",
   "metadata": {},
   "outputs": [
    {
     "name": "stdout",
     "output_type": "stream",
     "text": [
      "<class 'pandas.core.frame.DataFrame'>\n",
      "RangeIndex: 3214 entries, 0 to 3213\n",
      "Data columns (total 5 columns):\n",
      " #   Column    Non-Null Count  Dtype  \n",
      "---  ------    --------------  -----  \n",
      " 0   calls     3214 non-null   int32  \n",
      " 1   minutes   3214 non-null   float64\n",
      " 2   messages  3214 non-null   int32  \n",
      " 3   mb_used   3214 non-null   float64\n",
      " 4   is_ultra  3214 non-null   int64  \n",
      "dtypes: float64(2), int32(2), int64(1)\n",
      "memory usage: 100.6 KB\n"
     ]
    }
   ],
   "source": [
    "data.info()"
   ]
  },
  {
   "cell_type": "code",
   "execution_count": 8,
   "id": "e1bd3f35",
   "metadata": {
    "scrolled": true
   },
   "outputs": [
    {
     "data": {
      "text/plain": [
       "0    0.693528\n",
       "1    0.306472\n",
       "Name: is_ultra, dtype: float64"
      ]
     },
     "execution_count": 8,
     "metadata": {},
     "output_type": "execute_result"
    }
   ],
   "source": [
    "data.is_ultra.value_counts(normalize = True)"
   ]
  },
  {
   "cell_type": "markdown",
   "id": "941123a6",
   "metadata": {},
   "source": [
    "Наблюдаем, что ультрой пользуется лишь 30% от всех данных"
   ]
  },
  {
   "cell_type": "markdown",
   "id": "899928ee",
   "metadata": {},
   "source": [
    "Произведем проверку на корреляцию:"
   ]
  },
  {
   "cell_type": "code",
   "execution_count": 9,
   "id": "96c6b6f5",
   "metadata": {},
   "outputs": [
    {
     "data": {
      "text/html": [
       "<div>\n",
       "<style scoped>\n",
       "    .dataframe tbody tr th:only-of-type {\n",
       "        vertical-align: middle;\n",
       "    }\n",
       "\n",
       "    .dataframe tbody tr th {\n",
       "        vertical-align: top;\n",
       "    }\n",
       "\n",
       "    .dataframe thead th {\n",
       "        text-align: right;\n",
       "    }\n",
       "</style>\n",
       "<table border=\"1\" class=\"dataframe\">\n",
       "  <thead>\n",
       "    <tr style=\"text-align: right;\">\n",
       "      <th></th>\n",
       "      <th>calls</th>\n",
       "      <th>minutes</th>\n",
       "      <th>messages</th>\n",
       "      <th>mb_used</th>\n",
       "      <th>is_ultra</th>\n",
       "    </tr>\n",
       "  </thead>\n",
       "  <tbody>\n",
       "    <tr>\n",
       "      <th>calls</th>\n",
       "      <td>1.000000</td>\n",
       "      <td>0.982083</td>\n",
       "      <td>0.177385</td>\n",
       "      <td>0.286442</td>\n",
       "      <td>0.207122</td>\n",
       "    </tr>\n",
       "    <tr>\n",
       "      <th>minutes</th>\n",
       "      <td>0.982083</td>\n",
       "      <td>1.000000</td>\n",
       "      <td>0.173110</td>\n",
       "      <td>0.280967</td>\n",
       "      <td>0.206955</td>\n",
       "    </tr>\n",
       "    <tr>\n",
       "      <th>messages</th>\n",
       "      <td>0.177385</td>\n",
       "      <td>0.173110</td>\n",
       "      <td>1.000000</td>\n",
       "      <td>0.195721</td>\n",
       "      <td>0.203830</td>\n",
       "    </tr>\n",
       "    <tr>\n",
       "      <th>mb_used</th>\n",
       "      <td>0.286442</td>\n",
       "      <td>0.280967</td>\n",
       "      <td>0.195721</td>\n",
       "      <td>1.000000</td>\n",
       "      <td>0.198568</td>\n",
       "    </tr>\n",
       "    <tr>\n",
       "      <th>is_ultra</th>\n",
       "      <td>0.207122</td>\n",
       "      <td>0.206955</td>\n",
       "      <td>0.203830</td>\n",
       "      <td>0.198568</td>\n",
       "      <td>1.000000</td>\n",
       "    </tr>\n",
       "  </tbody>\n",
       "</table>\n",
       "</div>"
      ],
      "text/plain": [
       "             calls   minutes  messages   mb_used  is_ultra\n",
       "calls     1.000000  0.982083  0.177385  0.286442  0.207122\n",
       "minutes   0.982083  1.000000  0.173110  0.280967  0.206955\n",
       "messages  0.177385  0.173110  1.000000  0.195721  0.203830\n",
       "mb_used   0.286442  0.280967  0.195721  1.000000  0.198568\n",
       "is_ultra  0.207122  0.206955  0.203830  0.198568  1.000000"
      ]
     },
     "execution_count": 9,
     "metadata": {},
     "output_type": "execute_result"
    }
   ],
   "source": [
    "data.corr()"
   ]
  },
  {
   "cell_type": "code",
   "execution_count": 10,
   "id": "96d61003",
   "metadata": {},
   "outputs": [],
   "source": [
    "data = data.drop(columns = ['calls'])"
   ]
  },
  {
   "cell_type": "markdown",
   "id": "53bff02f",
   "metadata": {},
   "source": [
    "Отлично, данные подготовлены. "
   ]
  },
  {
   "cell_type": "markdown",
   "id": "6f1372ff",
   "metadata": {},
   "source": [
    "## Создание и анализ моделей"
   ]
  },
  {
   "cell_type": "code",
   "execution_count": 11,
   "id": "3c5c8c4d",
   "metadata": {},
   "outputs": [],
   "source": [
    "data_train, data_f, target_train, data_t = train_test_split(data.drop(columns = ['is_ultra']), \n",
    "                                                                      data['is_ultra'],\n",
    "                                                                      train_size = 0.6, \n",
    "                                                                      random_state=12345)"
   ]
  },
  {
   "cell_type": "code",
   "execution_count": 12,
   "id": "aa2a0c70",
   "metadata": {},
   "outputs": [],
   "source": [
    "data_test, data_valid, target_test, target_valid = train_test_split(data_f, \n",
    "                                                                    data_t,\n",
    "                                                                    train_size = 0.5, \n",
    "                                                                    random_state=12345)"
   ]
  },
  {
   "cell_type": "code",
   "execution_count": 13,
   "id": "ded0fba6",
   "metadata": {},
   "outputs": [
    {
     "name": "stdout",
     "output_type": "stream",
     "text": [
      "0.5998755444928439\n",
      "0.2000622277535781\n",
      "0.2000622277535781\n"
     ]
    }
   ],
   "source": [
    "print(len(data_train) / len(data))\n",
    "print(len(data_test) / len(data))\n",
    "print(len(data_valid) / len(data))"
   ]
  },
  {
   "cell_type": "markdown",
   "id": "8d69faed",
   "metadata": {},
   "source": [
    "##### Дерево решений\n",
    "Будем итерировать параметр max_depth. <br>\n",
    "Отслеживаем точность по метрике accuracy (доля правильных ответов) "
   ]
  },
  {
   "cell_type": "code",
   "execution_count": 14,
   "id": "b1c24a54",
   "metadata": {},
   "outputs": [],
   "source": [
    "model_2 = 0\n",
    "model_1 = 0"
   ]
  },
  {
   "cell_type": "code",
   "execution_count": 15,
   "id": "971fe44e",
   "metadata": {},
   "outputs": [
    {
     "data": {
      "text/plain": [
       "(0.7962674961119751, 7)"
      ]
     },
     "execution_count": 15,
     "metadata": {},
     "output_type": "execute_result"
    }
   ],
   "source": [
    "score_max = 0\n",
    "act_depth = 0\n",
    "for depth in range(1, 52, 2):\n",
    "    model = DecisionTreeClassifier(random_state=12345, max_depth=depth)\n",
    "    model.fit(data_train, target_train)\n",
    "    predict = model.predict(data_valid)\n",
    "    score = accuracy_score(target_valid, predict)\n",
    "    if score > score_max:\n",
    "        score_max = score\n",
    "        model_1  = model\n",
    "        act_depth = depth\n",
    "score_max, act_depth"
   ]
  },
  {
   "cell_type": "code",
   "execution_count": 16,
   "id": "56c405f2",
   "metadata": {},
   "outputs": [
    {
     "data": {
      "text/plain": [
       "array([[408,  99],\n",
       "       [ 32, 104]], dtype=int64)"
      ]
     },
     "execution_count": 16,
     "metadata": {},
     "output_type": "execute_result"
    }
   ],
   "source": [
    "confusion_matrix(model_1.predict(data_valid), target_valid)"
   ]
  },
  {
   "cell_type": "markdown",
   "id": "87832e95",
   "metadata": {},
   "source": [
    "##### Лес решений \n",
    "Будем итерировать параметр n_estimators. <br>\n",
    "Отслеживаем точность по метрике accuracy (доля правильных ответов) "
   ]
  },
  {
   "cell_type": "code",
   "execution_count": 17,
   "id": "d193e993",
   "metadata": {},
   "outputs": [
    {
     "data": {
      "text/plain": [
       "(0.7947122861586314, 200)"
      ]
     },
     "execution_count": 17,
     "metadata": {},
     "output_type": "execute_result"
    }
   ],
   "source": [
    "score_max = 0\n",
    "act_n_estimators = 0\n",
    "for n in range(100, 1001, 100):\n",
    "    model = RandomForestClassifier(random_state=12345, n_estimators=n)\n",
    "    model.fit(data_train, target_train)\n",
    "    predict = model.predict(data_valid)\n",
    "    score = accuracy_score(target_valid, predict)\n",
    "    if score > score_max:\n",
    "        score_max = score\n",
    "        model_2  = model\n",
    "        act_n_estimators = n\n",
    "score_max, act_n_estimators"
   ]
  },
  {
   "cell_type": "code",
   "execution_count": 18,
   "id": "5d6cf9d6",
   "metadata": {},
   "outputs": [
    {
     "data": {
      "text/plain": [
       "array([[395,  87],\n",
       "       [ 45, 116]], dtype=int64)"
      ]
     },
     "execution_count": 18,
     "metadata": {},
     "output_type": "execute_result"
    }
   ],
   "source": [
    "confusion_matrix(model_2.predict(data_valid), target_valid)"
   ]
  },
  {
   "cell_type": "markdown",
   "id": "8a8fe522",
   "metadata": {},
   "source": [
    "##### Логистическая регрессия \n",
    "Отслеживаем точность по метрике accuracy (доля правильных ответов) "
   ]
  },
  {
   "cell_type": "code",
   "execution_count": 19,
   "id": "396e1e57",
   "metadata": {},
   "outputs": [
    {
     "data": {
      "text/plain": [
       "0.6982892690513219"
      ]
     },
     "execution_count": 19,
     "metadata": {},
     "output_type": "execute_result"
    }
   ],
   "source": [
    "model = LogisticRegression(random_state=12345, max_iter = 3000)\n",
    "model.fit(data_train, target_train)\n",
    "predict = model.predict(data_valid)\n",
    "score = accuracy_score(target_valid, predict)\n",
    "score"
   ]
  },
  {
   "cell_type": "code",
   "execution_count": 20,
   "id": "1219309f",
   "metadata": {},
   "outputs": [
    {
     "data": {
      "text/plain": [
       "array([[437, 191],\n",
       "       [  3,  12]], dtype=int64)"
      ]
     },
     "execution_count": 20,
     "metadata": {},
     "output_type": "execute_result"
    }
   ],
   "source": [
    "confusion_matrix(model.predict(data_valid), target_valid)"
   ]
  },
  {
   "cell_type": "markdown",
   "id": "04c91760",
   "metadata": {},
   "source": [
    "Самую высокую точность имеет Лес решений с количеством деревьев 12 - 79,1%  <br>\n",
    "Но и Дерево решений имеет малую разницу с победителем, при максимальном количество веток 7 - 78,98% <br>\n",
    "Логистическая регрессия имеет самую малую точность - 70.39%<br>"
   ]
  },
  {
   "cell_type": "markdown",
   "id": "43cafe7e",
   "metadata": {},
   "source": [
    "Т.к. Smart'ом пользуется 70% пользователей из наших данных, поэтому сделаем константную модуль из 0. "
   ]
  },
  {
   "cell_type": "code",
   "execution_count": 21,
   "id": "325251eb",
   "metadata": {},
   "outputs": [],
   "source": [
    "const_model = pd.Series(0, index=target_valid.index) "
   ]
  },
  {
   "cell_type": "code",
   "execution_count": 22,
   "id": "9432c1bf",
   "metadata": {},
   "outputs": [
    {
     "data": {
      "text/plain": [
       "0.6842923794712286"
      ]
     },
     "execution_count": 22,
     "metadata": {},
     "output_type": "execute_result"
    }
   ],
   "source": [
    "accuracy_score(target_valid, const_model)"
   ]
  },
  {
   "cell_type": "markdown",
   "id": "e89794a3",
   "metadata": {},
   "source": [
    "Ай яй, логистическая регрессия оказалась аналогична константной модели по данной метрике, очень много ошибок 1 рода и она не умеет определять истинно отрицательнные ответы. Другие две модели выйграли в точности, потому что смогли распознать истинно отрицательнные значения.  <br>"
   ]
  },
  {
   "cell_type": "code",
   "execution_count": 23,
   "id": "d06d2a27",
   "metadata": {},
   "outputs": [
    {
     "name": "stdout",
     "output_type": "stream",
     "text": [
      "0.7822706065318819\n"
     ]
    },
    {
     "data": {
      "text/plain": [
       "array([[411,  97],\n",
       "       [ 43,  92]], dtype=int64)"
      ]
     },
     "execution_count": 23,
     "metadata": {},
     "output_type": "execute_result"
    }
   ],
   "source": [
    "print(accuracy_score(model_2.predict(data_test), target_test))\n",
    "confusion_matrix(model_2.predict(data_test), target_test)"
   ]
  },
  {
   "cell_type": "code",
   "execution_count": 24,
   "id": "92579660",
   "metadata": {},
   "outputs": [
    {
     "name": "stdout",
     "output_type": "stream",
     "text": [
      "0.7713841368584758\n"
     ]
    },
    {
     "data": {
      "text/plain": [
       "array([[417, 110],\n",
       "       [ 37,  79]], dtype=int64)"
      ]
     },
     "execution_count": 24,
     "metadata": {},
     "output_type": "execute_result"
    }
   ],
   "source": [
    "print(accuracy_score(model_1.predict(data_test), target_test))\n",
    "confusion_matrix(model_1.predict(data_test), target_test)"
   ]
  }
 ],
 "metadata": {
  "kernelspec": {
   "display_name": "Python 3 (ipykernel)",
   "language": "python",
   "name": "python3"
  },
  "language_info": {
   "codemirror_mode": {
    "name": "ipython",
    "version": 3
   },
   "file_extension": ".py",
   "mimetype": "text/x-python",
   "name": "python",
   "nbconvert_exporter": "python",
   "pygments_lexer": "ipython3",
   "version": "3.9.7"
  },
  "toc": {
   "base_numbering": 1,
   "nav_menu": {},
   "number_sections": true,
   "sideBar": true,
   "skip_h1_title": true,
   "title_cell": "Table of Contents",
   "title_sidebar": "Contents",
   "toc_cell": false,
   "toc_position": {},
   "toc_section_display": true,
   "toc_window_display": false
  }
 },
 "nbformat": 4,
 "nbformat_minor": 5
}
